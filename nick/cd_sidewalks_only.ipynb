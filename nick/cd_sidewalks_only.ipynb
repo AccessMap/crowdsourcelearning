{
 "cells": [
  {
   "cell_type": "code",
   "execution_count": 9,
   "metadata": {
    "collapsed": false
   },
   "outputs": [],
   "source": [
    "import json\n",
    "import shapely.geometry"
   ]
  },
  {
   "cell_type": "markdown",
   "metadata": {},
   "source": [
    "Read in several-Mb-large sidewalks geojson"
   ]
  },
  {
   "cell_type": "code",
   "execution_count": 10,
   "metadata": {
    "collapsed": true
   },
   "outputs": [],
   "source": [
    "with open('../data/sidewalks_data.geojson') as f:\n",
    "    cd_fc = json.load(f)"
   ]
  },
  {
   "cell_type": "markdown",
   "metadata": {},
   "source": [
    "Get just the sidewalks in the West Woodland neighborhood"
   ]
  },
  {
   "cell_type": "code",
   "execution_count": 11,
   "metadata": {
    "collapsed": false
   },
   "outputs": [],
   "source": [
    "# West, South, East, North coordinates\n",
    "#greenlake_wsen = [-122.334073,47.674548,-122.319094,47.68183]\n",
    "cd_box = shapely.geometry.Polygon([[-122.3046970367,47.5979667018],\n",
    "                                   [-122.3046970367,47.6006000885],\n",
    "                                   [-122.2997403145,47.6006000885],\n",
    "                                   [-122.2997403145,47.5979667018],\n",
    "                                   [-122.3046970367,47.5979667018]])\n",
    "\n",
    "cd_fc = {'type': 'FeatureCollection', 'features': []}\n",
    "for feature in sidewalk_fc['features']:\n",
    "    if cd_box.intersects(shapely.geometry.shape(feature['geometry'])):\n",
    "        cd_fc['features'].append(feature)"
   ]
  },
  {
   "cell_type": "markdown",
   "metadata": {},
   "source": [
    "Write to file"
   ]
  },
  {
   "cell_type": "code",
   "execution_count": 12,
   "metadata": {
    "collapsed": true
   },
   "outputs": [],
   "source": [
    "with open('../data/sidewalks_data_cd.geojson', 'w') as g:\n",
    "    json.dump(cd_fc, g)"
   ]
  },
  {
   "cell_type": "markdown",
   "metadata": {
    "collapsed": true
   },
   "source": [
    "Combine with places where heuristic model disagrees with crowdsourcing"
   ]
  },
  {
   "cell_type": "code",
   "execution_count": 15,
   "metadata": {
    "collapsed": false
   },
   "outputs": [],
   "source": [
    "with open('../cse546/learndata-errorsHeuristic_onCrowd.geojson') as h:\n",
    "    error_dat = json.load(h)\n",
    "\n",
    "for feature in error_dat['features']:\n",
    "    if cd_box.intersects(shapely.geometry.shape(feature['geometry'])):\n",
    "        cd_fc['features'].append(feature)"
   ]
  },
  {
   "cell_type": "code",
   "execution_count": 16,
   "metadata": {
    "collapsed": true
   },
   "outputs": [],
   "source": [
    "with open('../figures/figure-heuristic-errors.geojson', 'w') as i:\n",
    "    json.dump(cd_fc, i)"
   ]
  },
  {
   "cell_type": "code",
   "execution_count": null,
   "metadata": {
    "collapsed": true
   },
   "outputs": [],
   "source": []
  }
 ],
 "metadata": {
  "kernelspec": {
   "display_name": "Python 2",
   "language": "python",
   "name": "python2"
  },
  "language_info": {
   "codemirror_mode": {
    "name": "ipython",
    "version": 2
   },
   "file_extension": ".py",
   "mimetype": "text/x-python",
   "name": "python",
   "nbconvert_exporter": "python",
   "pygments_lexer": "ipython2",
   "version": "2.7.10"
  }
 },
 "nbformat": 4,
 "nbformat_minor": 0
}
