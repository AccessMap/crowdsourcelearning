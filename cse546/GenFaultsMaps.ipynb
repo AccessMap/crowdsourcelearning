{
 "metadata": {
  "name": "",
  "signature": "sha256:cd39938f21da010cf5b89bd496fcbd6e8ff59db6414dc637f98e29f0e1ec2681"
 },
 "nbformat": 3,
 "nbformat_minor": 0,
 "worksheets": [
  {
   "cells": [
    {
     "cell_type": "code",
     "collapsed": false,
     "input": [
      "from matplotlib import pyplot as plt\n",
      "import numpy as np\n",
      "import pandas as pd\n",
      "from sklearn import cross_validation, linear_model, preprocessing\n",
      "from sklearn.metrics import precision_recall_curve, precision_score, recall_score\n",
      "from __future__ import division\n",
      "%matplotlib inline"
     ],
     "language": "python",
     "metadata": {},
     "outputs": [],
     "prompt_number": 1
    },
    {
     "cell_type": "code",
     "collapsed": false,
     "input": [
      "raw_data = pd.read_csv('./learndata-latest.csv')\n",
      "raw_data.head()"
     ],
     "language": "python",
     "metadata": {},
     "outputs": [
      {
       "html": [
        "<div style=\"max-width:1500px;overflow:auto;\">\n",
        "<table border=\"1\" class=\"dataframe\">\n",
        "  <thead>\n",
        "    <tr style=\"text-align: right;\">\n",
        "      <th></th>\n",
        "      <th>connected</th>\n",
        "      <th>id_i</th>\n",
        "      <th>id_j</th>\n",
        "      <th>length_i</th>\n",
        "      <th>length_j</th>\n",
        "      <th>side_i</th>\n",
        "      <th>side_j</th>\n",
        "      <th>sw_width_i</th>\n",
        "      <th>sw_width_j</th>\n",
        "      <th>curbtype_i</th>\n",
        "      <th>...</th>\n",
        "      <th>surftype_i</th>\n",
        "      <th>surftype_j</th>\n",
        "      <th>intersects</th>\n",
        "      <th>near_angle</th>\n",
        "      <th>near_distance</th>\n",
        "      <th>near_line</th>\n",
        "      <th>near_line_srid</th>\n",
        "      <th>bid_i</th>\n",
        "      <th>bid_j</th>\n",
        "      <th>intersects_street</th>\n",
        "    </tr>\n",
        "  </thead>\n",
        "  <tbody>\n",
        "    <tr>\n",
        "      <th>0</th>\n",
        "      <td>0</td>\n",
        "      <td>289092</td>\n",
        "      <td>299107</td>\n",
        "      <td>297.230378</td>\n",
        "      <td>313.835648</td>\n",
        "      <td>W</td>\n",
        "      <td>S</td>\n",
        "      <td>60</td>\n",
        "      <td>60</td>\n",
        "      <td>410C</td>\n",
        "      <td>...</td>\n",
        "      <td>PCC</td>\n",
        "      <td>AC</td>\n",
        "      <td>f</td>\n",
        "      <td>-2.283203</td>\n",
        "      <td>34.436532</td>\n",
        "      <td>LINESTRING(-122.319447001456 47.6008471113961,...</td>\n",
        "      <td>4326</td>\n",
        "      <td>NaN</td>\n",
        "      <td>3352</td>\n",
        "      <td>0</td>\n",
        "    </tr>\n",
        "    <tr>\n",
        "      <th>1</th>\n",
        "      <td>0</td>\n",
        "      <td>293102</td>\n",
        "      <td>331808</td>\n",
        "      <td>431.833749</td>\n",
        "      <td>434.510666</td>\n",
        "      <td>W</td>\n",
        "      <td>W</td>\n",
        "      <td>52</td>\n",
        "      <td>72</td>\n",
        "      <td>AR</td>\n",
        "      <td>...</td>\n",
        "      <td>PCC</td>\n",
        "      <td>PCC</td>\n",
        "      <td>f</td>\n",
        "      <td>3.141594</td>\n",
        "      <td>26.949339</td>\n",
        "      <td>LINESTRING(-122.350055372668 47.6554398660144,...</td>\n",
        "      <td>4326</td>\n",
        "      <td>2831</td>\n",
        "      <td>2831</td>\n",
        "      <td>0</td>\n",
        "    </tr>\n",
        "    <tr>\n",
        "      <th>2</th>\n",
        "      <td>0</td>\n",
        "      <td>313868</td>\n",
        "      <td>313874</td>\n",
        "      <td>218.799534</td>\n",
        "      <td>180.349589</td>\n",
        "      <td>S</td>\n",
        "      <td>S</td>\n",
        "      <td>0</td>\n",
        "      <td>0</td>\n",
        "      <td>410B</td>\n",
        "      <td>...</td>\n",
        "      <td>UIMPRV</td>\n",
        "      <td>UIMPRV</td>\n",
        "      <td>f</td>\n",
        "      <td>-0.191456</td>\n",
        "      <td>4.190603</td>\n",
        "      <td>LINESTRING(-122.362966756884 47.5713328446345,...</td>\n",
        "      <td>4326</td>\n",
        "      <td>NaN</td>\n",
        "      <td>NaN</td>\n",
        "      <td>0</td>\n",
        "    </tr>\n",
        "    <tr>\n",
        "      <th>3</th>\n",
        "      <td>0</td>\n",
        "      <td>319890</td>\n",
        "      <td>322466</td>\n",
        "      <td>225.852123</td>\n",
        "      <td>272.643093</td>\n",
        "      <td>SE</td>\n",
        "      <td>E</td>\n",
        "      <td>60</td>\n",
        "      <td>60</td>\n",
        "      <td>410C</td>\n",
        "      <td>...</td>\n",
        "      <td>PCC</td>\n",
        "      <td>PCC</td>\n",
        "      <td>f</td>\n",
        "      <td>3.723988</td>\n",
        "      <td>13.995332</td>\n",
        "      <td>LINESTRING(-122.395081951736 47.5849380800841,...</td>\n",
        "      <td>4326</td>\n",
        "      <td>575</td>\n",
        "      <td>575</td>\n",
        "      <td>0</td>\n",
        "    </tr>\n",
        "    <tr>\n",
        "      <th>4</th>\n",
        "      <td>0</td>\n",
        "      <td>319292</td>\n",
        "      <td>319294</td>\n",
        "      <td>313.080031</td>\n",
        "      <td>623.754118</td>\n",
        "      <td>N</td>\n",
        "      <td>N</td>\n",
        "      <td>0</td>\n",
        "      <td>0</td>\n",
        "      <td>NONE</td>\n",
        "      <td>...</td>\n",
        "      <td>UIMPRV</td>\n",
        "      <td>UIMPRV</td>\n",
        "      <td>f</td>\n",
        "      <td>-3.141596</td>\n",
        "      <td>26.933899</td>\n",
        "      <td>LINESTRING(-122.368266891496 47.5538036466461,...</td>\n",
        "      <td>4326</td>\n",
        "      <td>723</td>\n",
        "      <td>723</td>\n",
        "      <td>0</td>\n",
        "    </tr>\n",
        "  </tbody>\n",
        "</table>\n",
        "<p>5 rows \u00d7 21 columns</p>\n",
        "</div>"
       ],
       "metadata": {},
       "output_type": "pyout",
       "prompt_number": 2,
       "text": [
        "   connected    id_i    id_j    length_i    length_j side_i side_j  \\\n",
        "0          0  289092  299107  297.230378  313.835648      W      S   \n",
        "1          0  293102  331808  431.833749  434.510666      W      W   \n",
        "2          0  313868  313874  218.799534  180.349589      S      S   \n",
        "3          0  319890  322466  225.852123  272.643093     SE      E   \n",
        "4          0  319292  319294  313.080031  623.754118      N      N   \n",
        "\n",
        "   sw_width_i  sw_width_j curbtype_i        ...         surftype_i surftype_j  \\\n",
        "0          60          60       410C        ...                PCC         AC   \n",
        "1          52          72         AR        ...                PCC        PCC   \n",
        "2           0           0       410B        ...             UIMPRV     UIMPRV   \n",
        "3          60          60       410C        ...                PCC        PCC   \n",
        "4           0           0       NONE        ...             UIMPRV     UIMPRV   \n",
        "\n",
        "  intersects near_angle  near_distance  \\\n",
        "0          f  -2.283203      34.436532   \n",
        "1          f   3.141594      26.949339   \n",
        "2          f  -0.191456       4.190603   \n",
        "3          f   3.723988      13.995332   \n",
        "4          f  -3.141596      26.933899   \n",
        "\n",
        "                                           near_line near_line_srid  bid_i  \\\n",
        "0  LINESTRING(-122.319447001456 47.6008471113961,...           4326    NaN   \n",
        "1  LINESTRING(-122.350055372668 47.6554398660144,...           4326   2831   \n",
        "2  LINESTRING(-122.362966756884 47.5713328446345,...           4326    NaN   \n",
        "3  LINESTRING(-122.395081951736 47.5849380800841,...           4326    575   \n",
        "4  LINESTRING(-122.368266891496 47.5538036466461,...           4326    723   \n",
        "\n",
        "   bid_j  intersects_street  \n",
        "0   3352                  0  \n",
        "1   2831                  0  \n",
        "2    NaN                  0  \n",
        "3    575                  0  \n",
        "4    723                  0  \n",
        "\n",
        "[5 rows x 21 columns]"
       ]
      }
     ],
     "prompt_number": 2
    },
    {
     "cell_type": "code",
     "collapsed": false,
     "input": [
      "crowd_labels = pd.read_csv('./crowdsource-20160208.csv')\n",
      "crowd_labels.head()"
     ],
     "language": "python",
     "metadata": {},
     "outputs": [
      {
       "html": [
        "<div style=\"max-width:1500px;overflow:auto;\">\n",
        "<table border=\"1\" class=\"dataframe\">\n",
        "  <thead>\n",
        "    <tr style=\"text-align: right;\">\n",
        "      <th></th>\n",
        "      <th>swi_id</th>\n",
        "      <th>swj_id</th>\n",
        "      <th>swi_geom</th>\n",
        "      <th>swj_geom</th>\n",
        "      <th>connected</th>\n",
        "      <th>username</th>\n",
        "      <th>timestamp</th>\n",
        "    </tr>\n",
        "  </thead>\n",
        "  <tbody>\n",
        "    <tr>\n",
        "      <th>0</th>\n",
        "      <td>311597</td>\n",
        "      <td>311598</td>\n",
        "      <td>01020000000200000085C2FCA55A945EC03691401219D2...</td>\n",
        "      <td>010200000002000000DB7768EC57945EC0A010211219D2...</td>\n",
        "      <td>0</td>\n",
        "      <td>caspian</td>\n",
        "      <td>2016-02-01 23:03:41.168387+00</td>\n",
        "    </tr>\n",
        "    <tr>\n",
        "      <th>1</th>\n",
        "      <td>302056</td>\n",
        "      <td>302687</td>\n",
        "      <td>010200000002000000AB4840EDEB965EC0BFB16BC256D2...</td>\n",
        "      <td>0102000000020000009AECE51ED8965EC0F0C5418970D2...</td>\n",
        "      <td>1</td>\n",
        "      <td>caspian</td>\n",
        "      <td>2016-02-01 23:03:43.513612+00</td>\n",
        "    </tr>\n",
        "    <tr>\n",
        "      <th>2</th>\n",
        "      <td>298890</td>\n",
        "      <td>302933</td>\n",
        "      <td>0102000000020000005DB5C7D7F6995EC05B821FC124D3...</td>\n",
        "      <td>010200000002000000AD9E97BEE4995EC0D6F8007D07D3...</td>\n",
        "      <td>0</td>\n",
        "      <td>caspian</td>\n",
        "      <td>2016-02-01 23:03:46.180886+00</td>\n",
        "    </tr>\n",
        "    <tr>\n",
        "      <th>3</th>\n",
        "      <td>326590</td>\n",
        "      <td>327223</td>\n",
        "      <td>010200000002000000F3A03016C9985EC05A320173C2C3...</td>\n",
        "      <td>0102000000020000000FE6F93FC9985EC0FAD5BE72DDC3...</td>\n",
        "      <td>1</td>\n",
        "      <td>caspian</td>\n",
        "      <td>2016-02-01 23:04:12.130805+00</td>\n",
        "    </tr>\n",
        "    <tr>\n",
        "      <th>4</th>\n",
        "      <td>305742</td>\n",
        "      <td>305743</td>\n",
        "      <td>01020000000200000074A5B707A4925EC071427AD87DD6...</td>\n",
        "      <td>0102000000020000002F98D0AEB2925EC001FFB3BA7DD6...</td>\n",
        "      <td>1</td>\n",
        "      <td>caspian</td>\n",
        "      <td>2016-02-01 23:04:15.218594+00</td>\n",
        "    </tr>\n",
        "  </tbody>\n",
        "</table>\n",
        "</div>"
       ],
       "metadata": {},
       "output_type": "pyout",
       "prompt_number": 3,
       "text": [
        "   swi_id  swj_id                                           swi_geom  \\\n",
        "0  311597  311598  01020000000200000085C2FCA55A945EC03691401219D2...   \n",
        "1  302056  302687  010200000002000000AB4840EDEB965EC0BFB16BC256D2...   \n",
        "2  298890  302933  0102000000020000005DB5C7D7F6995EC05B821FC124D3...   \n",
        "3  326590  327223  010200000002000000F3A03016C9985EC05A320173C2C3...   \n",
        "4  305742  305743  01020000000200000074A5B707A4925EC071427AD87DD6...   \n",
        "\n",
        "                                            swj_geom  connected username  \\\n",
        "0  010200000002000000DB7768EC57945EC0A010211219D2...          0  caspian   \n",
        "1  0102000000020000009AECE51ED8965EC0F0C5418970D2...          1  caspian   \n",
        "2  010200000002000000AD9E97BEE4995EC0D6F8007D07D3...          0  caspian   \n",
        "3  0102000000020000000FE6F93FC9985EC0FAD5BE72DDC3...          1  caspian   \n",
        "4  0102000000020000002F98D0AEB2925EC001FFB3BA7DD6...          1  caspian   \n",
        "\n",
        "                       timestamp  \n",
        "0  2016-02-01 23:03:41.168387+00  \n",
        "1  2016-02-01 23:03:43.513612+00  \n",
        "2  2016-02-01 23:03:46.180886+00  \n",
        "3  2016-02-01 23:04:12.130805+00  \n",
        "4  2016-02-01 23:04:15.218594+00  "
       ]
      }
     ],
     "prompt_number": 3
    },
    {
     "cell_type": "code",
     "collapsed": false,
     "input": [
      "raw_data2 = pd.DataFrame()\n",
      "\n",
      "True_disagree = 0. \n",
      "False_disagree = 0. \n",
      "\n",
      "NoConn = sum(raw_data['connected'])\n",
      "NotConn = len(raw_data) - NoConn + 0. \n",
      "\n",
      "for i in range(0,len(crowd_labels)):\n",
      "    temp = raw_data[raw_data['id_i']==crowd_labels['swi_id'][i]]\n",
      "    temp2 = temp[temp['id_j']==crowd_labels['swj_id'][i]]\n",
      "    raw_data2 = raw_data2.append(temp2,ignore_index=True)\n",
      "    \n",
      "\n",
      "    if (i%1000==0):\n",
      "        print i\n",
      "          "
     ],
     "language": "python",
     "metadata": {},
     "outputs": [
      {
       "output_type": "stream",
       "stream": "stdout",
       "text": [
        "0\n",
        "1000"
       ]
      },
      {
       "output_type": "stream",
       "stream": "stdout",
       "text": [
        "\n",
        "2000"
       ]
      },
      {
       "output_type": "stream",
       "stream": "stdout",
       "text": [
        "\n",
        "3000"
       ]
      },
      {
       "output_type": "stream",
       "stream": "stdout",
       "text": [
        "\n",
        "4000"
       ]
      },
      {
       "output_type": "stream",
       "stream": "stdout",
       "text": [
        "\n",
        "5000"
       ]
      },
      {
       "output_type": "stream",
       "stream": "stdout",
       "text": [
        "\n",
        "6000"
       ]
      },
      {
       "output_type": "stream",
       "stream": "stdout",
       "text": [
        "\n",
        "7000"
       ]
      },
      {
       "output_type": "stream",
       "stream": "stdout",
       "text": [
        "\n",
        "8000"
       ]
      },
      {
       "output_type": "stream",
       "stream": "stdout",
       "text": [
        "\n",
        "9000"
       ]
      },
      {
       "output_type": "stream",
       "stream": "stdout",
       "text": [
        "\n",
        "10000"
       ]
      },
      {
       "output_type": "stream",
       "stream": "stdout",
       "text": [
        "\n"
       ]
      }
     ],
     "prompt_number": 4
    },
    {
     "cell_type": "code",
     "collapsed": false,
     "input": [
      "raw_data2.head()\n",
      "NoDis = sum(raw_data2['connected']!=crowd_labels['connected'])\n",
      "print NoDis\n",
      "raw_data2['connected']=crowd_labels['connected']"
     ],
     "language": "python",
     "metadata": {},
     "outputs": [
      {
       "output_type": "stream",
       "stream": "stdout",
       "text": [
        "936\n"
       ]
      }
     ],
     "prompt_number": 5
    },
    {
     "cell_type": "code",
     "collapsed": false,
     "input": [
      "# Remove features that we shouldn't learn (encoded geometries and sidewalk ID numbers)\n",
      "near_line = raw_data2['near_line']  # Save for later\n",
      "del raw_data2['near_line']\n",
      "del raw_data2['id_i']\n",
      "del raw_data2['id_j']"
     ],
     "language": "python",
     "metadata": {},
     "outputs": [],
     "prompt_number": 6
    },
    {
     "cell_type": "code",
     "collapsed": false,
     "input": [
      "# Binarizes categorical variables \n",
      "# (e.g. if 3 categories, makes 3 cols with 1s and 0s)\n",
      "# X = pd.get_dummies(raw_data)  \n",
      "\n",
      "# Turn categorical variables into integer labels\n",
      "label_encoder = preprocessing.LabelEncoder()\n",
      "raw_data2['curbtype_i'] = label_encoder.fit_transform(raw_data2['curbtype_i'])\n",
      "raw_data2['curbtype_j'] = label_encoder.fit_transform(raw_data2['curbtype_j'])\n",
      "raw_data2['side_i'] = label_encoder.fit_transform(raw_data2['side_i'])\n",
      "raw_data2['side_j'] = label_encoder.fit_transform(raw_data2['side_j'])\n",
      "raw_data2['surftype_i'] = label_encoder.fit_transform(raw_data2['surftype_i'])\n",
      "raw_data2['surftype_j'] = label_encoder.fit_transform(raw_data2['surftype_j'])\n",
      "raw_data2['intersects'] = label_encoder.fit_transform(raw_data2['intersects'])\n",
      "\n",
      "X = raw_data2\n",
      "\n",
      "X['same_curbtype'] = (X['curbtype_i'] == X['curbtype_j']).astype(int)\n",
      "X['same_surftype'] = (X['surftype_i'] == X['surftype_j']).astype(int)\n",
      "X['same_block'] = (X['bid_i'] == X['bid_j']).astype(int)\n",
      "X['same_side'] = (X['side_i'] == X['side_j']).astype(int)\n",
      "\n",
      "# TODO: There's probably more features we can generate with these two lengths\n",
      "X['length_diff'] = abs(X['length_i'] - X['length_j'])\n",
      "X['sw_width_diff'] = abs(X['sw_width_i'] - X['sw_width_j'])\n",
      "\n",
      "y = X['connected']\n",
      "X = X.drop('connected', 1)\n",
      "X = X.drop('curbtype_i', 1)\n",
      "X = X.drop('curbtype_j', 1)\n",
      "X = X.drop('surftype_i', 1)\n",
      "X = X.drop('surftype_j', 1)\n",
      "\n",
      "X['near_angle'] = abs(X['near_angle'])\n",
      "\n",
      "del X['bid_i']  # This has NaN and will cause errors in sklearn\n",
      "del X['bid_j']\n",
      "\n",
      "del X['side_i']\n",
      "del X['side_j']\n",
      "del X['length_i']\n",
      "del X['length_j']\n",
      "del X['sw_width_i']\n",
      "del X['sw_width_j']\n",
      "\n",
      "X.head()"
     ],
     "language": "python",
     "metadata": {},
     "outputs": [
      {
       "html": [
        "<div style=\"max-width:1500px;overflow:auto;\">\n",
        "<table border=\"1\" class=\"dataframe\">\n",
        "  <thead>\n",
        "    <tr style=\"text-align: right;\">\n",
        "      <th></th>\n",
        "      <th>intersects</th>\n",
        "      <th>near_angle</th>\n",
        "      <th>near_distance</th>\n",
        "      <th>near_line_srid</th>\n",
        "      <th>intersects_street</th>\n",
        "      <th>same_curbtype</th>\n",
        "      <th>same_surftype</th>\n",
        "      <th>same_block</th>\n",
        "      <th>same_side</th>\n",
        "      <th>length_diff</th>\n",
        "      <th>sw_width_diff</th>\n",
        "    </tr>\n",
        "  </thead>\n",
        "  <tbody>\n",
        "    <tr>\n",
        "      <th>0</th>\n",
        "      <td>0</td>\n",
        "      <td>0.000000</td>\n",
        "      <td>41.000105</td>\n",
        "      <td>4326</td>\n",
        "      <td>1</td>\n",
        "      <td>1</td>\n",
        "      <td>0</td>\n",
        "      <td>0</td>\n",
        "      <td>0</td>\n",
        "      <td>0.000000</td>\n",
        "      <td>0</td>\n",
        "    </tr>\n",
        "    <tr>\n",
        "      <th>1</th>\n",
        "      <td>1</td>\n",
        "      <td>4.692461</td>\n",
        "      <td>8.788482</td>\n",
        "      <td>4326</td>\n",
        "      <td>0</td>\n",
        "      <td>1</td>\n",
        "      <td>0</td>\n",
        "      <td>1</td>\n",
        "      <td>0</td>\n",
        "      <td>8.158430</td>\n",
        "      <td>2</td>\n",
        "    </tr>\n",
        "    <tr>\n",
        "      <th>2</th>\n",
        "      <td>0</td>\n",
        "      <td>1.574324</td>\n",
        "      <td>48.002503</td>\n",
        "      <td>4326</td>\n",
        "      <td>1</td>\n",
        "      <td>1</td>\n",
        "      <td>0</td>\n",
        "      <td>0</td>\n",
        "      <td>1</td>\n",
        "      <td>53.729109</td>\n",
        "      <td>0</td>\n",
        "    </tr>\n",
        "    <tr>\n",
        "      <th>3</th>\n",
        "      <td>1</td>\n",
        "      <td>5.334800</td>\n",
        "      <td>27.661917</td>\n",
        "      <td>4326</td>\n",
        "      <td>0</td>\n",
        "      <td>1</td>\n",
        "      <td>0</td>\n",
        "      <td>1</td>\n",
        "      <td>0</td>\n",
        "      <td>379.537043</td>\n",
        "      <td>0</td>\n",
        "    </tr>\n",
        "    <tr>\n",
        "      <th>4</th>\n",
        "      <td>0</td>\n",
        "      <td>3.140903</td>\n",
        "      <td>13.948025</td>\n",
        "      <td>4326</td>\n",
        "      <td>0</td>\n",
        "      <td>1</td>\n",
        "      <td>0</td>\n",
        "      <td>1</td>\n",
        "      <td>0</td>\n",
        "      <td>25.838839</td>\n",
        "      <td>0</td>\n",
        "    </tr>\n",
        "  </tbody>\n",
        "</table>\n",
        "</div>"
       ],
       "metadata": {},
       "output_type": "pyout",
       "prompt_number": 7,
       "text": [
        "   intersects  near_angle  near_distance  near_line_srid  intersects_street  \\\n",
        "0           0    0.000000      41.000105            4326                  1   \n",
        "1           1    4.692461       8.788482            4326                  0   \n",
        "2           0    1.574324      48.002503            4326                  1   \n",
        "3           1    5.334800      27.661917            4326                  0   \n",
        "4           0    3.140903      13.948025            4326                  0   \n",
        "\n",
        "   same_curbtype  same_surftype  same_block  same_side  length_diff  \\\n",
        "0              1              0           0          0     0.000000   \n",
        "1              1              0           1          0     8.158430   \n",
        "2              1              0           0          1    53.729109   \n",
        "3              1              0           1          0   379.537043   \n",
        "4              1              0           1          0    25.838839   \n",
        "\n",
        "   sw_width_diff  \n",
        "0              0  \n",
        "1              2  \n",
        "2              0  \n",
        "3              0  \n",
        "4              0  "
       ]
      }
     ],
     "prompt_number": 7
    },
    {
     "cell_type": "code",
     "collapsed": false,
     "input": [
      "# Scaling appropriate features by subtracting mean and scaling to unit variance\n",
      "scaler = preprocessing.StandardScaler()\n",
      "\n",
      "X['near_distance'] = scaler.fit_transform(X['near_distance'])\n",
      "X['length_diff'] = scaler.fit_transform(X['length_diff'])\n",
      "X['sw_width_diff'] = scaler.fit_transform(X['sw_width_diff'])"
     ],
     "language": "python",
     "metadata": {},
     "outputs": [
      {
       "output_type": "stream",
       "stream": "stderr",
       "text": [
        "C:\\Python27\\lib\\site-packages\\sklearn\\preprocessing\\data.py:583: DeprecationWarning: Passing 1d arrays as data is deprecated in 0.17 and will raise ValueError in 0.19. Reshape your data either using X.reshape(-1, 1) if your data has a single feature or X.reshape(1, -1) if it contains a single sample.\n",
        "  warnings.warn(DEPRECATION_MSG_1D, DeprecationWarning)\n",
        "C:\\Python27\\lib\\site-packages\\sklearn\\preprocessing\\data.py:646: DeprecationWarning: Passing 1d arrays as data is deprecated in 0.17 and will raise ValueError in 0.19. Reshape your data either using X.reshape(-1, 1) if your data has a single feature or X.reshape(1, -1) if it contains a single sample.\n",
        "  warnings.warn(DEPRECATION_MSG_1D, DeprecationWarning)\n",
        "C:\\Python27\\lib\\site-packages\\sklearn\\preprocessing\\data.py:583: DeprecationWarning: Passing 1d arrays as data is deprecated in 0.17 and will raise ValueError in 0.19. Reshape your data either using X.reshape(-1, 1) if your data has a single feature or X.reshape(1, -1) if it contains a single sample.\n",
        "  warnings.warn(DEPRECATION_MSG_1D, DeprecationWarning)\n",
        "C:\\Python27\\lib\\site-packages\\sklearn\\preprocessing\\data.py:646: DeprecationWarning: Passing 1d arrays as data is deprecated in 0.17 and will raise ValueError in 0.19. Reshape your data either using X.reshape(-1, 1) if your data has a single feature or X.reshape(1, -1) if it contains a single sample.\n",
        "  warnings.warn(DEPRECATION_MSG_1D, DeprecationWarning)\n",
        "C:\\Python27\\lib\\site-packages\\sklearn\\utils\\validation.py:420: DataConversionWarning: Data with input dtype int64 was converted to float64 by StandardScaler.\n",
        "  warnings.warn(msg, DataConversionWarning)\n",
        "C:\\Python27\\lib\\site-packages\\sklearn\\preprocessing\\data.py:583: DeprecationWarning: Passing 1d arrays as data is deprecated in 0.17 and will raise ValueError in 0.19. Reshape your data either using X.reshape(-1, 1) if your data has a single feature or X.reshape(1, -1) if it contains a single sample.\n",
        "  warnings.warn(DEPRECATION_MSG_1D, DeprecationWarning)\n",
        "C:\\Python27\\lib\\site-packages\\sklearn\\utils\\validation.py:420: DataConversionWarning: Data with input dtype int64 was converted to float64 by StandardScaler.\n",
        "  warnings.warn(msg, DataConversionWarning)\n",
        "C:\\Python27\\lib\\site-packages\\sklearn\\preprocessing\\data.py:646: DeprecationWarning: Passing 1d arrays as data is deprecated in 0.17 and will raise ValueError in 0.19. Reshape your data either using X.reshape(-1, 1) if your data has a single feature or X.reshape(1, -1) if it contains a single sample.\n",
        "  warnings.warn(DEPRECATION_MSG_1D, DeprecationWarning)\n"
       ]
      }
     ],
     "prompt_number": 8
    },
    {
     "cell_type": "code",
     "collapsed": false,
     "input": [
      "X_train, X_test, y_train, y_test = cross_validation.train_test_split(X, y, test_size=0.5, random_state=6883)"
     ],
     "language": "python",
     "metadata": {},
     "outputs": [],
     "prompt_number": 9
    },
    {
     "cell_type": "code",
     "collapsed": false,
     "input": [
      "from sklearn import svm\n",
      "\n",
      "#SVM with a RBF kernel \n",
      "svmR = svm.SVC(kernel='rbf')\n",
      "svmR.fit(X_train, y_train)\n",
      "print svmR.score(X_test, y_test)\n",
      "svmR_pred = svmR.predict(X_test)\n",
      "print precision_score(y_test, svmR_pred)\n",
      "print recall_score(y_test, svmR_pred)"
     ],
     "language": "python",
     "metadata": {},
     "outputs": [
      {
       "output_type": "stream",
       "stream": "stdout",
       "text": [
        "0.958278519075\n",
        "0.913242009132"
       ]
      },
      {
       "output_type": "stream",
       "stream": "stdout",
       "text": [
        "\n",
        "0.887311446318\n"
       ]
      }
     ],
     "prompt_number": 11
    },
    {
     "cell_type": "code",
     "collapsed": false,
     "input": [
      "X_pred = svmR.predict(X)\n",
      "\n",
      "X_out = X.copy()\n",
      "X_acc = X_pred == y\n",
      "\n",
      "true_positives = X_out[np.logical_and(X_pred, X_acc)]\n",
      "false_positives = X_out[np.logical_and(X_pred, np.logical_not(X_acc))]\n",
      "true_negatives = X_out[np.logical_and(np.logical_not(X_pred), X_acc)]\n",
      "false_negatives = X_out[np.logical_and(np.logical_not(X_pred), np.logical_not(X_acc))]\n",
      "\n",
      "print true_positives.shape\n",
      "print true_negatives.shape\n",
      "print false_positives.shape\n",
      "print false_negatives.shape"
     ],
     "language": "python",
     "metadata": {},
     "outputs": [
      {
       "output_type": "stream",
       "stream": "stdout",
       "text": [
        "(2000, 11)\n",
        "(8180, 11)\n",
        "(198, 11)\n",
        "(263, 11)\n"
       ]
      }
     ],
     "prompt_number": 12
    },
    {
     "cell_type": "code",
     "collapsed": false,
     "input": [
      "# Export errors as geojson for visualizing on github\n",
      "import json\n",
      "from shapely import wkt\n",
      "from shapely.geometry import mapping\n",
      "\n",
      "geojson = {}\n",
      "geojson['type'] = 'FeatureCollection'\n",
      "geojson['features'] = []\n",
      "\n",
      "for i in range(len(X_pred)):\n",
      "    if not X_acc[i]:\n",
      "        feature = {}\n",
      "        feature['type'] = 'Feature'\n",
      "        geom = wkt.loads(near_line[i])\n",
      "        feature['geometry'] = mapping(geom)\n",
      "        if X_pred[i]:\n",
      "            properties = {'predicted': 1,\n",
      "                          'type': 'false positive',\n",
      "                          'stroke': '#FC0000',\n",
      "                          'stroke-width': 5}\n",
      "        else:\n",
      "            properties = {'predicted': 0,\n",
      "                          'type': 'false negative',\n",
      "                          'stroke': '#093CA8',\n",
      "                          'stroke-width': 5}\n",
      "        feature['properties'] = properties\n",
      "        geojson['features'].append(feature)\n",
      "        \n",
      "with open('./learndata-errorsCrowd.geojson', 'w') as f:\n",
      "    json.dump(geojson, f)"
     ],
     "language": "python",
     "metadata": {},
     "outputs": [],
     "prompt_number": 14
    },
    {
     "cell_type": "code",
     "collapsed": false,
     "input": [
      "raw_data3 = pd.DataFrame()\n",
      "\n",
      "True_disagree = 0. \n",
      "False_disagree = 0. \n",
      "\n",
      "NoConn = sum(raw_data['connected'])\n",
      "NotConn = len(raw_data) - NoConn + 0. \n",
      "\n",
      "for i in range(0,len(crowd_labels)):\n",
      "    temp = raw_data[raw_data['id_i']==crowd_labels['swi_id'][i]]\n",
      "    temp2 = temp[temp['id_j']==crowd_labels['swj_id'][i]]\n",
      "    raw_data3 = raw_data3.append(temp2,ignore_index=True)\n",
      "    \n",
      "\n",
      "    if (i%1000==0):\n",
      "        print i\n",
      "\n",
      "y3 = raw_data3['connected']        "
     ],
     "language": "python",
     "metadata": {},
     "outputs": [
      {
       "output_type": "stream",
       "stream": "stdout",
       "text": [
        "0\n",
        "1000"
       ]
      },
      {
       "output_type": "stream",
       "stream": "stdout",
       "text": [
        "\n",
        "2000"
       ]
      },
      {
       "output_type": "stream",
       "stream": "stdout",
       "text": [
        "\n",
        "3000"
       ]
      },
      {
       "output_type": "stream",
       "stream": "stdout",
       "text": [
        "\n",
        "4000"
       ]
      },
      {
       "output_type": "stream",
       "stream": "stdout",
       "text": [
        "\n",
        "5000"
       ]
      },
      {
       "output_type": "stream",
       "stream": "stdout",
       "text": [
        "\n",
        "6000"
       ]
      },
      {
       "output_type": "stream",
       "stream": "stdout",
       "text": [
        "\n",
        "7000"
       ]
      },
      {
       "output_type": "stream",
       "stream": "stdout",
       "text": [
        "\n",
        "8000"
       ]
      },
      {
       "output_type": "stream",
       "stream": "stdout",
       "text": [
        "\n",
        "9000"
       ]
      },
      {
       "output_type": "stream",
       "stream": "stdout",
       "text": [
        "\n",
        "10000"
       ]
      },
      {
       "output_type": "stream",
       "stream": "stdout",
       "text": [
        "\n"
       ]
      }
     ],
     "prompt_number": 15
    },
    {
     "cell_type": "code",
     "collapsed": false,
     "input": [
      "X_pred = y3\n",
      "\n",
      "X_out = X.copy()\n",
      "X_acc = X_pred == y\n",
      "\n",
      "true_positives = X_out[np.logical_and(X_pred, X_acc)]\n",
      "false_positives = X_out[np.logical_and(X_pred, np.logical_not(X_acc))]\n",
      "true_negatives = X_out[np.logical_and(np.logical_not(X_pred), X_acc)]\n",
      "false_negatives = X_out[np.logical_and(np.logical_not(X_pred), np.logical_not(X_acc))]\n",
      "\n",
      "print true_positives.shape\n",
      "print true_negatives.shape\n",
      "print false_positives.shape\n",
      "print false_negatives.shape\n",
      "\n",
      "\n",
      "geojson = {}\n",
      "geojson['type'] = 'FeatureCollection'\n",
      "geojson['features'] = []\n",
      "\n",
      "for i in range(len(X_pred)):\n",
      "    if not X_acc[i]:\n",
      "        feature = {}\n",
      "        feature['type'] = 'Feature'\n",
      "        geom = wkt.loads(near_line[i])\n",
      "        feature['geometry'] = mapping(geom)\n",
      "        if X_pred[i]:\n",
      "            properties = {'predicted': 1,\n",
      "                          'type': 'false positive',\n",
      "                          'stroke': '#FC0000',\n",
      "                          'stroke-width': 5}\n",
      "        else:\n",
      "            properties = {'predicted': 0,\n",
      "                          'type': 'false negative',\n",
      "                          'stroke': '#093CA8',\n",
      "                          'stroke-width': 5}\n",
      "        feature['properties'] = properties\n",
      "        geojson['features'].append(feature)\n",
      "        \n",
      "with open('./learndata-errorsHeuristic_onCrowd.geojson', 'w') as f:\n",
      "    json.dump(geojson, f)\n"
     ],
     "language": "python",
     "metadata": {},
     "outputs": [
      {
       "output_type": "stream",
       "stream": "stdout",
       "text": [
        "(1544, 11)\n",
        "(8161, 11)\n",
        "(217, 11)\n",
        "(719, 11)\n"
       ]
      }
     ],
     "prompt_number": 16
    },
    {
     "cell_type": "code",
     "collapsed": false,
     "input": [],
     "language": "python",
     "metadata": {},
     "outputs": []
    }
   ],
   "metadata": {}
  }
 ]
}