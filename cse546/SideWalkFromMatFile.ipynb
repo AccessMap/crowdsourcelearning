{
 "metadata": {
  "name": "",
  "signature": "sha256:c088e0182b6ad3da8d2477888cad3470d780d1c0eb44092455da18e3de038130"
 },
 "nbformat": 3,
 "nbformat_minor": 0,
 "worksheets": [
  {
   "cells": [
    {
     "cell_type": "code",
     "collapsed": false,
     "input": [
      "import pandas as pd\n",
      "import numpy as np\n",
      "import scipy.io as io\n",
      "import scipy.sparse as sp\n",
      "import matplotlib.pyplot as plt\n",
      "from __future__ import division\n",
      "from sklearn import linear_model\n",
      "import gc\n",
      "%matplotlib inline"
     ],
     "language": "python",
     "metadata": {},
     "outputs": [],
     "prompt_number": 1
    },
    {
     "cell_type": "code",
     "collapsed": false,
     "input": [
      "#disable garbage collection \n",
      "gc.disable()"
     ],
     "language": "python",
     "metadata": {},
     "outputs": [],
     "prompt_number": 2
    },
    {
     "cell_type": "heading",
     "level": 3,
     "metadata": {},
     "source": [
      "Import mat file containing training data "
     ]
    },
    {
     "cell_type": "code",
     "collapsed": false,
     "input": [
      "X = io.loadmat('SideWalkX1.mat')\n",
      "X = np.hstack((X['X_train1'][0:10000,2:11],X['X_train1'][0:10000,12:]))\n",
      "Y = io.loadmat('SideWalkY1.mat')\n",
      "Y = Y['y_train1']\n",
      "Y = Y[0,0:10000]\n",
      "Xt = io.loadmat('SideWalkX1.mat')\n",
      "Xt = np.hstack((Xt['X_train1'][20000:30000,2:11],Xt['X_train1'][20000:30000,12:]))\n",
      "Yt = io.loadmat('SideWalkY1.mat')\n",
      "Yt = Yt['y_train1']\n",
      "Yt = Yt[0,20000:30000]"
     ],
     "language": "python",
     "metadata": {},
     "outputs": [],
     "prompt_number": 3
    },
    {
     "cell_type": "heading",
     "level": 3,
     "metadata": {},
     "source": [
      "Preprocess data"
     ]
    },
    {
     "cell_type": "code",
     "collapsed": false,
     "input": [
      "from sklearn import preprocessing\n",
      "\n",
      "min_max_scaler = preprocessing.MinMaxScaler()\n",
      "X = min_max_scaler.fit_transform(X)\n",
      "Xt = min_max_scaler.fit_transform(Xt)\n",
      "\n",
      "#generate more feature data on both test and training set \n",
      "\n",
      "poly2 = preprocessing.PolynomialFeatures(2,interaction_only=True)\n",
      "\n",
      "#generate polynomial features \n",
      "pXtrain = poly2.fit_transform(X)\n",
      "pXtest = poly2.fit_transform(Xt)\n",
      "\n",
      "#generate log transformed features \n",
      "logX = np.log(pXtrain+0.01)\n",
      "logXt = np.log(pXtest+0.01)\n",
      "\n",
      "\n",
      "#Create combined feature matrix \n",
      "\n",
      "PLE_train = np.hstack((X,pXtrain,logX))\n",
      "PLE_test = np.hstack((Xt,pXtest,logXt))"
     ],
     "language": "python",
     "metadata": {},
     "outputs": [],
     "prompt_number": 4
    },
    {
     "cell_type": "code",
     "collapsed": false,
     "input": [
      "#convert all coloumns to the 0 to 1 range, this will ensure no features are unnecessarily large \n",
      "\n",
      "\n",
      "PLEtrain = min_max_scaler.fit_transform(PLE_train)\n",
      "PLEtest  = min_max_scaler.fit_transform(PLE_test)"
     ],
     "language": "python",
     "metadata": {},
     "outputs": [],
     "prompt_number": 5
    },
    {
     "cell_type": "code",
     "collapsed": false,
     "input": [
      "max(pXtest[118,:])"
     ],
     "language": "python",
     "metadata": {},
     "outputs": [
      {
       "metadata": {},
       "output_type": "pyout",
       "prompt_number": 39,
       "text": [
        "1680.9976195408433"
       ]
      }
     ],
     "prompt_number": 39
    },
    {
     "cell_type": "heading",
     "level": 3,
     "metadata": {},
     "source": [
      "Perform Logistic Regression "
     ]
    },
    {
     "cell_type": "heading",
     "level": 4,
     "metadata": {},
     "source": [
      "On Non Augmented features "
     ]
    },
    {
     "cell_type": "code",
     "collapsed": false,
     "input": [
      "from sklearn import linear_model\n",
      "\n",
      "Acc = range(6,-6,-1)\n",
      "AccTest = range(6,-6,-1)\n",
      "i = 0\n",
      "for C in range(6,-6,-1):\n",
      "\n",
      "    logX = linear_model.LogisticRegression(C=(10**-(C/2)), penalty='l1', tol=0.001)\n",
      "    logX.fit(X,np.ravel(Y))\n",
      "    Acc[i]= sum(logX.predict(X) == Y)/len(Y)\n",
      "    AccTest[i]= sum(logX.predict(Xt) == Yt)/len(Yt)\n",
      "    print C\n",
      "    print Acc[i]\n",
      "    print AccTest[i]\n",
      "    print(logX.coef_)\n",
      "    i = i+1 \n",
      "    \n",
      "    "
     ],
     "language": "python",
     "metadata": {},
     "outputs": [
      {
       "output_type": "stream",
       "stream": "stdout",
       "text": [
        "6\n",
        "0.9403\n",
        "0.9404\n",
        "[[ 0.         0.         0.         0.         0.         0.         0.\n",
        "   1.1401923  0.         0.         0.       ]]\n",
        "5"
       ]
      },
      {
       "output_type": "stream",
       "stream": "stdout",
       "text": [
        "\n",
        "0.9403\n",
        "0.9404\n",
        "[[ 0.          0.          0.          0.          0.          0.\n",
        "  -1.13380376  3.29166592  0.          0.          0.        ]]\n",
        "4"
       ]
      },
      {
       "output_type": "stream",
       "stream": "stdout",
       "text": [
        "\n",
        "0.9403\n",
        "0.9404\n",
        "[[ 0.          0.          0.          0.          0.          0.\n",
        "  -2.88692245  4.42386282  0.          0.          0.        ]]\n",
        "3"
       ]
      },
      {
       "output_type": "stream",
       "stream": "stdout",
       "text": [
        "\n",
        "0.9403\n",
        "0.9404\n",
        "[[ 0.          0.          0.          0.          0.          0.\n",
        "  -3.93379223  5.50785352  0.          0.          0.        ]]\n",
        "2"
       ]
      },
      {
       "output_type": "stream",
       "stream": "stdout",
       "text": [
        "\n",
        "0.9403\n",
        "0.9404\n",
        "[[-0.60088269  0.          0.          0.          0.          0.\n",
        "  -4.37308946  6.66641375 -0.07541735  0.25398903  0.        ]]\n",
        "1"
       ]
      },
      {
       "output_type": "stream",
       "stream": "stdout",
       "text": [
        "\n",
        "0.9403\n",
        "0.9404\n",
        "[[-1.46055436 -1.00573846  0.         -0.01942323  0.          0.\n",
        "  -4.49572824  7.92780463 -0.19792623  0.59245192  0.        ]]\n",
        "0"
       ]
      },
      {
       "output_type": "stream",
       "stream": "stdout",
       "text": [
        "\n",
        "0.9402\n",
        "0.9405\n",
        "[[-2.44546676 -2.14198411  0.         -0.05351548  1.41301025  1.08223112\n",
        "  -4.5745276   9.18485385 -0.25256203  0.81535122  0.        ]]\n",
        "-1"
       ]
      },
      {
       "output_type": "stream",
       "stream": "stdout",
       "text": [
        "\n",
        "0.9402\n",
        "0.9405\n",
        "[[ -2.77235729e+00  -2.67099147e+00   4.62605227e-03  -5.12705487e-02\n",
        "    1.92745480e+00   1.67862292e+00  -4.58206109e+00   1.03247982e+01\n",
        "   -2.47651138e-01   9.29524720e-01   0.00000000e+00]]\n",
        "-2"
       ]
      },
      {
       "output_type": "stream",
       "stream": "stdout",
       "text": [
        "\n",
        "0.9402\n",
        "0.9405\n",
        "[[ -2.87875611e+00  -2.80772032e+00   9.20200828e-03  -5.27746178e-02\n",
        "    2.06790201e+00   1.84332039e+00  -4.59637221e+00   1.13984135e+01\n",
        "   -2.52406481e-01   9.57490136e-01  -2.06958601e-01]]\n",
        "-3"
       ]
      },
      {
       "output_type": "stream",
       "stream": "stdout",
       "text": [
        "\n",
        "0.9402\n",
        "0.9404\n",
        "[[ -2.92765211e+00  -2.86255694e+00   1.15756908e-02  -5.62932138e-02\n",
        "    2.11391403e+00   1.91055762e+00  -4.59782171e+00   1.22599769e+01\n",
        "   -2.55533791e-01   9.63091767e-01  -3.82997290e-01]]\n",
        "-4"
       ]
      },
      {
       "output_type": "stream",
       "stream": "stdout",
       "text": [
        "\n",
        "0.9402\n",
        "0.9404\n",
        "[[ -2.92123212e+00  -2.87284386e+00   1.01120274e-02  -5.69227844e-02\n",
        "    2.10975109e+00   1.90540750e+00  -4.60331603e+00   1.24955370e+01\n",
        "   -2.59014419e-01   9.57458987e-01  -4.03883573e-01]]\n",
        "-5"
       ]
      },
      {
       "output_type": "stream",
       "stream": "stdout",
       "text": [
        "\n",
        "0.9402\n",
        "0.9404\n",
        "[[ -2.90219090e+00  -2.89256331e+00   9.41982700e-03  -6.17136381e-02\n",
        "    2.10633090e+00   1.90105421e+00  -4.61734041e+00   1.22979903e+01\n",
        "   -2.70738690e-01   9.45328070e-01  -5.22281967e-01]]\n"
       ]
      }
     ],
     "prompt_number": 6
    },
    {
     "cell_type": "code",
     "collapsed": false,
     "input": [],
     "language": "python",
     "metadata": {},
     "outputs": [
      {
       "output_type": "stream",
       "stream": "stdout",
       "text": [
        "[[ -2.93935587  -2.89717794   0.02529531  -0.0415922    2.18059464\n",
        "    1.97140615  -4.5558046   13.89036631  -0.23186543  -0.48932067\n",
        "    1.00364554  -0.2385416 ]]\n",
        "(10000, 12)\n"
       ]
      }
     ],
     "prompt_number": 59
    },
    {
     "cell_type": "code",
     "collapsed": false,
     "input": [
      "X[3,:]"
     ],
     "language": "python",
     "metadata": {},
     "outputs": [
      {
       "metadata": {},
       "output_type": "pyout",
       "prompt_number": 60,
       "text": [
        "array([ 0.17926738,  0.14859925,  0.57177517,  0.50315696,  0.50199523,\n",
        "        0.4467106 ,  0.27059217,  0.02613545,  0.24281735,  0.51242111,\n",
        "        0.96474797,  0.03855648])"
       ]
      }
     ],
     "prompt_number": 60
    },
    {
     "cell_type": "heading",
     "level": 4,
     "metadata": {},
     "source": [
      "Learning on Non-Augmented features with l2 penalty "
     ]
    },
    {
     "cell_type": "code",
     "collapsed": false,
     "input": [
      "from sklearn import linear_model\n",
      "\n",
      "Acc = range(6,-6,-1)\n",
      "AccTest = range(6,-6,-1)\n",
      "i = 0\n",
      "for C in range(6,-6,-1):\n",
      "\n",
      "    logX = linear_model.LogisticRegression(C=(10**-(C/2)), penalty='l2', tol=0.001)\n",
      "    logX.fit(X,np.ravel(Y))\n",
      "    Acc[i]= logX.score(X,np.ravel(Y))  \n",
      "    AccTest[i]= sum(logX.predict(Xt) == Yt)/len(Yt)\n",
      "    print C\n",
      "    print Acc[i]\n",
      "    print AccTest[i]\n",
      "    print(logX.coef_)\n",
      "    i = i+1 \n",
      "    "
     ],
     "language": "python",
     "metadata": {},
     "outputs": [
      {
       "output_type": "stream",
       "stream": "stdout",
       "text": [
        "6\n",
        "0.9403\n",
        "0.9404\n",
        "[[-0.04952192 -0.04379682 -0.11750932 -0.09999261 -0.0363772  -0.03134857\n",
        "  -0.67323426  1.1122942  -0.13055416 -0.1388665  -0.01660932]]\n",
        "5"
       ]
      },
      {
       "output_type": "stream",
       "stream": "stdout",
       "text": [
        "\n",
        "0.9403\n",
        "0.9404\n",
        "[[-0.08916429 -0.07864403 -0.15331941 -0.13669098 -0.0610688  -0.05257531\n",
        "  -1.25114418  2.1235662  -0.19272026 -0.13942256 -0.02911842]]\n",
        "4"
       ]
      },
      {
       "output_type": "stream",
       "stream": "stdout",
       "text": [
        "\n",
        "0.9403\n",
        "0.9404\n",
        "[[-0.16931302 -0.14758717 -0.15381272 -0.15233593 -0.09258465 -0.07981297\n",
        "  -1.94576437  3.23464548 -0.24689017 -0.05949839 -0.04685898]]\n",
        "3"
       ]
      },
      {
       "output_type": "stream",
       "stream": "stdout",
       "text": [
        "\n",
        "0.9403\n",
        "0.9404\n",
        "[[-0.34475869 -0.29667983 -0.10630332 -0.13032956 -0.12622296 -0.10817923\n",
        "  -2.7233979   4.25785175 -0.2633489   0.12798147 -0.06815441]]\n",
        "2"
       ]
      },
      {
       "output_type": "stream",
       "stream": "stdout",
       "text": [
        "\n",
        "0.9403\n",
        "0.9404\n",
        "[[-0.72085786 -0.62320391 -0.03698395 -0.0976285  -0.05964852 -0.05017557\n",
        "  -3.51885799  5.18745448 -0.26690652  0.38527761 -0.09216732]]\n",
        "1"
       ]
      },
      {
       "output_type": "stream",
       "stream": "stdout",
       "text": [
        "\n",
        "0.9403\n",
        "0.9404\n",
        "[[ -1.31977986e+00  -1.15902883e+00   7.71970184e-04  -7.74640512e-02\n",
        "    2.95551235e-01   2.56463541e-01  -4.12127526e+00   6.12624302e+00\n",
        "   -2.57018496e-01   6.11130297e-01  -1.21716894e-01]]\n",
        "0"
       ]
      },
      {
       "output_type": "stream",
       "stream": "stdout",
       "text": [
        "\n",
        "0.9403\n",
        "0.9404\n",
        "[[-2.04444185 -1.84542429  0.01915508 -0.0682159   1.02820527  0.88585729\n",
        "  -4.39194872  7.11858994 -0.23817621  0.79007943 -0.16479553]]\n",
        "-1"
       ]
      },
      {
       "output_type": "stream",
       "stream": "stdout",
       "text": [
        "\n",
        "0.9402\n",
        "0.9406\n",
        "[[-2.58993854 -2.41220438  0.01882919 -0.05917125  1.70614657  1.48854763\n",
        "  -4.53319902  8.17011186 -0.24665382  0.90604772 -0.2087465 ]]\n",
        "-2"
       ]
      },
      {
       "output_type": "stream",
       "stream": "stdout",
       "text": [
        "\n",
        "0.9402\n",
        "0.9405\n",
        "[[-2.83665375 -2.6874828   0.01908145 -0.04936862  2.00242854  1.76665569\n",
        "  -4.55482244  8.91908379 -0.23886224  0.96543038 -0.23794484]]\n",
        "-3"
       ]
      },
      {
       "output_type": "stream",
       "stream": "stdout",
       "text": [
        "\n",
        "0.9402\n",
        "0.9404\n",
        "[[ -2.91473808  -2.83665952   0.01899536  -0.04896791   2.11490351\n",
        "    1.90991227  -4.56625002  10.02353889  -0.23675561   0.9881679\n",
        "   -0.26532353]]\n",
        "-4"
       ]
      },
      {
       "output_type": "stream",
       "stream": "stdout",
       "text": [
        "\n",
        "0.9402\n",
        "0.9404\n",
        "[[ -2.94156964  -2.87964681   0.01878564  -0.04743865   2.14987525\n",
        "    1.94974871  -4.56909661  10.38247831  -0.23591488   0.99594169\n",
        "   -0.27323656]]\n",
        "-5"
       ]
      },
      {
       "output_type": "stream",
       "stream": "stdout",
       "text": [
        "\n",
        "0.9402\n",
        "0.9404\n",
        "[[ -2.94990629  -2.89402222   0.01885941  -0.04686547   2.16081343\n",
        "    1.96270572  -4.57002301  10.51614348  -0.23597749   0.99877776\n",
        "   -0.27607679]]\n"
       ]
      }
     ],
     "prompt_number": 7
    },
    {
     "cell_type": "code",
     "collapsed": false,
     "input": [
      "#plotting cost function\n",
      "fig = plt.figure()\n",
      "l = .5*np.array((range(-6,6,1)))\n",
      "plt.plot(l,Acc)\n",
      "plt.xlabel('10 ^ (Lambda)')\n",
      "plt.ylabel('Fit percent')\n",
      "fig.savefig('FitX_nonAug')"
     ],
     "language": "python",
     "metadata": {},
     "outputs": [
      {
       "metadata": {},
       "output_type": "display_data",
       "png": "[encoded data removed]",
       "text": [
        "<matplotlib.figure.Figure at 0x119b1750>"
       ]
      }
     ],
     "prompt_number": 65
    },
    {
     "cell_type": "heading",
     "level": 4,
     "metadata": {},
     "source": [
      "On Augmented Data "
     ]
    },
    {
     "cell_type": "code",
     "collapsed": false,
     "input": [
      "Acc = range(6,-5,-1)\n",
      "AccTest = range(6,-5,-1)\n",
      "i = 0\n",
      "for C in range(6,-5,-1):\n",
      "    logX = linear_model.LogisticRegression(C=(10**-(C/2)), penalty='l1', tol=0.003)\n",
      "    logX.fit(PLEtrain,np.ravel(Y))\n",
      "    Acc[i]= logX.score(PLEtrain,np.ravel(Y))\n",
      "    AccTest[i]= logX.score(PLEtest,np.ravel(Yt))\n",
      "    print Acc[i]\n",
      "    print AccTest[i]\n",
      "    i = i+1 \n",
      "    \n",
      "    "
     ],
     "language": "python",
     "metadata": {},
     "outputs": [
      {
       "output_type": "stream",
       "stream": "stdout",
       "text": [
        "0.9408\n",
        "0.9405\n",
        "0.9414"
       ]
      },
      {
       "output_type": "stream",
       "stream": "stdout",
       "text": [
        "\n",
        "0.9408\n",
        "0.9414"
       ]
      },
      {
       "output_type": "stream",
       "stream": "stdout",
       "text": [
        "\n",
        "0.9409\n",
        "0.9412"
       ]
      },
      {
       "output_type": "stream",
       "stream": "stdout",
       "text": [
        "\n",
        "0.9404\n",
        "0.9403"
       ]
      },
      {
       "output_type": "stream",
       "stream": "stdout",
       "text": [
        "\n",
        "0.9405\n",
        "0.9399"
       ]
      },
      {
       "output_type": "stream",
       "stream": "stdout",
       "text": [
        "\n",
        "0.9403\n",
        "0.9404"
       ]
      },
      {
       "output_type": "stream",
       "stream": "stdout",
       "text": [
        "\n",
        "0.9401\n",
        "0.9416"
       ]
      },
      {
       "output_type": "stream",
       "stream": "stdout",
       "text": [
        "\n",
        "0.9401\n",
        "0.9421"
       ]
      },
      {
       "output_type": "stream",
       "stream": "stdout",
       "text": [
        "\n",
        "0.9407\n",
        "0.942"
       ]
      },
      {
       "output_type": "stream",
       "stream": "stdout",
       "text": [
        "\n",
        "0.9407\n",
        "0.9417"
       ]
      },
      {
       "output_type": "stream",
       "stream": "stdout",
       "text": [
        "\n",
        "0.9408\n"
       ]
      }
     ],
     "prompt_number": 8
    },
    {
     "cell_type": "code",
     "collapsed": false,
     "input": [
      "#plotting cost function\n",
      "fig = plt.figure()\n",
      "l = (range(5,-5,-1))\n",
      "plt.plot(l,Acc)\n",
      "plt.xlabel('10 ^ (Lambda)')\n",
      "plt.ylabel('Fit percent')\n",
      "fig.savefig('FitX_Aug')"
     ],
     "language": "python",
     "metadata": {},
     "outputs": [
      {
       "metadata": {},
       "output_type": "display_data",
       "png": "[encoded data removed]",
       "text": [
        "<matplotlib.figure.Figure at 0xeaaa750>"
       ]
      }
     ],
     "prompt_number": 11
    },
    {
     "cell_type": "code",
     "collapsed": false,
     "input": [
      "yPred = logX.predict(PLE_train)\n",
      "sum(Y==yPred)"
     ],
     "language": "python",
     "metadata": {},
     "outputs": [
      {
       "metadata": {},
       "output_type": "pyout",
       "prompt_number": 16,
       "text": [
        "6270"
       ]
      }
     ],
     "prompt_number": 16
    },
    {
     "cell_type": "heading",
     "level": 3,
     "metadata": {},
     "source": [
      "Learning with SVM "
     ]
    },
    {
     "cell_type": "code",
     "collapsed": false,
     "input": [
      "from sklearn import svm"
     ],
     "language": "python",
     "metadata": {},
     "outputs": [],
     "prompt_number": 10
    },
    {
     "cell_type": "code",
     "collapsed": false,
     "input": [
      "clf = svm.SVC()\n",
      "clf.fit(X, Y)\n",
      "print(clf.score(X,np.ravel(Y)))\n",
      "print(clf.score(Xt,np.ravel(Yt)))\n",
      "\n",
      "# on other kinds of kernels \n",
      "clf = svm.SVC(kernel='sigmoid')\n",
      "clf.fit(X, Y)\n",
      "print(clf.score(X,np.ravel(Y)))\n",
      "print(clf.score(Xt,np.ravel(Yt)))\n",
      "\n",
      "# on other kinds of kernels \n",
      "clf = svm.SVC(kernel='rbf')\n",
      "clf.fit(X, Y)\n",
      "print(clf.score(X,np.ravel(Y)))\n",
      "print(clf.score(Xt,np.ravel(Yt)))\n",
      "\n"
     ],
     "language": "python",
     "metadata": {},
     "outputs": [
      {
       "output_type": "stream",
       "stream": "stdout",
       "text": [
        "0.9403\n",
        "0.9404"
       ]
      },
      {
       "output_type": "stream",
       "stream": "stdout",
       "text": [
        "\n",
        "0.627"
       ]
      },
      {
       "output_type": "stream",
       "stream": "stdout",
       "text": [
        "\n",
        "0.6154"
       ]
      },
      {
       "output_type": "stream",
       "stream": "stdout",
       "text": [
        "\n",
        "0.9403"
       ]
      },
      {
       "output_type": "stream",
       "stream": "stdout",
       "text": [
        "\n",
        "0.9404"
       ]
      },
      {
       "output_type": "stream",
       "stream": "stdout",
       "text": [
        "\n"
       ]
      }
     ],
     "prompt_number": 18
    },
    {
     "cell_type": "heading",
     "level": 3,
     "metadata": {},
     "source": [
      "Learning with Decision Trees"
     ]
    },
    {
     "cell_type": "code",
     "collapsed": false,
     "input": [
      "from sklearn import tree\n",
      "DT = tree.DecisionTreeClassifier()\n",
      "DT = DT.fit(X,Y)\n",
      "print(DT.score(X,Y))\n",
      "print(DT.score(Xt,Yt))"
     ],
     "language": "python",
     "metadata": {},
     "outputs": [
      {
       "output_type": "stream",
       "stream": "stdout",
       "text": [
        "0.9999\n",
        "0.3846\n"
       ]
      }
     ],
     "prompt_number": 13
    },
    {
     "cell_type": "heading",
     "level": 3,
     "metadata": {},
     "source": [
      "SVM with augmented feature set "
     ]
    },
    {
     "cell_type": "code",
     "collapsed": false,
     "input": [
      "clf = svm.SVC()\n",
      "clf.fit(PLEtrain, Y)\n",
      "print(clf.score(PLEtrain,np.ravel(Y)))\n",
      "print(clf.score(PLEtest,np.ravel(Yt)))\n",
      "\n",
      "# on other kinds of kernels \n",
      "clf = svm.SVC(kernel='rbf')\n",
      "clf.fit(PLEtrain, Y)\n",
      "print(clf.score(PLEtrain,np.ravel(Y)))\n",
      "print(clf.score(PLEtest,np.ravel(Yt)))"
     ],
     "language": "python",
     "metadata": {},
     "outputs": [
      {
       "output_type": "stream",
       "stream": "stdout",
       "text": [
        "0.9403\n",
        "0.9404"
       ]
      },
      {
       "output_type": "stream",
       "stream": "stdout",
       "text": [
        "\n",
        "0.9403"
       ]
      },
      {
       "output_type": "stream",
       "stream": "stdout",
       "text": [
        "\n",
        "0.9404"
       ]
      },
      {
       "output_type": "stream",
       "stream": "stdout",
       "text": [
        "\n"
       ]
      }
     ],
     "prompt_number": 20
    },
    {
     "cell_type": "heading",
     "level": 3,
     "metadata": {},
     "source": [
      "Decision tree with Augmented feature set"
     ]
    },
    {
     "cell_type": "code",
     "collapsed": false,
     "input": [
      "DT = tree.DecisionTreeClassifier()\n",
      "DT = DT.fit(PLEtrain,Y)\n",
      "print(DT.score(PLEtrain,np.ravel(Y)))\n",
      "print(DT.score(PLEtest,np.ravel(Yt)))"
     ],
     "language": "python",
     "metadata": {},
     "outputs": [
      {
       "output_type": "stream",
       "stream": "stdout",
       "text": [
        "0.9999\n",
        "0.3846\n"
       ]
      }
     ],
     "prompt_number": 17
    },
    {
     "cell_type": "heading",
     "level": 3,
     "metadata": {},
     "source": [
      "Linear Discriminant Analysis "
     ]
    },
    {
     "cell_type": "code",
     "collapsed": false,
     "input": [
      "from sklearn.naive_bayes import GaussianNB\n",
      "clf = GaussianNB()\n",
      "clf.fit(X, Y)\n",
      "print(clf.score(X,Y))\n",
      "print(clf.score(Xt,Yt))"
     ],
     "language": "python",
     "metadata": {},
     "outputs": [
      {
       "output_type": "stream",
       "stream": "stdout",
       "text": [
        "0.9864\n",
        "0.3837\n"
       ]
      }
     ],
     "prompt_number": 23
    },
    {
     "cell_type": "code",
     "collapsed": false,
     "input": [
      "from sklearn.naive_bayes import GaussianNB\n",
      "clf = GaussianNB()\n",
      "clf.fit(PLEtrain, Y)\n",
      "print(clf.score(PLEtrain,Y))\n",
      "print(clf.score(PLEtest,Yt))"
     ],
     "language": "python",
     "metadata": {},
     "outputs": [
      {
       "output_type": "stream",
       "stream": "stdout",
       "text": [
        "0.987\n",
        "0.3842"
       ]
      },
      {
       "output_type": "stream",
       "stream": "stdout",
       "text": [
        "\n"
       ]
      }
     ],
     "prompt_number": 24
    },
    {
     "cell_type": "heading",
     "level": 3,
     "metadata": {},
     "source": [
      "Neural Nets "
     ]
    },
    {
     "cell_type": "code",
     "collapsed": false,
     "input": [
      "from sklearn.neural_network import MLPClassifier\n",
      "\n",
      "clf = MLPClassifier(algorithm='l-bfgs', alpha=1e-5, hidden_layer_sizes=(5, 2), random_state=1)\n",
      "clf.fit(X, Y)\n",
      "clf.score(X,Y)\n",
      "clf.score(Xt,Yt)"
     ],
     "language": "python",
     "metadata": {},
     "outputs": [
      {
       "ename": "ImportError",
       "evalue": "cannot import name MLPClassifier",
       "output_type": "pyerr",
       "traceback": [
        "\u001b[1;31m---------------------------------------------------------------------------\u001b[0m\n\u001b[1;31mImportError\u001b[0m                               Traceback (most recent call last)",
        "\u001b[1;32m<ipython-input-26-5fa0f307dabd>\u001b[0m in \u001b[0;36m<module>\u001b[1;34m()\u001b[0m\n\u001b[1;32m----> 1\u001b[1;33m \u001b[1;32mfrom\u001b[0m \u001b[0msklearn\u001b[0m\u001b[1;33m.\u001b[0m\u001b[0mneural_network\u001b[0m \u001b[1;32mimport\u001b[0m \u001b[0mMLPClassifier\u001b[0m\u001b[1;33m\u001b[0m\u001b[0m\n\u001b[0m\u001b[0;32m      2\u001b[0m \u001b[1;33m\u001b[0m\u001b[0m\n\u001b[0;32m      3\u001b[0m \u001b[0mclf\u001b[0m \u001b[1;33m=\u001b[0m \u001b[0mMLPClassifier\u001b[0m\u001b[1;33m(\u001b[0m\u001b[0malgorithm\u001b[0m\u001b[1;33m=\u001b[0m\u001b[1;34m'l-bfgs'\u001b[0m\u001b[1;33m,\u001b[0m \u001b[0malpha\u001b[0m\u001b[1;33m=\u001b[0m\u001b[1;36m1e-5\u001b[0m\u001b[1;33m,\u001b[0m \u001b[0mhidden_layer_sizes\u001b[0m\u001b[1;33m=\u001b[0m\u001b[1;33m(\u001b[0m\u001b[1;36m5\u001b[0m\u001b[1;33m,\u001b[0m \u001b[1;36m2\u001b[0m\u001b[1;33m)\u001b[0m\u001b[1;33m,\u001b[0m \u001b[0mrandom_state\u001b[0m\u001b[1;33m=\u001b[0m\u001b[1;36m1\u001b[0m\u001b[1;33m)\u001b[0m\u001b[1;33m\u001b[0m\u001b[0m\n\u001b[0;32m      4\u001b[0m \u001b[0mclf\u001b[0m\u001b[1;33m.\u001b[0m\u001b[0mfit\u001b[0m\u001b[1;33m(\u001b[0m\u001b[0mX\u001b[0m\u001b[1;33m,\u001b[0m \u001b[0mY\u001b[0m\u001b[1;33m)\u001b[0m\u001b[1;33m\u001b[0m\u001b[0m\n\u001b[0;32m      5\u001b[0m \u001b[0mclf\u001b[0m\u001b[1;33m.\u001b[0m\u001b[0mscore\u001b[0m\u001b[1;33m(\u001b[0m\u001b[0mX\u001b[0m\u001b[1;33m,\u001b[0m\u001b[0mY\u001b[0m\u001b[1;33m)\u001b[0m\u001b[1;33m\u001b[0m\u001b[0m\n",
        "\u001b[1;31mImportError\u001b[0m: cannot import name MLPClassifier"
       ]
      }
     ],
     "prompt_number": 26
    },
    {
     "cell_type": "heading",
     "level": 3,
     "metadata": {},
     "source": [
      "Compare against naive implementation "
     ]
    },
    {
     "cell_type": "code",
     "collapsed": false,
     "input": [
      "#nick can do this "
     ],
     "language": "python",
     "metadata": {},
     "outputs": [],
     "prompt_number": 31
    },
    {
     "cell_type": "code",
     "collapsed": false,
     "input": [],
     "language": "python",
     "metadata": {},
     "outputs": []
    }
   ],
   "metadata": {}
  }
 ]
}