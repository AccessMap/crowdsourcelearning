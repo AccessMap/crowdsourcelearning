{
 "metadata": {
  "name": "",
  "signature": "sha256:1c2c7b995c60ca058e55236501a33760f5031b8386270daeb1e7d0674bb35830"
 },
 "nbformat": 3,
 "nbformat_minor": 0,
 "worksheets": [
  {
   "cells": [
    {
     "cell_type": "code",
     "collapsed": false,
     "input": [
      "from matplotlib import pyplot as plt\n",
      "import numpy as np\n",
      "import pandas as pd\n",
      "from sklearn import cross_validation, linear_model, preprocessing\n",
      "from sklearn.metrics import precision_recall_curve, precision_score, recall_score\n",
      "from __future__ import division\n",
      "%matplotlib inline"
     ],
     "language": "python",
     "metadata": {},
     "outputs": [],
     "prompt_number": 1
    },
    {
     "cell_type": "heading",
     "level": 3,
     "metadata": {},
     "source": [
      "Read raw data :"
     ]
    },
    {
     "cell_type": "code",
     "collapsed": false,
     "input": [
      "raw_data = pd.read_csv('./learndata-latest.csv')\n",
      "raw_data.head()"
     ],
     "language": "python",
     "metadata": {},
     "outputs": [
      {
       "html": [
        "<div style=\"max-width:1500px;overflow:auto;\">\n",
        "<table border=\"1\" class=\"dataframe\">\n",
        "  <thead>\n",
        "    <tr style=\"text-align: right;\">\n",
        "      <th></th>\n",
        "      <th>connected</th>\n",
        "      <th>id_i</th>\n",
        "      <th>id_j</th>\n",
        "      <th>length_i</th>\n",
        "      <th>length_j</th>\n",
        "      <th>side_i</th>\n",
        "      <th>side_j</th>\n",
        "      <th>sw_width_i</th>\n",
        "      <th>sw_width_j</th>\n",
        "      <th>curbtype_i</th>\n",
        "      <th>...</th>\n",
        "      <th>surftype_i</th>\n",
        "      <th>surftype_j</th>\n",
        "      <th>intersects</th>\n",
        "      <th>near_angle</th>\n",
        "      <th>near_distance</th>\n",
        "      <th>near_line</th>\n",
        "      <th>near_line_srid</th>\n",
        "      <th>bid_i</th>\n",
        "      <th>bid_j</th>\n",
        "      <th>intersects_street</th>\n",
        "    </tr>\n",
        "  </thead>\n",
        "  <tbody>\n",
        "    <tr>\n",
        "      <th>0</th>\n",
        "      <td>0</td>\n",
        "      <td>289092</td>\n",
        "      <td>299107</td>\n",
        "      <td>297.230378</td>\n",
        "      <td>313.835648</td>\n",
        "      <td>W</td>\n",
        "      <td>S</td>\n",
        "      <td>60</td>\n",
        "      <td>60</td>\n",
        "      <td>410C</td>\n",
        "      <td>...</td>\n",
        "      <td>PCC</td>\n",
        "      <td>AC</td>\n",
        "      <td>f</td>\n",
        "      <td>-2.283203</td>\n",
        "      <td>34.436532</td>\n",
        "      <td>LINESTRING(-122.319447001456 47.6008471113961,...</td>\n",
        "      <td>4326</td>\n",
        "      <td>NaN</td>\n",
        "      <td>3352</td>\n",
        "      <td>0</td>\n",
        "    </tr>\n",
        "    <tr>\n",
        "      <th>1</th>\n",
        "      <td>0</td>\n",
        "      <td>293102</td>\n",
        "      <td>331808</td>\n",
        "      <td>431.833749</td>\n",
        "      <td>434.510666</td>\n",
        "      <td>W</td>\n",
        "      <td>W</td>\n",
        "      <td>52</td>\n",
        "      <td>72</td>\n",
        "      <td>AR</td>\n",
        "      <td>...</td>\n",
        "      <td>PCC</td>\n",
        "      <td>PCC</td>\n",
        "      <td>f</td>\n",
        "      <td>3.141594</td>\n",
        "      <td>26.949339</td>\n",
        "      <td>LINESTRING(-122.350055372668 47.6554398660144,...</td>\n",
        "      <td>4326</td>\n",
        "      <td>2831</td>\n",
        "      <td>2831</td>\n",
        "      <td>0</td>\n",
        "    </tr>\n",
        "    <tr>\n",
        "      <th>2</th>\n",
        "      <td>0</td>\n",
        "      <td>313868</td>\n",
        "      <td>313874</td>\n",
        "      <td>218.799534</td>\n",
        "      <td>180.349589</td>\n",
        "      <td>S</td>\n",
        "      <td>S</td>\n",
        "      <td>0</td>\n",
        "      <td>0</td>\n",
        "      <td>410B</td>\n",
        "      <td>...</td>\n",
        "      <td>UIMPRV</td>\n",
        "      <td>UIMPRV</td>\n",
        "      <td>f</td>\n",
        "      <td>-0.191456</td>\n",
        "      <td>4.190603</td>\n",
        "      <td>LINESTRING(-122.362966756884 47.5713328446345,...</td>\n",
        "      <td>4326</td>\n",
        "      <td>NaN</td>\n",
        "      <td>NaN</td>\n",
        "      <td>0</td>\n",
        "    </tr>\n",
        "    <tr>\n",
        "      <th>3</th>\n",
        "      <td>0</td>\n",
        "      <td>319890</td>\n",
        "      <td>322466</td>\n",
        "      <td>225.852123</td>\n",
        "      <td>272.643093</td>\n",
        "      <td>SE</td>\n",
        "      <td>E</td>\n",
        "      <td>60</td>\n",
        "      <td>60</td>\n",
        "      <td>410C</td>\n",
        "      <td>...</td>\n",
        "      <td>PCC</td>\n",
        "      <td>PCC</td>\n",
        "      <td>f</td>\n",
        "      <td>3.723988</td>\n",
        "      <td>13.995332</td>\n",
        "      <td>LINESTRING(-122.395081951736 47.5849380800841,...</td>\n",
        "      <td>4326</td>\n",
        "      <td>575</td>\n",
        "      <td>575</td>\n",
        "      <td>0</td>\n",
        "    </tr>\n",
        "    <tr>\n",
        "      <th>4</th>\n",
        "      <td>0</td>\n",
        "      <td>319292</td>\n",
        "      <td>319294</td>\n",
        "      <td>313.080031</td>\n",
        "      <td>623.754118</td>\n",
        "      <td>N</td>\n",
        "      <td>N</td>\n",
        "      <td>0</td>\n",
        "      <td>0</td>\n",
        "      <td>NONE</td>\n",
        "      <td>...</td>\n",
        "      <td>UIMPRV</td>\n",
        "      <td>UIMPRV</td>\n",
        "      <td>f</td>\n",
        "      <td>-3.141596</td>\n",
        "      <td>26.933899</td>\n",
        "      <td>LINESTRING(-122.368266891496 47.5538036466461,...</td>\n",
        "      <td>4326</td>\n",
        "      <td>723</td>\n",
        "      <td>723</td>\n",
        "      <td>0</td>\n",
        "    </tr>\n",
        "  </tbody>\n",
        "</table>\n",
        "<p>5 rows \u00d7 21 columns</p>\n",
        "</div>"
       ],
       "metadata": {},
       "output_type": "pyout",
       "prompt_number": 2,
       "text": [
        "   connected    id_i    id_j    length_i    length_j side_i side_j  \\\n",
        "0          0  289092  299107  297.230378  313.835648      W      S   \n",
        "1          0  293102  331808  431.833749  434.510666      W      W   \n",
        "2          0  313868  313874  218.799534  180.349589      S      S   \n",
        "3          0  319890  322466  225.852123  272.643093     SE      E   \n",
        "4          0  319292  319294  313.080031  623.754118      N      N   \n",
        "\n",
        "   sw_width_i  sw_width_j curbtype_i        ...         surftype_i surftype_j  \\\n",
        "0          60          60       410C        ...                PCC         AC   \n",
        "1          52          72         AR        ...                PCC        PCC   \n",
        "2           0           0       410B        ...             UIMPRV     UIMPRV   \n",
        "3          60          60       410C        ...                PCC        PCC   \n",
        "4           0           0       NONE        ...             UIMPRV     UIMPRV   \n",
        "\n",
        "  intersects near_angle  near_distance  \\\n",
        "0          f  -2.283203      34.436532   \n",
        "1          f   3.141594      26.949339   \n",
        "2          f  -0.191456       4.190603   \n",
        "3          f   3.723988      13.995332   \n",
        "4          f  -3.141596      26.933899   \n",
        "\n",
        "                                           near_line near_line_srid  bid_i  \\\n",
        "0  LINESTRING(-122.319447001456 47.6008471113961,...           4326    NaN   \n",
        "1  LINESTRING(-122.350055372668 47.6554398660144,...           4326   2831   \n",
        "2  LINESTRING(-122.362966756884 47.5713328446345,...           4326    NaN   \n",
        "3  LINESTRING(-122.395081951736 47.5849380800841,...           4326    575   \n",
        "4  LINESTRING(-122.368266891496 47.5538036466461,...           4326    723   \n",
        "\n",
        "   bid_j  intersects_street  \n",
        "0   3352                  0  \n",
        "1   2831                  0  \n",
        "2    NaN                  0  \n",
        "3    575                  0  \n",
        "4    723                  0  \n",
        "\n",
        "[5 rows x 21 columns]"
       ]
      }
     ],
     "prompt_number": 2
    },
    {
     "cell_type": "heading",
     "level": 3,
     "metadata": {},
     "source": [
      "Read Crowdsourced data : "
     ]
    },
    {
     "cell_type": "code",
     "collapsed": false,
     "input": [
      "crowd_labels = pd.read_csv('./crowdsource-20160208.csv')\n",
      "crowd_labels.head()"
     ],
     "language": "python",
     "metadata": {},
     "outputs": [
      {
       "html": [
        "<div style=\"max-width:1500px;overflow:auto;\">\n",
        "<table border=\"1\" class=\"dataframe\">\n",
        "  <thead>\n",
        "    <tr style=\"text-align: right;\">\n",
        "      <th></th>\n",
        "      <th>swi_id</th>\n",
        "      <th>swj_id</th>\n",
        "      <th>swi_geom</th>\n",
        "      <th>swj_geom</th>\n",
        "      <th>connected</th>\n",
        "      <th>username</th>\n",
        "      <th>timestamp</th>\n",
        "    </tr>\n",
        "  </thead>\n",
        "  <tbody>\n",
        "    <tr>\n",
        "      <th>0</th>\n",
        "      <td>311597</td>\n",
        "      <td>311598</td>\n",
        "      <td>01020000000200000085C2FCA55A945EC03691401219D2...</td>\n",
        "      <td>010200000002000000DB7768EC57945EC0A010211219D2...</td>\n",
        "      <td>0</td>\n",
        "      <td>caspian</td>\n",
        "      <td>2016-02-01 23:03:41.168387+00</td>\n",
        "    </tr>\n",
        "    <tr>\n",
        "      <th>1</th>\n",
        "      <td>302056</td>\n",
        "      <td>302687</td>\n",
        "      <td>010200000002000000AB4840EDEB965EC0BFB16BC256D2...</td>\n",
        "      <td>0102000000020000009AECE51ED8965EC0F0C5418970D2...</td>\n",
        "      <td>1</td>\n",
        "      <td>caspian</td>\n",
        "      <td>2016-02-01 23:03:43.513612+00</td>\n",
        "    </tr>\n",
        "    <tr>\n",
        "      <th>2</th>\n",
        "      <td>298890</td>\n",
        "      <td>302933</td>\n",
        "      <td>0102000000020000005DB5C7D7F6995EC05B821FC124D3...</td>\n",
        "      <td>010200000002000000AD9E97BEE4995EC0D6F8007D07D3...</td>\n",
        "      <td>0</td>\n",
        "      <td>caspian</td>\n",
        "      <td>2016-02-01 23:03:46.180886+00</td>\n",
        "    </tr>\n",
        "    <tr>\n",
        "      <th>3</th>\n",
        "      <td>326590</td>\n",
        "      <td>327223</td>\n",
        "      <td>010200000002000000F3A03016C9985EC05A320173C2C3...</td>\n",
        "      <td>0102000000020000000FE6F93FC9985EC0FAD5BE72DDC3...</td>\n",
        "      <td>1</td>\n",
        "      <td>caspian</td>\n",
        "      <td>2016-02-01 23:04:12.130805+00</td>\n",
        "    </tr>\n",
        "    <tr>\n",
        "      <th>4</th>\n",
        "      <td>305742</td>\n",
        "      <td>305743</td>\n",
        "      <td>01020000000200000074A5B707A4925EC071427AD87DD6...</td>\n",
        "      <td>0102000000020000002F98D0AEB2925EC001FFB3BA7DD6...</td>\n",
        "      <td>1</td>\n",
        "      <td>caspian</td>\n",
        "      <td>2016-02-01 23:04:15.218594+00</td>\n",
        "    </tr>\n",
        "  </tbody>\n",
        "</table>\n",
        "</div>"
       ],
       "metadata": {},
       "output_type": "pyout",
       "prompt_number": 3,
       "text": [
        "   swi_id  swj_id                                           swi_geom  \\\n",
        "0  311597  311598  01020000000200000085C2FCA55A945EC03691401219D2...   \n",
        "1  302056  302687  010200000002000000AB4840EDEB965EC0BFB16BC256D2...   \n",
        "2  298890  302933  0102000000020000005DB5C7D7F6995EC05B821FC124D3...   \n",
        "3  326590  327223  010200000002000000F3A03016C9985EC05A320173C2C3...   \n",
        "4  305742  305743  01020000000200000074A5B707A4925EC071427AD87DD6...   \n",
        "\n",
        "                                            swj_geom  connected username  \\\n",
        "0  010200000002000000DB7768EC57945EC0A010211219D2...          0  caspian   \n",
        "1  0102000000020000009AECE51ED8965EC0F0C5418970D2...          1  caspian   \n",
        "2  010200000002000000AD9E97BEE4995EC0D6F8007D07D3...          0  caspian   \n",
        "3  0102000000020000000FE6F93FC9985EC0FAD5BE72DDC3...          1  caspian   \n",
        "4  0102000000020000002F98D0AEB2925EC001FFB3BA7DD6...          1  caspian   \n",
        "\n",
        "                       timestamp  \n",
        "0  2016-02-01 23:03:41.168387+00  \n",
        "1  2016-02-01 23:03:43.513612+00  \n",
        "2  2016-02-01 23:03:46.180886+00  \n",
        "3  2016-02-01 23:04:12.130805+00  \n",
        "4  2016-02-01 23:04:15.218594+00  "
       ]
      }
     ],
     "prompt_number": 3
    },
    {
     "cell_type": "heading",
     "level": 3,
     "metadata": {},
     "source": [
      "Change Raw labels to crowdsourced labels : "
     ]
    },
    {
     "cell_type": "code",
     "collapsed": false,
     "input": [
      "raw_data2 = pd.DataFrame()\n",
      "\n",
      "True_disagree = 0. \n",
      "False_disagree = 0. \n",
      "\n",
      "NoConn = sum(raw_data['connected'])\n",
      "NotConn = len(raw_data) - NoConn + 0. \n",
      "\n",
      "for i in range(0,len(crowd_labels)):\n",
      "    temp = raw_data[raw_data['id_i']==crowd_labels['swi_id'][i]]\n",
      "    temp2 = temp[temp['id_j']==crowd_labels['swj_id'][i]]\n",
      "    raw_data2 = raw_data2.append(temp2,ignore_index=True)\n",
      "    \n",
      "\n",
      "    if (i%1000==0):\n",
      "        print i\n",
      "            \n"
     ],
     "language": "python",
     "metadata": {},
     "outputs": [
      {
       "output_type": "stream",
       "stream": "stdout",
       "text": [
        "0\n",
        "1000"
       ]
      },
      {
       "output_type": "stream",
       "stream": "stdout",
       "text": [
        "\n",
        "2000"
       ]
      },
      {
       "output_type": "stream",
       "stream": "stdout",
       "text": [
        "\n",
        "3000"
       ]
      },
      {
       "output_type": "stream",
       "stream": "stdout",
       "text": [
        "\n",
        "4000"
       ]
      },
      {
       "output_type": "stream",
       "stream": "stdout",
       "text": [
        "\n",
        "5000"
       ]
      },
      {
       "output_type": "stream",
       "stream": "stdout",
       "text": [
        "\n",
        "6000"
       ]
      },
      {
       "output_type": "stream",
       "stream": "stdout",
       "text": [
        "\n",
        "7000"
       ]
      },
      {
       "output_type": "stream",
       "stream": "stdout",
       "text": [
        "\n",
        "8000"
       ]
      },
      {
       "output_type": "stream",
       "stream": "stdout",
       "text": [
        "\n",
        "9000"
       ]
      },
      {
       "output_type": "stream",
       "stream": "stdout",
       "text": [
        "\n",
        "10000"
       ]
      },
      {
       "output_type": "stream",
       "stream": "stdout",
       "text": [
        "\n"
       ]
      }
     ],
     "prompt_number": 4
    },
    {
     "cell_type": "code",
     "collapsed": false,
     "input": [
      "temp = pd.DataFrame({'Hlab' : raw_data2['connected']})\n",
      "raw_data3 = pd.concat([temp,raw_data2],axis=1)\n",
      "raw_data3['connected']=crowd_labels['connected']\n",
      "bla.head()"
     ],
     "language": "python",
     "metadata": {},
     "outputs": [
      {
       "html": [
        "<div style=\"max-width:1500px;overflow:auto;\">\n",
        "<table border=\"1\" class=\"dataframe\">\n",
        "  <thead>\n",
        "    <tr style=\"text-align: right;\">\n",
        "      <th></th>\n",
        "      <th>Hlab</th>\n",
        "      <th>connected</th>\n",
        "      <th>id_i</th>\n",
        "      <th>id_j</th>\n",
        "      <th>length_i</th>\n",
        "      <th>length_j</th>\n",
        "      <th>side_i</th>\n",
        "      <th>side_j</th>\n",
        "      <th>sw_width_i</th>\n",
        "      <th>sw_width_j</th>\n",
        "      <th>...</th>\n",
        "      <th>surftype_i</th>\n",
        "      <th>surftype_j</th>\n",
        "      <th>intersects</th>\n",
        "      <th>near_angle</th>\n",
        "      <th>near_distance</th>\n",
        "      <th>near_line</th>\n",
        "      <th>near_line_srid</th>\n",
        "      <th>bid_i</th>\n",
        "      <th>bid_j</th>\n",
        "      <th>intersects_street</th>\n",
        "    </tr>\n",
        "  </thead>\n",
        "  <tbody>\n",
        "    <tr>\n",
        "      <th>0</th>\n",
        "      <td>0</td>\n",
        "      <td>0</td>\n",
        "      <td>311597</td>\n",
        "      <td>311598</td>\n",
        "      <td>416.981314</td>\n",
        "      <td>416.981314</td>\n",
        "      <td>W</td>\n",
        "      <td>E</td>\n",
        "      <td>72</td>\n",
        "      <td>72</td>\n",
        "      <td>...</td>\n",
        "      <td>PCC</td>\n",
        "      <td>PCC</td>\n",
        "      <td>f</td>\n",
        "      <td>0.000000</td>\n",
        "      <td>41.000105</td>\n",
        "      <td>LINESTRING(-122.318032527847 47.6425332642773,...</td>\n",
        "      <td>4326</td>\n",
        "      <td>4677</td>\n",
        "      <td>NaN</td>\n",
        "      <td>1</td>\n",
        "    </tr>\n",
        "    <tr>\n",
        "      <th>1</th>\n",
        "      <td>1</td>\n",
        "      <td>1</td>\n",
        "      <td>302056</td>\n",
        "      <td>302687</td>\n",
        "      <td>291.695207</td>\n",
        "      <td>299.853637</td>\n",
        "      <td>E</td>\n",
        "      <td>S</td>\n",
        "      <td>74</td>\n",
        "      <td>72</td>\n",
        "      <td>...</td>\n",
        "      <td>PCC</td>\n",
        "      <td>PCC</td>\n",
        "      <td>t</td>\n",
        "      <td>-4.692461</td>\n",
        "      <td>8.788482</td>\n",
        "      <td>LINESTRING(-122.358132038393 47.6440722767847,...</td>\n",
        "      <td>4326</td>\n",
        "      <td>5284</td>\n",
        "      <td>5284</td>\n",
        "      <td>0</td>\n",
        "    </tr>\n",
        "    <tr>\n",
        "      <th>2</th>\n",
        "      <td>0</td>\n",
        "      <td>0</td>\n",
        "      <td>298890</td>\n",
        "      <td>302933</td>\n",
        "      <td>237.706332</td>\n",
        "      <td>291.435441</td>\n",
        "      <td>N</td>\n",
        "      <td>E</td>\n",
        "      <td>60</td>\n",
        "      <td>60</td>\n",
        "      <td>...</td>\n",
        "      <td>PCC</td>\n",
        "      <td>PCC</td>\n",
        "      <td>f</td>\n",
        "      <td>1.574324</td>\n",
        "      <td>48.002503</td>\n",
        "      <td>LINESTRING(-122.404726693413 47.6495592779867,...</td>\n",
        "      <td>4326</td>\n",
        "      <td>3131</td>\n",
        "      <td>852</td>\n",
        "      <td>1</td>\n",
        "    </tr>\n",
        "    <tr>\n",
        "      <th>3</th>\n",
        "      <td>1</td>\n",
        "      <td>1</td>\n",
        "      <td>326590</td>\n",
        "      <td>327223</td>\n",
        "      <td>307.347742</td>\n",
        "      <td>686.884784</td>\n",
        "      <td>E</td>\n",
        "      <td>S</td>\n",
        "      <td>60</td>\n",
        "      <td>60</td>\n",
        "      <td>...</td>\n",
        "      <td>PCC</td>\n",
        "      <td>PCC</td>\n",
        "      <td>t</td>\n",
        "      <td>-5.334800</td>\n",
        "      <td>27.661917</td>\n",
        "      <td>LINESTRING(-122.387263901279 47.5302141867557,...</td>\n",
        "      <td>4326</td>\n",
        "      <td>2366</td>\n",
        "      <td>2366</td>\n",
        "      <td>0</td>\n",
        "    </tr>\n",
        "    <tr>\n",
        "      <th>4</th>\n",
        "      <td>1</td>\n",
        "      <td>1</td>\n",
        "      <td>305742</td>\n",
        "      <td>305743</td>\n",
        "      <td>90.287463</td>\n",
        "      <td>116.126303</td>\n",
        "      <td>S</td>\n",
        "      <td>S</td>\n",
        "      <td>72</td>\n",
        "      <td>72</td>\n",
        "      <td>...</td>\n",
        "      <td>PCC</td>\n",
        "      <td>PCC</td>\n",
        "      <td>f</td>\n",
        "      <td>3.140903</td>\n",
        "      <td>13.948025</td>\n",
        "      <td>LINESTRING(-122.291628095655 47.6757150726019,...</td>\n",
        "      <td>4326</td>\n",
        "      <td>1157</td>\n",
        "      <td>1157</td>\n",
        "      <td>0</td>\n",
        "    </tr>\n",
        "  </tbody>\n",
        "</table>\n",
        "<p>5 rows \u00d7 22 columns</p>\n",
        "</div>"
       ],
       "metadata": {},
       "output_type": "pyout",
       "prompt_number": 22,
       "text": [
        "   Hlab  connected    id_i    id_j    length_i    length_j side_i side_j  \\\n",
        "0     0          0  311597  311598  416.981314  416.981314      W      E   \n",
        "1     1          1  302056  302687  291.695207  299.853637      E      S   \n",
        "2     0          0  298890  302933  237.706332  291.435441      N      E   \n",
        "3     1          1  326590  327223  307.347742  686.884784      E      S   \n",
        "4     1          1  305742  305743   90.287463  116.126303      S      S   \n",
        "\n",
        "   sw_width_i  sw_width_j        ...         surftype_i surftype_j intersects  \\\n",
        "0          72          72        ...                PCC        PCC          f   \n",
        "1          74          72        ...                PCC        PCC          t   \n",
        "2          60          60        ...                PCC        PCC          f   \n",
        "3          60          60        ...                PCC        PCC          t   \n",
        "4          72          72        ...                PCC        PCC          f   \n",
        "\n",
        "  near_angle near_distance                                          near_line  \\\n",
        "0   0.000000     41.000105  LINESTRING(-122.318032527847 47.6425332642773,...   \n",
        "1  -4.692461      8.788482  LINESTRING(-122.358132038393 47.6440722767847,...   \n",
        "2   1.574324     48.002503  LINESTRING(-122.404726693413 47.6495592779867,...   \n",
        "3  -5.334800     27.661917  LINESTRING(-122.387263901279 47.5302141867557,...   \n",
        "4   3.140903     13.948025  LINESTRING(-122.291628095655 47.6757150726019,...   \n",
        "\n",
        "   near_line_srid bid_i  bid_j  intersects_street  \n",
        "0            4326  4677    NaN                  1  \n",
        "1            4326  5284   5284                  0  \n",
        "2            4326  3131    852                  1  \n",
        "3            4326  2366   2366                  0  \n",
        "4            4326  1157   1157                  0  \n",
        "\n",
        "[5 rows x 22 columns]"
       ]
      }
     ],
     "prompt_number": 22
    },
    {
     "cell_type": "code",
     "collapsed": false,
     "input": [
      "raw_data2.head()\n",
      "NoDis = sum(raw_data2['connected']!=crowd_labels['connected'])\n",
      "print NoDis\n",
      "raw_data2['connected']=crowd_labels['connected']"
     ],
     "language": "python",
     "metadata": {},
     "outputs": [
      {
       "output_type": "stream",
       "stream": "stdout",
       "text": [
        "936\n"
       ]
      }
     ],
     "prompt_number": 5
    },
    {
     "cell_type": "code",
     "collapsed": false,
     "input": [
      "# Remove features that we shouldn't learn (encoded geometries and sidewalk ID numbers)\n",
      "near_line = raw_data2['near_line']  # Save for later\n",
      "del raw_data2['near_line']\n",
      "del raw_data2['id_i']\n",
      "del raw_data2['id_j']"
     ],
     "language": "python",
     "metadata": {},
     "outputs": [],
     "prompt_number": 6
    },
    {
     "cell_type": "code",
     "collapsed": false,
     "input": [
      "# Binarizes categorical variables \n",
      "# (e.g. if 3 categories, makes 3 cols with 1s and 0s)\n",
      "# X = pd.get_dummies(raw_data)  \n",
      "\n",
      "# Turn categorical variables into integer labels\n",
      "label_encoder = preprocessing.LabelEncoder()\n",
      "raw_data2['curbtype_i'] = label_encoder.fit_transform(raw_data2['curbtype_i'])\n",
      "raw_data2['curbtype_j'] = label_encoder.fit_transform(raw_data2['curbtype_j'])\n",
      "raw_data2['side_i'] = label_encoder.fit_transform(raw_data2['side_i'])\n",
      "raw_data2['side_j'] = label_encoder.fit_transform(raw_data2['side_j'])\n",
      "raw_data2['surftype_i'] = label_encoder.fit_transform(raw_data2['surftype_i'])\n",
      "raw_data2['surftype_j'] = label_encoder.fit_transform(raw_data2['surftype_j'])\n",
      "raw_data2['intersects'] = label_encoder.fit_transform(raw_data2['intersects'])\n",
      "\n",
      "X = raw_data2\n",
      "\n",
      "X['same_curbtype'] = (X['curbtype_i'] == X['curbtype_j']).astype(int)\n",
      "X['same_surftype'] = (X['surftype_i'] == X['surftype_j']).astype(int)\n",
      "X['same_block'] = (X['bid_i'] == X['bid_j']).astype(int)\n",
      "X['same_side'] = (X['side_i'] == X['side_j']).astype(int)\n",
      "\n",
      "# TODO: There's probably more features we can generate with these two lengths\n",
      "X['length_diff'] = abs(X['length_i'] - X['length_j'])\n",
      "X['sw_width_diff'] = abs(X['sw_width_i'] - X['sw_width_j'])\n",
      "\n",
      "y = X['connected']\n",
      "X = X.drop('connected', 1)\n",
      "X = X.drop('curbtype_i', 1)\n",
      "X = X.drop('curbtype_j', 1)\n",
      "X = X.drop('surftype_i', 1)\n",
      "X = X.drop('surftype_j', 1)\n",
      "\n",
      "X['near_angle'] = abs(X['near_angle'])\n",
      "\n",
      "del X['bid_i']  # This has NaN and will cause errors in sklearn\n",
      "del X['bid_j']\n",
      "\n",
      "del X['side_i']\n",
      "del X['side_j']\n",
      "del X['length_i']\n",
      "del X['length_j']\n",
      "del X['sw_width_i']\n",
      "del X['sw_width_j']\n",
      "\n",
      "X.head()"
     ],
     "language": "python",
     "metadata": {},
     "outputs": [
      {
       "html": [
        "<div style=\"max-width:1500px;overflow:auto;\">\n",
        "<table border=\"1\" class=\"dataframe\">\n",
        "  <thead>\n",
        "    <tr style=\"text-align: right;\">\n",
        "      <th></th>\n",
        "      <th>intersects</th>\n",
        "      <th>near_angle</th>\n",
        "      <th>near_distance</th>\n",
        "      <th>near_line_srid</th>\n",
        "      <th>intersects_street</th>\n",
        "      <th>same_curbtype</th>\n",
        "      <th>same_surftype</th>\n",
        "      <th>same_block</th>\n",
        "      <th>same_side</th>\n",
        "      <th>length_diff</th>\n",
        "      <th>sw_width_diff</th>\n",
        "    </tr>\n",
        "  </thead>\n",
        "  <tbody>\n",
        "    <tr>\n",
        "      <th>0</th>\n",
        "      <td>0</td>\n",
        "      <td>0.000000</td>\n",
        "      <td>41.000105</td>\n",
        "      <td>4326</td>\n",
        "      <td>1</td>\n",
        "      <td>1</td>\n",
        "      <td>0</td>\n",
        "      <td>0</td>\n",
        "      <td>0</td>\n",
        "      <td>0.000000</td>\n",
        "      <td>0</td>\n",
        "    </tr>\n",
        "    <tr>\n",
        "      <th>1</th>\n",
        "      <td>1</td>\n",
        "      <td>4.692461</td>\n",
        "      <td>8.788482</td>\n",
        "      <td>4326</td>\n",
        "      <td>0</td>\n",
        "      <td>1</td>\n",
        "      <td>0</td>\n",
        "      <td>1</td>\n",
        "      <td>0</td>\n",
        "      <td>8.158430</td>\n",
        "      <td>2</td>\n",
        "    </tr>\n",
        "    <tr>\n",
        "      <th>2</th>\n",
        "      <td>0</td>\n",
        "      <td>1.574324</td>\n",
        "      <td>48.002503</td>\n",
        "      <td>4326</td>\n",
        "      <td>1</td>\n",
        "      <td>1</td>\n",
        "      <td>0</td>\n",
        "      <td>0</td>\n",
        "      <td>1</td>\n",
        "      <td>53.729109</td>\n",
        "      <td>0</td>\n",
        "    </tr>\n",
        "    <tr>\n",
        "      <th>3</th>\n",
        "      <td>1</td>\n",
        "      <td>5.334800</td>\n",
        "      <td>27.661917</td>\n",
        "      <td>4326</td>\n",
        "      <td>0</td>\n",
        "      <td>1</td>\n",
        "      <td>0</td>\n",
        "      <td>1</td>\n",
        "      <td>0</td>\n",
        "      <td>379.537043</td>\n",
        "      <td>0</td>\n",
        "    </tr>\n",
        "    <tr>\n",
        "      <th>4</th>\n",
        "      <td>0</td>\n",
        "      <td>3.140903</td>\n",
        "      <td>13.948025</td>\n",
        "      <td>4326</td>\n",
        "      <td>0</td>\n",
        "      <td>1</td>\n",
        "      <td>0</td>\n",
        "      <td>1</td>\n",
        "      <td>0</td>\n",
        "      <td>25.838839</td>\n",
        "      <td>0</td>\n",
        "    </tr>\n",
        "  </tbody>\n",
        "</table>\n",
        "</div>"
       ],
       "metadata": {},
       "output_type": "pyout",
       "prompt_number": 7,
       "text": [
        "   intersects  near_angle  near_distance  near_line_srid  intersects_street  \\\n",
        "0           0    0.000000      41.000105            4326                  1   \n",
        "1           1    4.692461       8.788482            4326                  0   \n",
        "2           0    1.574324      48.002503            4326                  1   \n",
        "3           1    5.334800      27.661917            4326                  0   \n",
        "4           0    3.140903      13.948025            4326                  0   \n",
        "\n",
        "   same_curbtype  same_surftype  same_block  same_side  length_diff  \\\n",
        "0              1              0           0          0     0.000000   \n",
        "1              1              0           1          0     8.158430   \n",
        "2              1              0           0          1    53.729109   \n",
        "3              1              0           1          0   379.537043   \n",
        "4              1              0           1          0    25.838839   \n",
        "\n",
        "   sw_width_diff  \n",
        "0              0  \n",
        "1              2  \n",
        "2              0  \n",
        "3              0  \n",
        "4              0  "
       ]
      }
     ],
     "prompt_number": 7
    },
    {
     "cell_type": "code",
     "collapsed": false,
     "input": [
      "# Scaling appropriate features by subtracting mean and scaling to unit variance\n",
      "scaler = preprocessing.StandardScaler()\n",
      "\n",
      "X['near_distance'] = scaler.fit_transform(X['near_distance'])\n",
      "X['length_diff'] = scaler.fit_transform(X['length_diff'])\n",
      "X['sw_width_diff'] = scaler.fit_transform(X['sw_width_diff'])"
     ],
     "language": "python",
     "metadata": {},
     "outputs": [
      {
       "output_type": "stream",
       "stream": "stderr",
       "text": [
        "C:\\Python27\\lib\\site-packages\\sklearn\\preprocessing\\data.py:583: DeprecationWarning: Passing 1d arrays as data is deprecated in 0.17 and will raise ValueError in 0.19. Reshape your data either using X.reshape(-1, 1) if your data has a single feature or X.reshape(1, -1) if it contains a single sample.\n",
        "  warnings.warn(DEPRECATION_MSG_1D, DeprecationWarning)\n",
        "C:\\Python27\\lib\\site-packages\\sklearn\\preprocessing\\data.py:646: DeprecationWarning: Passing 1d arrays as data is deprecated in 0.17 and will raise ValueError in 0.19. Reshape your data either using X.reshape(-1, 1) if your data has a single feature or X.reshape(1, -1) if it contains a single sample.\n",
        "  warnings.warn(DEPRECATION_MSG_1D, DeprecationWarning)\n",
        "C:\\Python27\\lib\\site-packages\\sklearn\\preprocessing\\data.py:583: DeprecationWarning: Passing 1d arrays as data is deprecated in 0.17 and will raise ValueError in 0.19. Reshape your data either using X.reshape(-1, 1) if your data has a single feature or X.reshape(1, -1) if it contains a single sample.\n",
        "  warnings.warn(DEPRECATION_MSG_1D, DeprecationWarning)\n",
        "C:\\Python27\\lib\\site-packages\\sklearn\\preprocessing\\data.py:646: DeprecationWarning: Passing 1d arrays as data is deprecated in 0.17 and will raise ValueError in 0.19. Reshape your data either using X.reshape(-1, 1) if your data has a single feature or X.reshape(1, -1) if it contains a single sample.\n",
        "  warnings.warn(DEPRECATION_MSG_1D, DeprecationWarning)\n",
        "C:\\Python27\\lib\\site-packages\\sklearn\\utils\\validation.py:420: DataConversionWarning: Data with input dtype int64 was converted to float64 by StandardScaler.\n",
        "  warnings.warn(msg, DataConversionWarning)\n",
        "C:\\Python27\\lib\\site-packages\\sklearn\\preprocessing\\data.py:583: DeprecationWarning: Passing 1d arrays as data is deprecated in 0.17 and will raise ValueError in 0.19. Reshape your data either using X.reshape(-1, 1) if your data has a single feature or X.reshape(1, -1) if it contains a single sample.\n",
        "  warnings.warn(DEPRECATION_MSG_1D, DeprecationWarning)\n",
        "C:\\Python27\\lib\\site-packages\\sklearn\\utils\\validation.py:420: DataConversionWarning: Data with input dtype int64 was converted to float64 by StandardScaler.\n",
        "  warnings.warn(msg, DataConversionWarning)\n",
        "C:\\Python27\\lib\\site-packages\\sklearn\\preprocessing\\data.py:646: DeprecationWarning: Passing 1d arrays as data is deprecated in 0.17 and will raise ValueError in 0.19. Reshape your data either using X.reshape(-1, 1) if your data has a single feature or X.reshape(1, -1) if it contains a single sample.\n",
        "  warnings.warn(DEPRECATION_MSG_1D, DeprecationWarning)\n"
       ]
      }
     ],
     "prompt_number": 8
    },
    {
     "cell_type": "code",
     "collapsed": false,
     "input": [
      "X_train, X_test, y_train, y_test = cross_validation.train_test_split(X, y, test_size=0.5, random_state=6883)"
     ],
     "language": "python",
     "metadata": {},
     "outputs": [],
     "prompt_number": 9
    },
    {
     "cell_type": "heading",
     "level": 3,
     "metadata": {},
     "source": [
      "Logistic Regression : "
     ]
    },
    {
     "cell_type": "code",
     "collapsed": false,
     "input": [
      "logistic = linear_model.LogisticRegression(penalty='l1', C=1e-1)\n",
      "logistic.fit(X_train, y_train)\n",
      "print logistic.score(X_test, y_test)\n",
      "for colname, value in zip(list(X.columns), logistic.coef_[0]):\n",
      "    print '{}: {}'.format(colname, value)"
     ],
     "language": "python",
     "metadata": {},
     "outputs": [
      {
       "output_type": "stream",
       "stream": "stdout",
       "text": [
        "0.95602330389\n",
        "intersects: 2.44606351674\n",
        "near_angle: 0.0\n",
        "near_distance: -0.450852893667\n",
        "near_line_srid: -0.000132973107673\n",
        "intersects_street: -3.3324425973\n",
        "same_curbtype: 0.0\n",
        "same_surftype: 0.0\n",
        "same_block: 2.05974938519\n",
        "same_side: 0.0\n",
        "length_diff: 0.0591279006089\n",
        "sw_width_diff: -0.00926495845705\n"
       ]
      }
     ],
     "prompt_number": 10
    },
    {
     "cell_type": "code",
     "collapsed": false,
     "input": [
      "y_pred = logistic.predict(X_test)\n",
      "y_prob = logistic.predict_proba(X_test)[:,1]\n",
      "precision, recall, thresholds = precision_recall_curve(y_test, y_prob)\n",
      "print \"Precision score (what fraction of predicted connections are true): {}\".format(precision_score(y_test, y_pred))\n",
      "print \"Recall score (what fraction of connections were found?): {}\".format(recall_score(y_test, y_pred))\n",
      "\n",
      "plt.plot(recall, precision)\n",
      "plt.xlabel('Recall')\n",
      "plt.ylabel('Precision')\n",
      "plt.show()"
     ],
     "language": "python",
     "metadata": {},
     "outputs": [
      {
       "output_type": "stream",
       "stream": "stdout",
       "text": [
        "Precision score (what fraction of predicted connections are true): 0.951466127401\n",
        "Recall score (what fraction of connections were found?): 0.834960070985\n"
       ]
      },
      {
       "metadata": {},
       "output_type": "display_data",
       "png": "[encoded data removed]",
       "text": [
        "<matplotlib.figure.Figure at 0xf959890>"
       ]
      }
     ],
     "prompt_number": 11
    },
    {
     "cell_type": "heading",
     "level": 3,
     "metadata": {},
     "source": [
      "Logistic Regression with Polynomial Features : "
     ]
    },
    {
     "cell_type": "code",
     "collapsed": false,
     "input": [
      "poly = preprocessing.PolynomialFeatures(2)\n",
      "Xp = poly.fit_transform(X)\n",
      "Xp_train, Xp_test, yp_train, yp_test = cross_validation.train_test_split(Xp, y, test_size=0.5, random_state=6883)"
     ],
     "language": "python",
     "metadata": {},
     "outputs": [],
     "prompt_number": 12
    },
    {
     "cell_type": "code",
     "collapsed": false,
     "input": [
      "logisticp = linear_model.LogisticRegression(penalty='l1', C=1e-2)\n",
      "logisticp.fit(Xp_train, yp_train)\n",
      "print 'Fit score: {}'.format(logisticp.score(Xp_test, yp_test))\n",
      "for colname, value in zip(list(poly.powers_), logisticp.coef_[0]):\n",
      "    print '{}: {}'.format(colname, value)"
     ],
     "language": "python",
     "metadata": {},
     "outputs": [
      {
       "output_type": "stream",
       "stream": "stdout",
       "text": [
        "Fit score: 0.95602330389\n",
        "[0 0 0 0 0 0 0 0 0 0 0]: 0.0\n",
        "[1 0 0 0 0 0 0 0 0 0 0]: 0.0\n",
        "[0 1 0 0 0 0 0 0 0 0 0]: 0.0\n",
        "[0 0 1 0 0 0 0 0 0 0 0]: 0.0\n",
        "[0 0 0 1 0 0 0 0 0 0 0]: -5.23447128326e-05\n",
        "[0 0 0 0 1 0 0 0 0 0 0]: 0.0\n",
        "[0 0 0 0 0 1 0 0 0 0 0]: 0.0\n",
        "[0 0 0 0 0 0 1 0 0 0 0]: 0.0\n",
        "[0 0 0 0 0 0 0 1 0 0 0]: 0.0\n",
        "[0 0 0 0 0 0 0 0 1 0 0]: 0.0\n",
        "[0 0 0 0 0 0 0 0 0 1 0]: 0.0\n",
        "[0 0 0 0 0 0 0 0 0 0 1]: 0.0\n",
        "[2 0 0 0 0 0 0 0 0 0 0]: 0.0\n",
        "[1 1 0 0 0 0 0 0 0 0 0]: 0.0\n",
        "[1 0 1 0 0 0 0 0 0 0 0]: 0.0\n",
        "[1 0 0 1 0 0 0 0 0 0 0]: 0.000670628298605\n",
        "[1 0 0 0 1 0 0 0 0 0 0]: 0.0\n",
        "[1 0 0 0 0 1 0 0 0 0 0]: 0.0\n",
        "[1 0 0 0 0 0 1 0 0 0 0]: 0.0\n",
        "[1 0 0 0 0 0 0 1 0 0 0]: 0.0\n",
        "[1 0 0 0 0 0 0 0 1 0 0]: 0.0\n",
        "[1 0 0 0 0 0 0 0 0 1 0]: 0.0\n",
        "[1 0 0 0 0 0 0 0 0 0 1]: 0.0\n",
        "[0 2 0 0 0 0 0 0 0 0 0]: 0.0\n",
        "[0 1 1 0 0 0 0 0 0 0 0]: 0.0\n",
        "[0 1 0 1 0 0 0 0 0 0 0]: -1.19665479092e-06\n",
        "[0 1 0 0 1 0 0 0 0 0 0]: 0.0\n",
        "[0 1 0 0 0 1 0 0 0 0 0]: 0.0\n",
        "[0 1 0 0 0 0 1 0 0 0 0]: 0.0\n",
        "[0 1 0 0 0 0 0 1 0 0 0]: 0.0\n",
        "[0 1 0 0 0 0 0 0 1 0 0]: 0.0\n",
        "[0 1 0 0 0 0 0 0 0 1 0]: 0.0\n",
        "[0 1 0 0 0 0 0 0 0 0 1]: 0.0\n",
        "[0 0 2 0 0 0 0 0 0 0 0]: 0.0172508735113\n",
        "[0 0 1 1 0 0 0 0 0 0 0]: -0.000172459776882\n",
        "[0 0 1 0 1 0 0 0 0 0 0]: 0.0\n",
        "[0 0 1 0 0 1 0 0 0 0 0]: 0.0\n",
        "[0 0 1 0 0 0 1 0 0 0 0]: 0.0\n",
        "[0 0 1 0 0 0 0 1 0 0 0]: 0.0\n",
        "[0 0 1 0 0 0 0 0 1 0 0]: 0.0\n",
        "[0 0 1 0 0 0 0 0 0 1 0]: 0.0\n",
        "[0 0 1 0 0 0 0 0 0 0 1]: 0.0\n",
        "[0 0 0 2 0 0 0 0 0 0 0]: -1.37231480746e-08\n",
        "[0 0 0 1 1 0 0 0 0 0 0]: -0.000791553486789\n",
        "[0 0 0 1 0 1 0 0 0 0 0]: -5.09285105187e-05\n",
        "[0 0 0 1 0 0 1 0 0 0 0]: 8.55295214182e-05\n",
        "[0 0 0 1 0 0 0 1 0 0 0]: 0.000517167412669\n",
        "[0 0 0 1 0 0 0 0 1 0 0]: -0.000156432316512\n",
        "[0 0 0 1 0 0 0 0 0 1 0]: 2.16211091491e-05\n",
        "[0 0 0 1 0 0 0 0 0 0 1]: -2.02883903684e-05\n",
        "[0 0 0 0 2 0 0 0 0 0 0]: 0.0\n",
        "[0 0 0 0 1 1 0 0 0 0 0]: 0.0\n",
        "[0 0 0 0 1 0 1 0 0 0 0]: 0.0\n",
        "[0 0 0 0 1 0 0 1 0 0 0]: 0.0\n",
        "[0 0 0 0 1 0 0 0 1 0 0]: 0.0\n",
        "[0 0 0 0 1 0 0 0 0 1 0]: 0.0\n",
        "[0 0 0 0 1 0 0 0 0 0 1]: 0.0\n",
        "[0 0 0 0 0 2 0 0 0 0 0]: 0.0\n",
        "[0 0 0 0 0 1 1 0 0 0 0]: 0.0\n",
        "[0 0 0 0 0 1 0 1 0 0 0]: 0.0\n",
        "[0 0 0 0 0 1 0 0 1 0 0]: 0.0\n",
        "[0 0 0 0 0 1 0 0 0 1 0]: 0.0\n",
        "[0 0 0 0 0 1 0 0 0 0 1]: 0.0\n",
        "[0 0 0 0 0 0 2 0 0 0 0]: 0.0\n",
        "[0 0 0 0 0 0 1 1 0 0 0]: 0.0\n",
        "[0 0 0 0 0 0 1 0 1 0 0]: 0.0\n",
        "[0 0 0 0 0 0 1 0 0 1 0]: 0.0\n",
        "[0 0 0 0 0 0 1 0 0 0 1]: 0.0\n",
        "[0 0 0 0 0 0 0 2 0 0 0]: 0.0\n",
        "[0 0 0 0 0 0 0 1 1 0 0]: 0.0\n",
        "[0 0 0 0 0 0 0 1 0 1 0]: 0.0\n",
        "[0 0 0 0 0 0 0 1 0 0 1]: 0.0\n",
        "[0 0 0 0 0 0 0 0 2 0 0]: 0.0"
       ]
      },
      {
       "output_type": "stream",
       "stream": "stdout",
       "text": [
        "\n",
        "[0 0 0 0 0 0 0 0 1 1 0]: 0.0\n",
        "[0 0 0 0 0 0 0 0 1 0 1]: 0.0\n",
        "[0 0 0 0 0 0 0 0 0 2 0]: 0.0\n",
        "[0 0 0 0 0 0 0 0 0 1 1]: 0.0\n",
        "[0 0 0 0 0 0 0 0 0 0 2]: 0.0\n"
       ]
      }
     ],
     "prompt_number": 13
    },
    {
     "cell_type": "code",
     "collapsed": false,
     "input": [
      "y_predp = logisticp.predict(Xp_test)\n",
      "y_probp = logisticp.predict_proba(Xp_test)[:,1]\n",
      "precisionp, recallp, thresholdsp = precision_recall_curve(y_test, y_probp)\n",
      "print \"Precision score (what fraction of predicted connections are true): {}\".format(precision_score(y_test, y_predp))\n",
      "print \"Recall score (what fraction of connections were found?): {}\".format(recall_score(y_test, y_predp))\n",
      "\n",
      "plt.plot(recallp, precisionp)\n",
      "plt.xlabel('Recall')\n",
      "plt.ylabel('Precision')\n",
      "plt.show()"
     ],
     "language": "python",
     "metadata": {},
     "outputs": [
      {
       "output_type": "stream",
       "stream": "stdout",
       "text": [
        "Precision score (what fraction of predicted connections are true): 0.946946946947\n",
        "Recall score (what fraction of connections were found?): 0.839396628217\n"
       ]
      },
      {
       "metadata": {},
       "output_type": "display_data",
       "png": "[encoded data removed]",
       "text": [
        "<matplotlib.figure.Figure at 0x120a7030>"
       ]
      }
     ],
     "prompt_number": 31
    },
    {
     "cell_type": "heading",
     "level": 3,
     "metadata": {},
     "source": [
      "Support Vector Machines "
     ]
    },
    {
     "cell_type": "code",
     "collapsed": false,
     "input": [
      "from sklearn import svm\n",
      "\n",
      "y_train_cls = y_train.copy()\n",
      "y_train_cls.loc[y_train == 0] = -1\n",
      "y_test_cls = y_test.copy()\n",
      "y_test_cls.loc[y_test == 0] = -1"
     ],
     "language": "python",
     "metadata": {},
     "outputs": [],
     "prompt_number": 14
    },
    {
     "cell_type": "code",
     "collapsed": false,
     "input": [
      "svmc = svm.LinearSVC(penalty='l1', dual=False, C=1e-3)\n",
      "svmc.fit(X_train, y_train)\n",
      "print svmc.score(X_test, y_test)\n",
      "svmc_pred = svmc.predict(X_test)\n",
      "print svmc.coef_\n",
      "print precision_score(y_test, svmc_pred)\n",
      "print recall_score(y_test, svmc_pred)"
     ],
     "language": "python",
     "metadata": {},
     "outputs": [
      {
       "output_type": "stream",
       "stream": "stdout",
       "text": [
        "0.946814508551\n",
        "[[  0.00000000e+00   0.00000000e+00   0.00000000e+00   1.24594310e-05\n",
        "   -8.92993139e-01   0.00000000e+00   0.00000000e+00   2.63570954e-01\n",
        "    0.00000000e+00   0.00000000e+00   0.00000000e+00]]\n",
        "0.840872374798\n",
        "0.923691215617\n"
       ]
      }
     ],
     "prompt_number": 15
    },
    {
     "cell_type": "code",
     "collapsed": false,
     "input": [
      "#SVM with a RBF kernel \n",
      "svmR = svm.SVC(kernel='rbf')\n",
      "svmR.fit(X_train, y_train)\n",
      "print svmR.score(X_test, y_test)\n",
      "svmR_pred = svmR.predict(X_test)\n",
      "print precision_score(y_test, svmR_pred)\n",
      "print recall_score(y_test, svmR_pred)"
     ],
     "language": "python",
     "metadata": {},
     "outputs": [
      {
       "output_type": "stream",
       "stream": "stdout",
       "text": [
        "0.958278519075\n",
        "0.913242009132"
       ]
      },
      {
       "output_type": "stream",
       "stream": "stdout",
       "text": [
        "\n",
        "0.887311446318\n"
       ]
      }
     ],
     "prompt_number": 16
    },
    {
     "cell_type": "code",
     "collapsed": false,
     "input": [
      "#learning a decision tree\n",
      "from sklearn import tree\n",
      "DT = tree.DecisionTreeClassifier()\n",
      "DT = DT.fit(X_train, y_train)\n",
      "print(DT.score(X_test, y_test))\n",
      "Dt_pred = DT.predict(X_test)\n",
      "print precision_score(y_test, Dt_pred)\n",
      "print recall_score(y_test, Dt_pred)"
     ],
     "language": "python",
     "metadata": {},
     "outputs": [
      {
       "output_type": "stream",
       "stream": "stdout",
       "text": [
        "0.936853974817\n",
        "0.857918552036\n",
        "0.841171251109\n"
       ]
      }
     ],
     "prompt_number": 17
    },
    {
     "cell_type": "code",
     "collapsed": false,
     "input": [
      "#Learning Decision Tree on polynomial features \n",
      "from sklearn import tree\n",
      "DTP = tree.DecisionTreeClassifier()\n",
      "DTP = DTP.fit(Xp_train, y_train)\n",
      "print(DTP.score(Xp_test, y_test))\n",
      "Dtp_pred = DTP.predict(Xp_test)\n",
      "print precision_score(y_test, Dtp_pred)\n",
      "print recall_score(y_test, Dtp_pred)"
     ],
     "language": "python",
     "metadata": {},
     "outputs": [
      {
       "output_type": "stream",
       "stream": "stdout",
       "text": [
        "0.928960721669\n",
        "0.83527305282\n",
        "0.827861579414\n"
       ]
      }
     ],
     "prompt_number": 18
    },
    {
     "cell_type": "code",
     "collapsed": false,
     "input": [
      "#Linear discriminant analysis using naive bayes on linear features \n",
      "from sklearn.naive_bayes import GaussianNB\n",
      "nb = GaussianNB()\n",
      "nb.fit(X_train, y_train)\n",
      "print(nb.score(X_test,y_test))\n",
      "nb_pred = nb.predict(X_test)\n",
      "print precision_score(y_test, nb_pred)\n",
      "print recall_score(y_test, nb_pred)"
     ],
     "language": "python",
     "metadata": {},
     "outputs": [
      {
       "output_type": "stream",
       "stream": "stdout",
       "text": [
        "0.92726931028\n",
        "0.763157894737\n",
        "0.952085181899\n"
       ]
      }
     ],
     "prompt_number": 19
    },
    {
     "cell_type": "code",
     "collapsed": false,
     "input": [
      "#Linear discriminant analysis using naive bayes on polynomial features \n",
      "qnb = GaussianNB()\n",
      "qnb.fit(Xp_train, y_train)\n",
      "print(qnb.score(Xp_test,y_test))\n",
      "qnb_pred = qnb.predict(Xp_test)\n",
      "print precision_score(y_test, qnb_pred)\n",
      "print recall_score(y_test, qnb_pred)"
     ],
     "language": "python",
     "metadata": {},
     "outputs": [
      {
       "output_type": "stream",
       "stream": "stdout",
       "text": [
        "0.925389964292\n",
        "0.757768361582\n",
        "0.952085181899\n"
       ]
      }
     ],
     "prompt_number": 20
    },
    {
     "cell_type": "code",
     "collapsed": false,
     "input": [
      "#learning a decision tree with different max_depths \n",
      "from sklearn import tree\n",
      "Fit_DT = range(1,20)\n",
      "Prec_DT = range(1,20)\n",
      "Rec_DT = range(1,20)\n",
      "ren = range(1,20)\n",
      "for i in range(1,20):\n",
      "    \n",
      "    DT5 = tree.DecisionTreeClassifier(max_depth=i)\n",
      "    print i\n",
      "    DT5 = DT5.fit(X_train, y_train)\n",
      "    Fit_DT[i-1] = (DT5.score(X_test, y_test))\n",
      "    Dt5_pred = DT5.predict(X_test)\n",
      "    Prec_DT[i-1]= precision_score(y_test, Dt5_pred)\n",
      "    Rec_DT[i-1]=  recall_score(y_test, Dt5_pred)"
     ],
     "language": "python",
     "metadata": {},
     "outputs": [
      {
       "output_type": "stream",
       "stream": "stdout",
       "text": [
        "1\n",
        "2\n",
        "3\n",
        "4"
       ]
      },
      {
       "output_type": "stream",
       "stream": "stdout",
       "text": [
        "\n",
        "5\n",
        "6"
       ]
      },
      {
       "output_type": "stream",
       "stream": "stdout",
       "text": [
        "\n",
        "7\n",
        "8"
       ]
      },
      {
       "output_type": "stream",
       "stream": "stdout",
       "text": [
        "\n",
        "9"
       ]
      },
      {
       "output_type": "stream",
       "stream": "stdout",
       "text": [
        "\n",
        "10"
       ]
      },
      {
       "output_type": "stream",
       "stream": "stdout",
       "text": [
        "\n",
        "11"
       ]
      },
      {
       "output_type": "stream",
       "stream": "stdout",
       "text": [
        "\n",
        "12"
       ]
      },
      {
       "output_type": "stream",
       "stream": "stdout",
       "text": [
        "\n",
        "13"
       ]
      },
      {
       "output_type": "stream",
       "stream": "stdout",
       "text": [
        "\n",
        "14"
       ]
      },
      {
       "output_type": "stream",
       "stream": "stdout",
       "text": [
        "\n",
        "15"
       ]
      },
      {
       "output_type": "stream",
       "stream": "stdout",
       "text": [
        "\n",
        "16"
       ]
      },
      {
       "output_type": "stream",
       "stream": "stdout",
       "text": [
        "\n",
        "17"
       ]
      },
      {
       "output_type": "stream",
       "stream": "stdout",
       "text": [
        "\n",
        "18"
       ]
      },
      {
       "output_type": "stream",
       "stream": "stdout",
       "text": [
        "\n",
        "19"
       ]
      },
      {
       "output_type": "stream",
       "stream": "stdout",
       "text": [
        "\n"
       ]
      }
     ],
     "prompt_number": 21
    },
    {
     "cell_type": "code",
     "collapsed": false,
     "input": [
      "plt.plot(ren,Fit_DT,ren,Prec_DT,ren,Rec_DT)\n",
      "plt.xlabel('Max Depth')\n",
      "plt.legend(('Score','Precision','Recall'),loc='best')"
     ],
     "language": "python",
     "metadata": {},
     "outputs": [
      {
       "metadata": {},
       "output_type": "pyout",
       "prompt_number": 22,
       "text": [
        "<matplotlib.legend.Legend at 0xf99fed0>"
       ]
      },
      {
       "metadata": {},
       "output_type": "display_data",
       "png": "[encoded data removed]",
       "text": [
        "<matplotlib.figure.Figure at 0x140264b0>"
       ]
      }
     ],
     "prompt_number": 22
    },
    {
     "cell_type": "heading",
     "level": 3,
     "metadata": {},
     "source": [
      "Learning and plotting Decision Tree of Depth 4"
     ]
    },
    {
     "cell_type": "code",
     "collapsed": false,
     "input": [
      "#learning a decision tree\n",
      "from sklearn import tree\n",
      "DT4 = tree.DecisionTreeClassifier(max_depth=4)\n",
      "DT4 = DT4.fit(X_train, y_train)\n",
      "print(DT4.score(X_test, y_test))\n",
      "Dt4_pred = DT4.predict(X_test)\n",
      "print precision_score(y_test, Dt4_pred)\n",
      "print recall_score(y_test, Dt4_pred)\n",
      "FeatureNames = X_train.columns.values.tolist()\n",
      "ClassNames = np.array(['not connected','connected'])\n",
      "from sklearn.externals.six import StringIO  \n",
      "import pydot\n",
      "dot_data = StringIO() \n",
      "tree.export_graphviz(DT4, out_file=dot_data, feature_names=FeatureNames, class_names=ClassNames, filled=True, rounded=True, special_characters=True, label = 'none', impurity = False) \n",
      "graph = pydot.graph_from_dot_data(dot_data.getvalue()) \n",
      "graph.write_png(\"DT4_crowd.png\") "
     ],
     "language": "python",
     "metadata": {},
     "outputs": [
      {
       "output_type": "stream",
       "stream": "stdout",
       "text": [
        "0.95151287352\n",
        "0.920619554695\n",
        "0.843833185448\n"
       ]
      },
      {
       "metadata": {},
       "output_type": "pyout",
       "prompt_number": 23,
       "text": [
        "True"
       ]
      }
     ],
     "prompt_number": 23
    },
    {
     "cell_type": "code",
     "collapsed": false,
     "input": [
      "#learning a decision tree with 5 layers\n",
      "from sklearn import tree\n",
      "DT5 = tree.DecisionTreeClassifier(max_depth=5)\n",
      "DT5 = DT5.fit(X_train, y_train)\n",
      "print(DT5.score(X_test, y_test))\n",
      "Dt5_pred = DT5.predict(X_test)\n",
      "print precision_score(y_test, Dt5_pred)\n",
      "print recall_score(y_test, Dt5_pred)\n",
      "dot_data = StringIO() \n",
      "tree.export_graphviz(DT5, out_file=dot_data, feature_names=FeatureNames, class_names=ClassNames, filled=True, rounded=True, special_characters=True, label = 'none', impurity = False) \n",
      "graph = pydot.graph_from_dot_data(dot_data.getvalue()) \n",
      "graph.write_png(\"DT5_crowd.png\") "
     ],
     "language": "python",
     "metadata": {},
     "outputs": [
      {
       "output_type": "stream",
       "stream": "stdout",
       "text": [
        "0.953768088705\n",
        "0.940940940941\n",
        "0.834072759539\n"
       ]
      },
      {
       "metadata": {},
       "output_type": "pyout",
       "prompt_number": 24,
       "text": [
        "True"
       ]
      }
     ],
     "prompt_number": 24
    },
    {
     "cell_type": "heading",
     "level": 3,
     "metadata": {},
     "source": [
      "See how many times crowdsourced and former raw data disagree :"
     ]
    },
    {
     "cell_type": "code",
     "collapsed": false,
     "input": [
      "TP = 0. \n",
      "FP = 0.\n",
      "FN = 0.\n",
      "DisLabels = pd.DataFrame()\n",
      "NoConn = sum(raw_data['connected'])\n",
      "NotConn = len(raw_data) - NoConn + 0. \n",
      "for i in range(0,len(crowd_labels)):\n",
      "    temp = raw_data[raw_data['id_i']==crowd_labels['swi_id'][i]]\n",
      "    temp2 = temp[temp['id_j']==crowd_labels['swj_id'][i]]\n",
      "    if temp2['connected'].values!=crowd_labels['connected'][i]:\n",
      "        DisLabels = DisLabels.append(temp2)\n",
      "        if temp2['connected'].values==1:\n",
      "            FP +=1 \n",
      "        else:\n",
      "            FN +=1 \n",
      "            \n",
      "    if temp2['connected'].values==crowd_labels['connected'][i]:\n",
      "        if temp2['connected'].values==1:\n",
      "            TP +=1 \n",
      "\n",
      "    \n",
      "    if (i%1000)==0:\n",
      "        print i \n",
      "    \n",
      "print \"Fraction of Disagreement on Connected Labels : {}\".format(FP/NoConn) \n",
      "print \"Fraction of Disagreement on not Connected Labels : {}\".format(FN/NotConn)\n"
     ],
     "language": "python",
     "metadata": {},
     "outputs": [
      {
       "output_type": "stream",
       "stream": "stdout",
       "text": [
        "0\n",
        "1000"
       ]
      },
      {
       "output_type": "stream",
       "stream": "stdout",
       "text": [
        "\n",
        "2000"
       ]
      },
      {
       "output_type": "stream",
       "stream": "stdout",
       "text": [
        "\n",
        "3000"
       ]
      },
      {
       "output_type": "stream",
       "stream": "stdout",
       "text": [
        "\n",
        "4000"
       ]
      },
      {
       "output_type": "stream",
       "stream": "stdout",
       "text": [
        "\n",
        "5000"
       ]
      },
      {
       "output_type": "stream",
       "stream": "stdout",
       "text": [
        "\n",
        "6000"
       ]
      },
      {
       "output_type": "stream",
       "stream": "stdout",
       "text": [
        "\n",
        "7000"
       ]
      },
      {
       "output_type": "stream",
       "stream": "stdout",
       "text": [
        "\n",
        "8000"
       ]
      },
      {
       "output_type": "stream",
       "stream": "stdout",
       "text": [
        "\n",
        "9000"
       ]
      },
      {
       "output_type": "stream",
       "stream": "stdout",
       "text": [
        "\n",
        "10000"
       ]
      },
      {
       "output_type": "stream",
       "stream": "stdout",
       "text": [
        "\n",
        "Fraction of Disagreement on Connected Labels : 0.00663223203643"
       ]
      },
      {
       "output_type": "stream",
       "stream": "stdout",
       "text": [
        "\n",
        "Fraction of Disagreement on Connected Labels : 0.00451049521348\n"
       ]
      }
     ],
     "prompt_number": 32
    },
    {
     "cell_type": "code",
     "collapsed": false,
     "input": [
      "print \"Precision : {}\".format(TP/(TP + FP))   \n",
      "print \"Recall : {}\".format(TP/(TP + FN))   \n",
      "print \"Score : {}\".format(1-len(DisLabels)/len(raw_data2))"
     ],
     "language": "python",
     "metadata": {},
     "outputs": [
      {
       "output_type": "stream",
       "stream": "stdout",
       "text": [
        "Precision : 0.876774559909\n",
        "Recall : 0.682280159081\n",
        "Score : 0.912038342261\n"
       ]
      }
     ],
     "prompt_number": 37
    },
    {
     "cell_type": "heading",
     "level": 3,
     "metadata": {},
     "source": [
      "Curating list of disagreements between the two datasets : "
     ]
    },
    {
     "cell_type": "code",
     "collapsed": false,
     "input": [
      "#saving crowdsourced data frame to CSV \n",
      "\n",
      "raw_data2.to_csv('./crowd_sourced_learn020916.csv')\n",
      "\n",
      "#saving conflicts data frame to CSV \n",
      "\n",
      "DisLabels.to_csv('./Conflicts020916.csv')"
     ],
     "language": "python",
     "metadata": {},
     "outputs": [],
     "prompt_number": 35
    },
    {
     "cell_type": "heading",
     "level": 3,
     "metadata": {},
     "source": [
      "Calculate precision and recall for heuristic algorithm : "
     ]
    },
    {
     "cell_type": "code",
     "collapsed": false,
     "input": [],
     "language": "python",
     "metadata": {},
     "outputs": [
      {
       "metadata": {},
       "output_type": "pyout",
       "prompt_number": 31,
       "text": [
        "0        0\n",
        "1        1\n",
        "2        0\n",
        "3        1\n",
        "4        1\n",
        "5        0\n",
        "6        0\n",
        "7        0\n",
        "8        1\n",
        "9        0\n",
        "10       0\n",
        "11       0\n",
        "12       0\n",
        "13       0\n",
        "14       0\n",
        "15       1\n",
        "16       0\n",
        "17       0\n",
        "18       0\n",
        "19       0\n",
        "20       0\n",
        "21       0\n",
        "22       0\n",
        "23       0\n",
        "24       0\n",
        "25       1\n",
        "26       0\n",
        "27       0\n",
        "28       0\n",
        "29       0\n",
        "        ..\n",
        "10611    0\n",
        "10612    0\n",
        "10613    0\n",
        "10614    0\n",
        "10615    0\n",
        "10616    1\n",
        "10617    0\n",
        "10618    0\n",
        "10619    0\n",
        "10620    0\n",
        "10621    0\n",
        "10622    1\n",
        "10623    1\n",
        "10624    0\n",
        "10625    0\n",
        "10626    0\n",
        "10627    1\n",
        "10628    0\n",
        "10629    1\n",
        "10630    0\n",
        "10631    0\n",
        "10632    0\n",
        "10633    0\n",
        "10634    0\n",
        "10635    0\n",
        "10636    0\n",
        "10637    0\n",
        "10638    0\n",
        "10639    0\n",
        "10640    1\n",
        "Name: connected, dtype: int64"
       ]
      }
     ],
     "prompt_number": 31
    },
    {
     "cell_type": "code",
     "collapsed": false,
     "input": [],
     "language": "python",
     "metadata": {},
     "outputs": []
    }
   ],
   "metadata": {}
  }
 ]
}