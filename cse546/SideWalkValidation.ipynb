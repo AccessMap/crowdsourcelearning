{
 "metadata": {
  "name": "",
  "signature": "sha256:acc5de2f336a68920ee47c19be07af6e1f5c57af1062346faac1d1013a4a9bc6"
 },
 "nbformat": 3,
 "nbformat_minor": 0,
 "worksheets": [
  {
   "cells": [
    {
     "cell_type": "code",
     "collapsed": false,
     "input": [
      "import pandas as pd\n",
      "import numpy as np\n",
      "import scipy.io as io\n",
      "import scipy.sparse as sp\n",
      "import matplotlib.pyplot as plt\n",
      "from __future__ import division\n",
      "from sklearn import linear_model\n",
      "import gc\n",
      "%matplotlib inline"
     ],
     "language": "python",
     "metadata": {},
     "outputs": [],
     "prompt_number": 1
    },
    {
     "cell_type": "code",
     "collapsed": false,
     "input": [
      "#disable garbage collection \n",
      "gc.disable()"
     ],
     "language": "python",
     "metadata": {},
     "outputs": [],
     "prompt_number": 2
    },
    {
     "cell_type": "heading",
     "level": 3,
     "metadata": {},
     "source": [
      "Read and process the data "
     ]
    },
    {
     "cell_type": "code",
     "collapsed": false,
     "input": [
      "#read CSV files \n",
      "\n",
      "bla = pd.read_csv('NB_1117_raw.csv')\n",
      "bla2 = pd.read_csv('NB_1117_raw.csv')\n",
      "y = pd.read_csv('NB_1117_yMat.csv')\n",
      "y = y['connected']"
     ],
     "language": "python",
     "metadata": {},
     "outputs": [],
     "prompt_number": 21
    },
    {
     "cell_type": "code",
     "collapsed": false,
     "input": [
      "# adding new features (whether numeric elements are the same ) and making feature matrix \n",
      "\n",
      "\n",
      "X_naive = np.array([bla2['id_i'],bla2['id_j'],bla2['distance']])\n",
      "\n",
      "X_naive = X_naive.T\n"
     ],
     "language": "python",
     "metadata": {},
     "outputs": [],
     "prompt_number": 22
    },
    {
     "cell_type": "code",
     "collapsed": false,
     "input": [
      "#randomly shuffle the data \n",
      "\n",
      "#y = y['connected']\n",
      "\n",
      "In = range(0,len(y))    #indices corresponding to original data \n",
      "\n",
      "\n",
      "InR = np.random.shuffle(In)\n",
      "\n",
      "yR = y[In]\n",
      "X_naiveR = X_naive[In,:]\n",
      "\n"
     ],
     "language": "python",
     "metadata": {},
     "outputs": [],
     "prompt_number": 23
    },
    {
     "cell_type": "heading",
     "level": 3,
     "metadata": {},
     "source": [
      "Check the accuracy of the naive implementation "
     ]
    },
    {
     "cell_type": "code",
     "collapsed": false,
     "input": [
      "#check the number of errors in the naive implementation \n",
      "yPred = np.zeros(len(yR))\n",
      "UnqInd = np.unique(X_naiveR[:,0])\n",
      "for ind in UnqInd:\n",
      "    minInd1 = np.argmin(X_naiveR[(X_naiveR[:,0]==ind),2])\n",
      "    minInd2 = np.argmin(X_naiveR[(X_naiveR[:,1]==ind),2])\n",
      "    min1 = np.amin(X_naiveR[(X_naiveR[:,0]==ind),2])\n",
      "    min2 = np.amin(X_naiveR[(X_naiveR[:,0]==ind),2])\n",
      "    if min1<min2:\n",
      "        yPred[minInd1]=1\n",
      "    else:\n",
      "        yPred[minInd2]=1\n",
      "    \n",
      "    \n",
      "perCorr = sum(yPred==yR)/len(yR)    \n",
      "print perCorr*100"
     ],
     "language": "python",
     "metadata": {},
     "outputs": [
      {
       "output_type": "stream",
       "stream": "stdout",
       "text": [
        "86.5462577123\n"
       ]
      }
     ],
     "prompt_number": 51
    },
    {
     "cell_type": "code",
     "collapsed": false,
     "input": [
      "yCorr = (yPred==yR)\n",
      "yPredP = (yPred==1)\n",
      "yPredN = (yPred==0)\n",
      "TP = sum((yCorr[yPred==1]==True))\n",
      "TN = sum((yCorr[yPred==0]==True))\n",
      "FP = sum((yCorr[yPred==1]==False))\n",
      "FN = sum((yCorr[yPred==0]==False))\n",
      "\n",
      "Prec = TP/(TP+FP)\n",
      "Rec = TP/(TP+FN)\n",
      "\n",
      "print Prec*100\n",
      "print Rec*100"
     ],
     "language": "python",
     "metadata": {},
     "outputs": [
      {
       "output_type": "stream",
       "stream": "stdout",
       "text": [
        "7.69230769231\n",
        "0.00300228173412\n"
       ]
      }
     ],
     "prompt_number": 52
    },
    {
     "cell_type": "code",
     "collapsed": false,
     "input": [],
     "language": "python",
     "metadata": {},
     "outputs": [],
     "prompt_number": 33
    },
    {
     "cell_type": "code",
     "collapsed": false,
     "input": [],
     "language": "python",
     "metadata": {},
     "outputs": [
      {
       "metadata": {},
       "output_type": "pyout",
       "prompt_number": 48,
       "text": [
        "(28,)"
       ]
      }
     ],
     "prompt_number": 48
    },
    {
     "cell_type": "code",
     "collapsed": false,
     "input": [],
     "language": "python",
     "metadata": {},
     "outputs": []
    }
   ],
   "metadata": {}
  }
 ]
}