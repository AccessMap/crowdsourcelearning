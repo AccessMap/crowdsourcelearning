{
 "cells": [
  {
   "cell_type": "code",
   "execution_count": 1,
   "metadata": {
    "collapsed": true
   },
   "outputs": [],
   "source": [
    "import pandas as pd\n",
    "import numpy as np\n",
    "\n",
    "%matplotlib inline"
   ]
  },
  {
   "cell_type": "code",
   "execution_count": 2,
   "metadata": {
    "collapsed": true
   },
   "outputs": [],
   "source": [
    "data = pd.read_csv('./sw_classifications_20160527.csv')\n",
    "expert_data = pd.read_csv('./sw_classifications_20160526-experts.csv')"
   ]
  },
  {
   "cell_type": "code",
   "execution_count": 3,
   "metadata": {
    "collapsed": false
   },
   "outputs": [
    {
     "data": {
      "text/plain": [
       "(578, 7)"
      ]
     },
     "execution_count": 3,
     "metadata": {},
     "output_type": "execute_result"
    }
   ],
   "source": [
    "expert_data.shape"
   ]
  },
  {
   "cell_type": "markdown",
   "metadata": {},
   "source": [
    "We want to analyze the expert answers vs. the other user responses. The first question I want to ask is: how much triplicate response data has expert labels (so we can look at how much that improves answer quality). If there's not enough overlap between expert responses + triplicate responses, we may need to get more data."
   ]
  },
  {
   "cell_type": "code",
   "execution_count": 4,
   "metadata": {
    "collapsed": false
   },
   "outputs": [],
   "source": [
    "gb = data.groupby(['swi_id', 'swj_id'])\n",
    "groups = gb.groups\n",
    "more_3 = {key: value for key, value in groups.iteritems() if len(value) >= 3}"
   ]
  },
  {
   "cell_type": "code",
   "execution_count": 5,
   "metadata": {
    "collapsed": false
   },
   "outputs": [],
   "source": [
    "def label_fraction(sw_labelset):\n",
    "    '''\n",
    "    :param sw_labelset: List of 't' (True) or 'f' (False) labels for a single sidewalk pair.\n",
    "    :type sw_labelset: list\n",
    "    \n",
    "    '''\n",
    "    tf = data.iloc[sw_labelset, :]['connected']\n",
    "    fraction_t = sum([1 for label in tf if label == 't']) / float(len(sw_labelset))\n",
    "    \n",
    "    return fraction_t\n",
    "\n",
    "def decide_label(fraction):\n",
    "    '''Decide how to label a given sidewalk pair given multiple responses.'''\n",
    "    # If majority is 't', choose 't'\n",
    "    if fraction > 0.5:\n",
    "        return 't'\n",
    "    # If majority is 'f', choose 'f'\n",
    "    elif fraction < 0.5:\n",
    "        return 'f'\n",
    "    # If even split, ignore entirely for now\n",
    "    else:\n",
    "        return None"
   ]
  },
  {
   "cell_type": "code",
   "execution_count": 6,
   "metadata": {
    "collapsed": false
   },
   "outputs": [
    {
     "data": {
      "text/html": [
       "<div>\n",
       "<table border=\"1\" class=\"dataframe\">\n",
       "  <thead>\n",
       "    <tr style=\"text-align: right;\">\n",
       "      <th></th>\n",
       "      <th>swi_id</th>\n",
       "      <th>swj_id</th>\n",
       "      <th>connected</th>\n",
       "    </tr>\n",
       "  </thead>\n",
       "  <tbody>\n",
       "    <tr>\n",
       "      <th>6366</th>\n",
       "      <td>325902</td>\n",
       "      <td>326474</td>\n",
       "      <td>f</td>\n",
       "    </tr>\n",
       "    <tr>\n",
       "      <th>9498</th>\n",
       "      <td>295084</td>\n",
       "      <td>298785</td>\n",
       "      <td>t</td>\n",
       "    </tr>\n",
       "    <tr>\n",
       "      <th>826</th>\n",
       "      <td>326184</td>\n",
       "      <td>326185</td>\n",
       "      <td>f</td>\n",
       "    </tr>\n",
       "    <tr>\n",
       "      <th>2638</th>\n",
       "      <td>297773</td>\n",
       "      <td>303110</td>\n",
       "      <td>f</td>\n",
       "    </tr>\n",
       "    <tr>\n",
       "      <th>2015</th>\n",
       "      <td>322238</td>\n",
       "      <td>330093</td>\n",
       "      <td>f</td>\n",
       "    </tr>\n",
       "  </tbody>\n",
       "</table>\n",
       "</div>"
      ],
      "text/plain": [
       "      swi_id  swj_id connected\n",
       "6366  325902  326474         f\n",
       "9498  295084  298785         t\n",
       "826   326184  326185         f\n",
       "2638  297773  303110         f\n",
       "2015  322238  330093         f"
      ]
     },
     "execution_count": 6,
     "metadata": {},
     "output_type": "execute_result"
    }
   ],
   "source": [
    "fractions3 = []\n",
    "labels3 = []\n",
    "for key, value in more_3.iteritems():\n",
    "    fraction = label_fraction(value)\n",
    "    label = decide_label(fraction)\n",
    "    if label is not None:\n",
    "        newrow = data.ix[value[0],['swi_id', 'swj_id', 'connected']]\n",
    "        newrow['connected'] = label\n",
    "        labels3.append(newrow)\n",
    "        fractions3.append(fraction)\n",
    "\n",
    "labels3 = pd.DataFrame(labels3)\n",
    "labels3.head()"
   ]
  },
  {
   "cell_type": "code",
   "execution_count": 7,
   "metadata": {
    "collapsed": false
   },
   "outputs": [
    {
     "data": {
      "text/plain": [
       "(142, 8)"
      ]
     },
     "execution_count": 7,
     "metadata": {},
     "output_type": "execute_result"
    }
   ],
   "source": [
    "intersection3 = pd.merge(labels3, expert_data, how='inner', on=['swi_id', 'swj_id'])\n",
    "intersection3.shape"
   ]
  },
  {
   "cell_type": "markdown",
   "metadata": {},
   "source": [
    "There are 142 triplicate-response labels. Hopefully this is enough!\n",
    "\n",
    "Now we can get into the error rate - we will simply count how often the individual labels disagree with the expert labels, and how often the triplicate labels disagree with the expert labels."
   ]
  },
  {
   "cell_type": "code",
   "execution_count": 8,
   "metadata": {
    "collapsed": false
   },
   "outputs": [
    {
     "data": {
      "text/plain": [
       "swi_id  swj_id\n",
       "288896  328952    True\n",
       "288990  330196    True\n",
       "288995  297844    True\n",
       "289052  289054    True\n",
       "289100  300963    True\n",
       "Name: connected, dtype: bool"
      ]
     },
     "execution_count": 8,
     "metadata": {},
     "output_type": "execute_result"
    }
   ],
   "source": [
    "# First, let's look at expert users and make sure they always agree with one another\n",
    "def agree(array):\n",
    "    if np.all(array == 't') or np.all(array == 'f'):\n",
    "        return True\n",
    "    else:\n",
    "        return False\n",
    "    return np.all(array == 't')\n",
    "\n",
    "expert_agreement = expert_data.groupby(['swi_id', 'swj_id'])['connected'].agg(agree)\n",
    "expert_agreement.head()"
   ]
  },
  {
   "cell_type": "code",
   "execution_count": 9,
   "metadata": {
    "collapsed": false
   },
   "outputs": [
    {
     "name": "stdout",
     "output_type": "stream",
     "text": [
      "Fraction of expert-answered cases with complete agreement: 0.982352941176\n"
     ]
    }
   ],
   "source": [
    "experts_agree_frac = expert_agreement.sum() / float(expert_agreement.shape[0])\n",
    "print 'Fraction of expert-answered cases with complete agreement: {}'.format(experts_agree_frac)"
   ]
  },
  {
   "cell_type": "code",
   "execution_count": 10,
   "metadata": {
    "collapsed": false
   },
   "outputs": [
    {
     "name": "stdout",
     "output_type": "stream",
     "text": [
      "Fraction of user-answered cases with complete agreement: 0.732213963366\n"
     ]
    }
   ],
   "source": [
    "data_agreement = data.groupby(['swi_id', 'swj_id'])['connected'].agg(agree)\n",
    "data_agree_frac = data_agreement.sum() / float(data.shape[0])\n",
    "print 'Fraction of user-answered cases with complete agreement: {}'.format(data_agree_frac)"
   ]
  },
  {
   "cell_type": "code",
   "execution_count": 11,
   "metadata": {
    "collapsed": false
   },
   "outputs": [
    {
     "data": {
      "text/html": [
       "<div>\n",
       "<table border=\"1\" class=\"dataframe\">\n",
       "  <thead>\n",
       "    <tr style=\"text-align: right;\">\n",
       "      <th></th>\n",
       "      <th>swi_id</th>\n",
       "      <th>swj_id</th>\n",
       "      <th>swi_geom</th>\n",
       "      <th>swj_geom</th>\n",
       "      <th>connected</th>\n",
       "      <th>username</th>\n",
       "      <th>timestamp</th>\n",
       "    </tr>\n",
       "  </thead>\n",
       "  <tbody>\n",
       "    <tr>\n",
       "      <th>0</th>\n",
       "      <td>288896</td>\n",
       "      <td>328952</td>\n",
       "      <td>010200000002000000EC31ACB3C1965EC0FE445B88EED0...</td>\n",
       "      <td>01020000000200000035E1086DC4965EC0F1E9C078EED0...</td>\n",
       "      <td>f</td>\n",
       "      <td>Nick_expert</td>\n",
       "      <td>2016-05-27 03:28:08.627158+00</td>\n",
       "    </tr>\n",
       "    <tr>\n",
       "      <th>1</th>\n",
       "      <td>288990</td>\n",
       "      <td>330196</td>\n",
       "      <td>0102000000020000001FE61A97DC965EC0B5ACD65AEFD4...</td>\n",
       "      <td>01020000000200000079349C5CD2965EC08103A68DE5D4...</td>\n",
       "      <td>f</td>\n",
       "      <td>Vero_expert</td>\n",
       "      <td>2016-05-27 03:23:51.189268+00</td>\n",
       "    </tr>\n",
       "    <tr>\n",
       "      <th>2</th>\n",
       "      <td>288995</td>\n",
       "      <td>297844</td>\n",
       "      <td>0102000000020000007681EBBADE965EC0C032038831D4...</td>\n",
       "      <td>010200000002000000192A9A25DF965EC0EDA009F668D4...</td>\n",
       "      <td>f</td>\n",
       "      <td>Nick_expert</td>\n",
       "      <td>2016-05-27 03:48:40.70959+00</td>\n",
       "    </tr>\n",
       "    <tr>\n",
       "      <th>3</th>\n",
       "      <td>289052</td>\n",
       "      <td>289054</td>\n",
       "      <td>010200000002000000810705C500945EC0C34B3F1F8ADC...</td>\n",
       "      <td>010200000002000000D5E9E78F00945EC06D30CCCF17DC...</td>\n",
       "      <td>t</td>\n",
       "      <td>Anat_Expert</td>\n",
       "      <td>2016-05-27 03:25:26.055121+00</td>\n",
       "    </tr>\n",
       "    <tr>\n",
       "      <th>4</th>\n",
       "      <td>289100</td>\n",
       "      <td>300963</td>\n",
       "      <td>010200000002000000590692A2A4975EC0EC39EDC5AFD7...</td>\n",
       "      <td>010200000002000000E59A8193B3975EC0E66FD4BE76D7...</td>\n",
       "      <td>t</td>\n",
       "      <td>Anat_Expert</td>\n",
       "      <td>2016-05-27 03:24:53.450795+00</td>\n",
       "    </tr>\n",
       "  </tbody>\n",
       "</table>\n",
       "</div>"
      ],
      "text/plain": [
       "   swi_id  swj_id                                           swi_geom  \\\n",
       "0  288896  328952  010200000002000000EC31ACB3C1965EC0FE445B88EED0...   \n",
       "1  288990  330196  0102000000020000001FE61A97DC965EC0B5ACD65AEFD4...   \n",
       "2  288995  297844  0102000000020000007681EBBADE965EC0C032038831D4...   \n",
       "3  289052  289054  010200000002000000810705C500945EC0C34B3F1F8ADC...   \n",
       "4  289100  300963  010200000002000000590692A2A4975EC0EC39EDC5AFD7...   \n",
       "\n",
       "                                            swj_geom connected     username  \\\n",
       "0  01020000000200000035E1086DC4965EC0F1E9C078EED0...         f  Nick_expert   \n",
       "1  01020000000200000079349C5CD2965EC08103A68DE5D4...         f  Vero_expert   \n",
       "2  010200000002000000192A9A25DF965EC0EDA009F668D4...         f  Nick_expert   \n",
       "3  010200000002000000D5E9E78F00945EC06D30CCCF17DC...         t  Anat_Expert   \n",
       "4  010200000002000000E59A8193B3975EC0E66FD4BE76D7...         t  Anat_Expert   \n",
       "\n",
       "                       timestamp  \n",
       "0  2016-05-27 03:28:08.627158+00  \n",
       "1  2016-05-27 03:23:51.189268+00  \n",
       "2   2016-05-27 03:48:40.70959+00  \n",
       "3  2016-05-27 03:25:26.055121+00  \n",
       "4  2016-05-27 03:24:53.450795+00  "
      ]
     },
     "execution_count": 11,
     "metadata": {},
     "output_type": "execute_result"
    }
   ],
   "source": [
    "# We will want to compare user responses with cases where experts agreed (our ground truth)\n",
    "expert_agreed = expert_data.groupby(['swi_id', 'swj_id']).agg(np.all)[expert_agreement].reset_index()\n",
    "expert_agreed.head()"
   ]
  },
  {
   "cell_type": "code",
   "execution_count": 12,
   "metadata": {
    "collapsed": false
   },
   "outputs": [
    {
     "name": "stdout",
     "output_type": "stream",
     "text": [
      "(585, 12)\n"
     ]
    },
    {
     "data": {
      "text/html": [
       "<div>\n",
       "<table border=\"1\" class=\"dataframe\">\n",
       "  <thead>\n",
       "    <tr style=\"text-align: right;\">\n",
       "      <th></th>\n",
       "      <th>swi_id</th>\n",
       "      <th>swj_id</th>\n",
       "      <th>swi_geom_x</th>\n",
       "      <th>swj_geom_x</th>\n",
       "      <th>connected_x</th>\n",
       "      <th>username_x</th>\n",
       "      <th>timestamp_x</th>\n",
       "      <th>swi_geom_y</th>\n",
       "      <th>swj_geom_y</th>\n",
       "      <th>connected_y</th>\n",
       "      <th>username_y</th>\n",
       "      <th>timestamp_y</th>\n",
       "    </tr>\n",
       "  </thead>\n",
       "  <tbody>\n",
       "    <tr>\n",
       "      <th>0</th>\n",
       "      <td>309546</td>\n",
       "      <td>309547</td>\n",
       "      <td>0102000000020000006C89F4BFD7935EC02C6725F509D0...</td>\n",
       "      <td>010200000002000000A536BDA100945EC0B47C95AE06D0...</td>\n",
       "      <td>f</td>\n",
       "      <td>VS</td>\n",
       "      <td>2016-05-27 06:37:06.807044+00</td>\n",
       "      <td>0102000000020000006C89F4BFD7935EC02C6725F509D0...</td>\n",
       "      <td>010200000002000000A536BDA100945EC0B47C95AE06D0...</td>\n",
       "      <td>f</td>\n",
       "      <td>Anat_Expert</td>\n",
       "      <td>2016-05-27 03:38:51.136498+00</td>\n",
       "    </tr>\n",
       "    <tr>\n",
       "      <th>1</th>\n",
       "      <td>309546</td>\n",
       "      <td>309547</td>\n",
       "      <td>0102000000020000006C89F4BFD7935EC02C6725F509D0...</td>\n",
       "      <td>010200000002000000A536BDA100945EC0B47C95AE06D0...</td>\n",
       "      <td>f</td>\n",
       "      <td>sumitmukherjee2</td>\n",
       "      <td>2016-02-05 20:31:27.269169+00</td>\n",
       "      <td>0102000000020000006C89F4BFD7935EC02C6725F509D0...</td>\n",
       "      <td>010200000002000000A536BDA100945EC0B47C95AE06D0...</td>\n",
       "      <td>f</td>\n",
       "      <td>Anat_Expert</td>\n",
       "      <td>2016-05-27 03:38:51.136498+00</td>\n",
       "    </tr>\n",
       "    <tr>\n",
       "      <th>2</th>\n",
       "      <td>309546</td>\n",
       "      <td>309547</td>\n",
       "      <td>0102000000020000006C89F4BFD7935EC02C6725F509D0...</td>\n",
       "      <td>010200000002000000A536BDA100945EC0B47C95AE06D0...</td>\n",
       "      <td>f</td>\n",
       "      <td>Ladan</td>\n",
       "      <td>2016-05-27 06:41:38.33052+00</td>\n",
       "      <td>0102000000020000006C89F4BFD7935EC02C6725F509D0...</td>\n",
       "      <td>010200000002000000A536BDA100945EC0B47C95AE06D0...</td>\n",
       "      <td>f</td>\n",
       "      <td>Anat_Expert</td>\n",
       "      <td>2016-05-27 03:38:51.136498+00</td>\n",
       "    </tr>\n",
       "    <tr>\n",
       "      <th>3</th>\n",
       "      <td>333287</td>\n",
       "      <td>333290</td>\n",
       "      <td>01020000000200000066F5A4D558975EC0F57F82FD8DD9...</td>\n",
       "      <td>010200000002000000F81FC2BC55975EC0F60AF49B19D9...</td>\n",
       "      <td>f</td>\n",
       "      <td>Stacey</td>\n",
       "      <td>2016-05-27 06:02:10.534513+00</td>\n",
       "      <td>01020000000200000066F5A4D558975EC0F57F82FD8DD9...</td>\n",
       "      <td>010200000002000000F81FC2BC55975EC0F60AF49B19D9...</td>\n",
       "      <td>f</td>\n",
       "      <td>Anat_Expert</td>\n",
       "      <td>2016-05-27 03:21:17.328162+00</td>\n",
       "    </tr>\n",
       "    <tr>\n",
       "      <th>4</th>\n",
       "      <td>333287</td>\n",
       "      <td>333290</td>\n",
       "      <td>01020000000200000066F5A4D558975EC0F57F82FD8DD9...</td>\n",
       "      <td>010200000002000000F81FC2BC55975EC0F60AF49B19D9...</td>\n",
       "      <td>f</td>\n",
       "      <td>lmbrettner</td>\n",
       "      <td>2016-02-09 01:25:13.102414+00</td>\n",
       "      <td>01020000000200000066F5A4D558975EC0F57F82FD8DD9...</td>\n",
       "      <td>010200000002000000F81FC2BC55975EC0F60AF49B19D9...</td>\n",
       "      <td>f</td>\n",
       "      <td>Anat_Expert</td>\n",
       "      <td>2016-05-27 03:21:17.328162+00</td>\n",
       "    </tr>\n",
       "  </tbody>\n",
       "</table>\n",
       "</div>"
      ],
      "text/plain": [
       "   swi_id  swj_id                                         swi_geom_x  \\\n",
       "0  309546  309547  0102000000020000006C89F4BFD7935EC02C6725F509D0...   \n",
       "1  309546  309547  0102000000020000006C89F4BFD7935EC02C6725F509D0...   \n",
       "2  309546  309547  0102000000020000006C89F4BFD7935EC02C6725F509D0...   \n",
       "3  333287  333290  01020000000200000066F5A4D558975EC0F57F82FD8DD9...   \n",
       "4  333287  333290  01020000000200000066F5A4D558975EC0F57F82FD8DD9...   \n",
       "\n",
       "                                          swj_geom_x connected_x  \\\n",
       "0  010200000002000000A536BDA100945EC0B47C95AE06D0...           f   \n",
       "1  010200000002000000A536BDA100945EC0B47C95AE06D0...           f   \n",
       "2  010200000002000000A536BDA100945EC0B47C95AE06D0...           f   \n",
       "3  010200000002000000F81FC2BC55975EC0F60AF49B19D9...           f   \n",
       "4  010200000002000000F81FC2BC55975EC0F60AF49B19D9...           f   \n",
       "\n",
       "        username_x                    timestamp_x  \\\n",
       "0               VS  2016-05-27 06:37:06.807044+00   \n",
       "1  sumitmukherjee2  2016-02-05 20:31:27.269169+00   \n",
       "2            Ladan   2016-05-27 06:41:38.33052+00   \n",
       "3           Stacey  2016-05-27 06:02:10.534513+00   \n",
       "4       lmbrettner  2016-02-09 01:25:13.102414+00   \n",
       "\n",
       "                                          swi_geom_y  \\\n",
       "0  0102000000020000006C89F4BFD7935EC02C6725F509D0...   \n",
       "1  0102000000020000006C89F4BFD7935EC02C6725F509D0...   \n",
       "2  0102000000020000006C89F4BFD7935EC02C6725F509D0...   \n",
       "3  01020000000200000066F5A4D558975EC0F57F82FD8DD9...   \n",
       "4  01020000000200000066F5A4D558975EC0F57F82FD8DD9...   \n",
       "\n",
       "                                          swj_geom_y connected_y   username_y  \\\n",
       "0  010200000002000000A536BDA100945EC0B47C95AE06D0...           f  Anat_Expert   \n",
       "1  010200000002000000A536BDA100945EC0B47C95AE06D0...           f  Anat_Expert   \n",
       "2  010200000002000000A536BDA100945EC0B47C95AE06D0...           f  Anat_Expert   \n",
       "3  010200000002000000F81FC2BC55975EC0F60AF49B19D9...           f  Anat_Expert   \n",
       "4  010200000002000000F81FC2BC55975EC0F60AF49B19D9...           f  Anat_Expert   \n",
       "\n",
       "                     timestamp_y  \n",
       "0  2016-05-27 03:38:51.136498+00  \n",
       "1  2016-05-27 03:38:51.136498+00  \n",
       "2  2016-05-27 03:38:51.136498+00  \n",
       "3  2016-05-27 03:21:17.328162+00  \n",
       "4  2016-05-27 03:21:17.328162+00  "
      ]
     },
     "execution_count": 12,
     "metadata": {},
     "output_type": "execute_result"
    }
   ],
   "source": [
    "# Get the intersection between user responses and expert labels (indexing on user responses)\n",
    "data_ix_experts = pd.merge(data, expert_agreed, how='inner', on=['swi_id', 'swj_id'])\n",
    "print data_ix_experts.shape\n",
    "data_ix_experts.head()"
   ]
  },
  {
   "cell_type": "code",
   "execution_count": 13,
   "metadata": {
    "collapsed": false
   },
   "outputs": [
    {
     "name": "stdout",
     "output_type": "stream",
     "text": [
      "Comparing all user responses directly to experts:\n",
      "Number of matching responses: 585\n",
      "Error rate: 0.034188034188\n"
     ]
    }
   ],
   "source": [
    "matches = data_ix_experts['connected_x'] == data_ix_experts['connected_y']\n",
    "error = data_ix_experts.shape[0] - matches.sum()\n",
    "\n",
    "print 'Comparing all user responses directly to experts:'\n",
    "print 'Number of matching responses: {}'.format(matches.shape[0])\n",
    "print 'Error rate: {}'.format(error / float(data_ix_experts.shape[0]))"
   ]
  },
  {
   "cell_type": "markdown",
   "metadata": {},
   "source": [
    "Interesting! 3% is higher than we expected, but then again, we want to rely on triplicate responses from here on out. What's the error rate on the consensus response?"
   ]
  },
  {
   "cell_type": "code",
   "execution_count": 14,
   "metadata": {
    "collapsed": false
   },
   "outputs": [
    {
     "name": "stdout",
     "output_type": "stream",
     "text": [
      "(138, 13)\n"
     ]
    },
    {
     "data": {
      "text/html": [
       "<div>\n",
       "<table border=\"1\" class=\"dataframe\">\n",
       "  <thead>\n",
       "    <tr style=\"text-align: right;\">\n",
       "      <th></th>\n",
       "      <th>swi_id</th>\n",
       "      <th>swj_id</th>\n",
       "      <th>connected_x</th>\n",
       "      <th>swi_geom_x</th>\n",
       "      <th>swj_geom_x</th>\n",
       "      <th>connected_y</th>\n",
       "      <th>username_x</th>\n",
       "      <th>timestamp_x</th>\n",
       "      <th>swi_geom_y</th>\n",
       "      <th>swj_geom_y</th>\n",
       "      <th>connected</th>\n",
       "      <th>username_y</th>\n",
       "      <th>timestamp_y</th>\n",
       "    </tr>\n",
       "  </thead>\n",
       "  <tbody>\n",
       "    <tr>\n",
       "      <th>0</th>\n",
       "      <td>290405</td>\n",
       "      <td>331910</td>\n",
       "      <td>f</td>\n",
       "      <td>01020000000200000006935F8E21935EC0F7C4FE2642DA...</td>\n",
       "      <td>01020000000200000088EAEFD31E935EC0D86B2F2642DA...</td>\n",
       "      <td>f</td>\n",
       "      <td>Anat_Expert</td>\n",
       "      <td>2016-05-27 03:28:57.776047+00</td>\n",
       "      <td>01020000000200000006935F8E21935EC0F7C4FE2642DA...</td>\n",
       "      <td>01020000000200000088EAEFD31E935EC0D86B2F2642DA...</td>\n",
       "      <td>f</td>\n",
       "      <td>Anat_Expert</td>\n",
       "      <td>2016-05-27 03:28:57.776047+00</td>\n",
       "    </tr>\n",
       "    <tr>\n",
       "      <th>1</th>\n",
       "      <td>316621</td>\n",
       "      <td>316877</td>\n",
       "      <td>f</td>\n",
       "      <td>010200000002000000F6BC5726DE935EC05875599998C9...</td>\n",
       "      <td>010200000002000000C397CF1ECB935EC0FD4872999AC9...</td>\n",
       "      <td>t</td>\n",
       "      <td>Vero_expert</td>\n",
       "      <td>2016-05-27 03:26:26.90163+00</td>\n",
       "      <td>010200000002000000F6BC5726DE935EC05875599998C9...</td>\n",
       "      <td>010200000002000000C397CF1ECB935EC0FD4872999AC9...</td>\n",
       "      <td>t</td>\n",
       "      <td>Vero_expert</td>\n",
       "      <td>2016-05-27 03:26:26.90163+00</td>\n",
       "    </tr>\n",
       "    <tr>\n",
       "      <th>2</th>\n",
       "      <td>307553</td>\n",
       "      <td>307571</td>\n",
       "      <td>f</td>\n",
       "      <td>0102000000020000006DEC78FC51945EC0347EC7F0C6D6...</td>\n",
       "      <td>0102000000020000002D9DA3967B945EC0BB0B2B37B0D6...</td>\n",
       "      <td>f</td>\n",
       "      <td>Sumit_expert</td>\n",
       "      <td>2016-05-27 03:29:02.683813+00</td>\n",
       "      <td>0102000000020000006DEC78FC51945EC0347EC7F0C6D6...</td>\n",
       "      <td>0102000000020000002D9DA3967B945EC0BB0B2B37B0D6...</td>\n",
       "      <td>f</td>\n",
       "      <td>Sumit_expert</td>\n",
       "      <td>2016-05-27 03:29:02.683813+00</td>\n",
       "    </tr>\n",
       "    <tr>\n",
       "      <th>3</th>\n",
       "      <td>324110</td>\n",
       "      <td>326874</td>\n",
       "      <td>t</td>\n",
       "      <td>010200000002000000DBD063B113975EC0120BF3F0EBC2...</td>\n",
       "      <td>010200000002000000CCA16C431B975EC0004D35E2B2C2...</td>\n",
       "      <td>t</td>\n",
       "      <td>Nick_expert</td>\n",
       "      <td>2016-05-27 03:28:16.62483+00</td>\n",
       "      <td>010200000002000000DBD063B113975EC0120BF3F0EBC2...</td>\n",
       "      <td>010200000002000000CCA16C431B975EC0004D35E2B2C2...</td>\n",
       "      <td>t</td>\n",
       "      <td>Nick_expert</td>\n",
       "      <td>2016-05-27 03:28:16.62483+00</td>\n",
       "    </tr>\n",
       "    <tr>\n",
       "      <th>4</th>\n",
       "      <td>289052</td>\n",
       "      <td>289054</td>\n",
       "      <td>t</td>\n",
       "      <td>010200000002000000810705C500945EC0C34B3F1F8ADC...</td>\n",
       "      <td>010200000002000000D5E9E78F00945EC06D30CCCF17DC...</td>\n",
       "      <td>t</td>\n",
       "      <td>Anat_Expert</td>\n",
       "      <td>2016-05-27 03:25:26.055121+00</td>\n",
       "      <td>010200000002000000810705C500945EC0C34B3F1F8ADC...</td>\n",
       "      <td>010200000002000000D5E9E78F00945EC06D30CCCF17DC...</td>\n",
       "      <td>t</td>\n",
       "      <td>Anat_Expert</td>\n",
       "      <td>2016-05-27 03:25:26.055121+00</td>\n",
       "    </tr>\n",
       "  </tbody>\n",
       "</table>\n",
       "</div>"
      ],
      "text/plain": [
       "   swi_id  swj_id connected_x  \\\n",
       "0  290405  331910           f   \n",
       "1  316621  316877           f   \n",
       "2  307553  307571           f   \n",
       "3  324110  326874           t   \n",
       "4  289052  289054           t   \n",
       "\n",
       "                                          swi_geom_x  \\\n",
       "0  01020000000200000006935F8E21935EC0F7C4FE2642DA...   \n",
       "1  010200000002000000F6BC5726DE935EC05875599998C9...   \n",
       "2  0102000000020000006DEC78FC51945EC0347EC7F0C6D6...   \n",
       "3  010200000002000000DBD063B113975EC0120BF3F0EBC2...   \n",
       "4  010200000002000000810705C500945EC0C34B3F1F8ADC...   \n",
       "\n",
       "                                          swj_geom_x connected_y  \\\n",
       "0  01020000000200000088EAEFD31E935EC0D86B2F2642DA...           f   \n",
       "1  010200000002000000C397CF1ECB935EC0FD4872999AC9...           t   \n",
       "2  0102000000020000002D9DA3967B945EC0BB0B2B37B0D6...           f   \n",
       "3  010200000002000000CCA16C431B975EC0004D35E2B2C2...           t   \n",
       "4  010200000002000000D5E9E78F00945EC06D30CCCF17DC...           t   \n",
       "\n",
       "     username_x                    timestamp_x  \\\n",
       "0   Anat_Expert  2016-05-27 03:28:57.776047+00   \n",
       "1   Vero_expert   2016-05-27 03:26:26.90163+00   \n",
       "2  Sumit_expert  2016-05-27 03:29:02.683813+00   \n",
       "3   Nick_expert   2016-05-27 03:28:16.62483+00   \n",
       "4   Anat_Expert  2016-05-27 03:25:26.055121+00   \n",
       "\n",
       "                                          swi_geom_y  \\\n",
       "0  01020000000200000006935F8E21935EC0F7C4FE2642DA...   \n",
       "1  010200000002000000F6BC5726DE935EC05875599998C9...   \n",
       "2  0102000000020000006DEC78FC51945EC0347EC7F0C6D6...   \n",
       "3  010200000002000000DBD063B113975EC0120BF3F0EBC2...   \n",
       "4  010200000002000000810705C500945EC0C34B3F1F8ADC...   \n",
       "\n",
       "                                          swj_geom_y connected    username_y  \\\n",
       "0  01020000000200000088EAEFD31E935EC0D86B2F2642DA...         f   Anat_Expert   \n",
       "1  010200000002000000C397CF1ECB935EC0FD4872999AC9...         t   Vero_expert   \n",
       "2  0102000000020000002D9DA3967B945EC0BB0B2B37B0D6...         f  Sumit_expert   \n",
       "3  010200000002000000CCA16C431B975EC0004D35E2B2C2...         t   Nick_expert   \n",
       "4  010200000002000000D5E9E78F00945EC06D30CCCF17DC...         t   Anat_Expert   \n",
       "\n",
       "                     timestamp_y  \n",
       "0  2016-05-27 03:28:57.776047+00  \n",
       "1   2016-05-27 03:26:26.90163+00  \n",
       "2  2016-05-27 03:29:02.683813+00  \n",
       "3   2016-05-27 03:28:16.62483+00  \n",
       "4  2016-05-27 03:25:26.055121+00  "
      ]
     },
     "execution_count": 14,
     "metadata": {},
     "output_type": "execute_result"
    }
   ],
   "source": [
    "trip_ix_experts = pd.merge(intersection3, expert_agreed, how='inner', on=['swi_id', 'swj_id'])\n",
    "print trip_ix_experts.shape\n",
    "trip_ix_experts.head()"
   ]
  },
  {
   "cell_type": "code",
   "execution_count": 15,
   "metadata": {
    "collapsed": false
   },
   "outputs": [
    {
     "name": "stdout",
     "output_type": "stream",
     "text": [
      "Comparing all user responses directly to experts:\n",
      "Number of matching responses: 138\n",
      "Error rate: 0.036231884058\n"
     ]
    }
   ],
   "source": [
    "matches3 = trip_ix_experts['connected_x'] == trip_ix_experts['connected_y']\n",
    "error3 = trip_ix_experts.shape[0] - matches3.sum()\n",
    "\n",
    "print 'Comparing all user responses directly to experts:'\n",
    "print 'Number of matching responses: {}'.format(matches3.shape[0])\n",
    "print 'Error rate: {}'.format(error3 / float(trip_ix_experts.shape[0]))"
   ]
  },
  {
   "cell_type": "code",
   "execution_count": null,
   "metadata": {
    "collapsed": true
   },
   "outputs": [],
   "source": []
  }
 ],
 "metadata": {
  "kernelspec": {
   "display_name": "Python 2",
   "language": "python",
   "name": "python2"
  },
  "language_info": {
   "codemirror_mode": {
    "name": "ipython",
    "version": 2
   },
   "file_extension": ".py",
   "mimetype": "text/x-python",
   "name": "python",
   "nbconvert_exporter": "python",
   "pygments_lexer": "ipython2",
   "version": "2.7.11+"
  }
 },
 "nbformat": 4,
 "nbformat_minor": 0
}
