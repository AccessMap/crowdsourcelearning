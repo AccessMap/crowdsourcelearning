{
 "cells": [
  {
   "cell_type": "code",
   "execution_count": 163,
   "metadata": {
    "collapsed": false
   },
   "outputs": [],
   "source": [
    "from matplotlib import pyplot as plt\n",
    "import numpy as np\n",
    "import pandas as pd\n",
    "from sklearn import cross_validation, linear_model, preprocessing\n",
    "from sklearn.metrics import precision_recall_curve, precision_score, recall_score\n",
    "\n",
    "%matplotlib inline"
   ]
  },
  {
   "cell_type": "code",
   "execution_count": 164,
   "metadata": {
    "collapsed": false
   },
   "outputs": [
    {
     "data": {
      "text/html": [
       "<div>\n",
       "<table border=\"1\" class=\"dataframe\">\n",
       "  <thead>\n",
       "    <tr style=\"text-align: right;\">\n",
       "      <th></th>\n",
       "      <th>connected</th>\n",
       "      <th>id_i</th>\n",
       "      <th>id_j</th>\n",
       "      <th>length_i</th>\n",
       "      <th>length_j</th>\n",
       "      <th>side_i</th>\n",
       "      <th>side_j</th>\n",
       "      <th>sw_width_i</th>\n",
       "      <th>sw_width_j</th>\n",
       "      <th>curbtype_i</th>\n",
       "      <th>...</th>\n",
       "      <th>surftype_i</th>\n",
       "      <th>surftype_j</th>\n",
       "      <th>intersects</th>\n",
       "      <th>near_angle</th>\n",
       "      <th>near_distance</th>\n",
       "      <th>near_line</th>\n",
       "      <th>near_line_srid</th>\n",
       "      <th>bid_i</th>\n",
       "      <th>bid_j</th>\n",
       "      <th>intersects_street</th>\n",
       "    </tr>\n",
       "  </thead>\n",
       "  <tbody>\n",
       "    <tr>\n",
       "      <th>0</th>\n",
       "      <td>0</td>\n",
       "      <td>289092</td>\n",
       "      <td>299107</td>\n",
       "      <td>297.230378</td>\n",
       "      <td>313.835648</td>\n",
       "      <td>W</td>\n",
       "      <td>S</td>\n",
       "      <td>60</td>\n",
       "      <td>60</td>\n",
       "      <td>410C</td>\n",
       "      <td>...</td>\n",
       "      <td>PCC</td>\n",
       "      <td>AC</td>\n",
       "      <td>f</td>\n",
       "      <td>-2.283203</td>\n",
       "      <td>34.436532</td>\n",
       "      <td>LINESTRING(-122.319447001456 47.6008471113961,...</td>\n",
       "      <td>4326</td>\n",
       "      <td>NaN</td>\n",
       "      <td>3352</td>\n",
       "      <td>0</td>\n",
       "    </tr>\n",
       "    <tr>\n",
       "      <th>1</th>\n",
       "      <td>0</td>\n",
       "      <td>293102</td>\n",
       "      <td>331808</td>\n",
       "      <td>431.833749</td>\n",
       "      <td>434.510666</td>\n",
       "      <td>W</td>\n",
       "      <td>W</td>\n",
       "      <td>52</td>\n",
       "      <td>72</td>\n",
       "      <td>AR</td>\n",
       "      <td>...</td>\n",
       "      <td>PCC</td>\n",
       "      <td>PCC</td>\n",
       "      <td>f</td>\n",
       "      <td>3.141594</td>\n",
       "      <td>26.949339</td>\n",
       "      <td>LINESTRING(-122.350055372668 47.6554398660144,...</td>\n",
       "      <td>4326</td>\n",
       "      <td>2831</td>\n",
       "      <td>2831</td>\n",
       "      <td>0</td>\n",
       "    </tr>\n",
       "    <tr>\n",
       "      <th>2</th>\n",
       "      <td>0</td>\n",
       "      <td>313868</td>\n",
       "      <td>313874</td>\n",
       "      <td>218.799534</td>\n",
       "      <td>180.349589</td>\n",
       "      <td>S</td>\n",
       "      <td>S</td>\n",
       "      <td>0</td>\n",
       "      <td>0</td>\n",
       "      <td>410B</td>\n",
       "      <td>...</td>\n",
       "      <td>UIMPRV</td>\n",
       "      <td>UIMPRV</td>\n",
       "      <td>f</td>\n",
       "      <td>-0.191456</td>\n",
       "      <td>4.190603</td>\n",
       "      <td>LINESTRING(-122.362966756884 47.5713328446345,...</td>\n",
       "      <td>4326</td>\n",
       "      <td>NaN</td>\n",
       "      <td>NaN</td>\n",
       "      <td>0</td>\n",
       "    </tr>\n",
       "    <tr>\n",
       "      <th>3</th>\n",
       "      <td>0</td>\n",
       "      <td>319890</td>\n",
       "      <td>322466</td>\n",
       "      <td>225.852123</td>\n",
       "      <td>272.643093</td>\n",
       "      <td>SE</td>\n",
       "      <td>E</td>\n",
       "      <td>60</td>\n",
       "      <td>60</td>\n",
       "      <td>410C</td>\n",
       "      <td>...</td>\n",
       "      <td>PCC</td>\n",
       "      <td>PCC</td>\n",
       "      <td>f</td>\n",
       "      <td>3.723988</td>\n",
       "      <td>13.995332</td>\n",
       "      <td>LINESTRING(-122.395081951736 47.5849380800841,...</td>\n",
       "      <td>4326</td>\n",
       "      <td>575</td>\n",
       "      <td>575</td>\n",
       "      <td>0</td>\n",
       "    </tr>\n",
       "    <tr>\n",
       "      <th>4</th>\n",
       "      <td>0</td>\n",
       "      <td>319292</td>\n",
       "      <td>319294</td>\n",
       "      <td>313.080031</td>\n",
       "      <td>623.754118</td>\n",
       "      <td>N</td>\n",
       "      <td>N</td>\n",
       "      <td>0</td>\n",
       "      <td>0</td>\n",
       "      <td>NONE</td>\n",
       "      <td>...</td>\n",
       "      <td>UIMPRV</td>\n",
       "      <td>UIMPRV</td>\n",
       "      <td>f</td>\n",
       "      <td>-3.141596</td>\n",
       "      <td>26.933899</td>\n",
       "      <td>LINESTRING(-122.368266891496 47.5538036466461,...</td>\n",
       "      <td>4326</td>\n",
       "      <td>723</td>\n",
       "      <td>723</td>\n",
       "      <td>0</td>\n",
       "    </tr>\n",
       "  </tbody>\n",
       "</table>\n",
       "<p>5 rows × 21 columns</p>\n",
       "</div>"
      ],
      "text/plain": [
       "   connected    id_i    id_j    length_i    length_j side_i side_j  \\\n",
       "0          0  289092  299107  297.230378  313.835648      W      S   \n",
       "1          0  293102  331808  431.833749  434.510666      W      W   \n",
       "2          0  313868  313874  218.799534  180.349589      S      S   \n",
       "3          0  319890  322466  225.852123  272.643093     SE      E   \n",
       "4          0  319292  319294  313.080031  623.754118      N      N   \n",
       "\n",
       "   sw_width_i  sw_width_j curbtype_i        ...         surftype_i surftype_j  \\\n",
       "0          60          60       410C        ...                PCC         AC   \n",
       "1          52          72         AR        ...                PCC        PCC   \n",
       "2           0           0       410B        ...             UIMPRV     UIMPRV   \n",
       "3          60          60       410C        ...                PCC        PCC   \n",
       "4           0           0       NONE        ...             UIMPRV     UIMPRV   \n",
       "\n",
       "  intersects near_angle  near_distance  \\\n",
       "0          f  -2.283203      34.436532   \n",
       "1          f   3.141594      26.949339   \n",
       "2          f  -0.191456       4.190603   \n",
       "3          f   3.723988      13.995332   \n",
       "4          f  -3.141596      26.933899   \n",
       "\n",
       "                                           near_line near_line_srid  bid_i  \\\n",
       "0  LINESTRING(-122.319447001456 47.6008471113961,...           4326    NaN   \n",
       "1  LINESTRING(-122.350055372668 47.6554398660144,...           4326   2831   \n",
       "2  LINESTRING(-122.362966756884 47.5713328446345,...           4326    NaN   \n",
       "3  LINESTRING(-122.395081951736 47.5849380800841,...           4326    575   \n",
       "4  LINESTRING(-122.368266891496 47.5538036466461,...           4326    723   \n",
       "\n",
       "   bid_j  intersects_street  \n",
       "0   3352                  0  \n",
       "1   2831                  0  \n",
       "2    NaN                  0  \n",
       "3    575                  0  \n",
       "4    723                  0  \n",
       "\n",
       "[5 rows x 21 columns]"
      ]
     },
     "execution_count": 164,
     "metadata": {},
     "output_type": "execute_result"
    }
   ],
   "source": [
    "raw_data = pd.read_csv('./learndata-latest.csv')\n",
    "raw_data.head()"
   ]
  },
  {
   "cell_type": "code",
   "execution_count": 165,
   "metadata": {
    "collapsed": true
   },
   "outputs": [],
   "source": [
    "# Remove features that we shouldn't learn (encoded geometries and sidewalk ID numbers)\n",
    "near_line = raw_data['near_line']  # Save for later\n",
    "del raw_data['near_line']\n",
    "del raw_data['id_i']\n",
    "del raw_data['id_j']"
   ]
  },
  {
   "cell_type": "code",
   "execution_count": 166,
   "metadata": {
    "collapsed": false
   },
   "outputs": [
    {
     "data": {
      "text/html": [
       "<div>\n",
       "<table border=\"1\" class=\"dataframe\">\n",
       "  <thead>\n",
       "    <tr style=\"text-align: right;\">\n",
       "      <th></th>\n",
       "      <th>intersects</th>\n",
       "      <th>near_angle</th>\n",
       "      <th>near_distance</th>\n",
       "      <th>near_line_srid</th>\n",
       "      <th>intersects_street</th>\n",
       "      <th>same_curbtype</th>\n",
       "      <th>same_surftype</th>\n",
       "      <th>same_block</th>\n",
       "      <th>same_side</th>\n",
       "      <th>length_diff</th>\n",
       "      <th>sw_width_diff</th>\n",
       "    </tr>\n",
       "  </thead>\n",
       "  <tbody>\n",
       "    <tr>\n",
       "      <th>0</th>\n",
       "      <td>0</td>\n",
       "      <td>2.283203</td>\n",
       "      <td>34.436532</td>\n",
       "      <td>4326</td>\n",
       "      <td>0</td>\n",
       "      <td>0</td>\n",
       "      <td>0</td>\n",
       "      <td>0</td>\n",
       "      <td>0</td>\n",
       "      <td>16.605270</td>\n",
       "      <td>0</td>\n",
       "    </tr>\n",
       "    <tr>\n",
       "      <th>1</th>\n",
       "      <td>0</td>\n",
       "      <td>3.141594</td>\n",
       "      <td>26.949339</td>\n",
       "      <td>4326</td>\n",
       "      <td>0</td>\n",
       "      <td>1</td>\n",
       "      <td>0</td>\n",
       "      <td>1</td>\n",
       "      <td>1</td>\n",
       "      <td>2.676917</td>\n",
       "      <td>20</td>\n",
       "    </tr>\n",
       "    <tr>\n",
       "      <th>2</th>\n",
       "      <td>0</td>\n",
       "      <td>0.191456</td>\n",
       "      <td>4.190603</td>\n",
       "      <td>4326</td>\n",
       "      <td>0</td>\n",
       "      <td>1</td>\n",
       "      <td>0</td>\n",
       "      <td>0</td>\n",
       "      <td>1</td>\n",
       "      <td>38.449945</td>\n",
       "      <td>0</td>\n",
       "    </tr>\n",
       "    <tr>\n",
       "      <th>3</th>\n",
       "      <td>0</td>\n",
       "      <td>3.723988</td>\n",
       "      <td>13.995332</td>\n",
       "      <td>4326</td>\n",
       "      <td>0</td>\n",
       "      <td>1</td>\n",
       "      <td>0</td>\n",
       "      <td>1</td>\n",
       "      <td>0</td>\n",
       "      <td>46.790971</td>\n",
       "      <td>0</td>\n",
       "    </tr>\n",
       "    <tr>\n",
       "      <th>4</th>\n",
       "      <td>0</td>\n",
       "      <td>3.141596</td>\n",
       "      <td>26.933899</td>\n",
       "      <td>4326</td>\n",
       "      <td>0</td>\n",
       "      <td>1</td>\n",
       "      <td>0</td>\n",
       "      <td>1</td>\n",
       "      <td>1</td>\n",
       "      <td>310.674087</td>\n",
       "      <td>0</td>\n",
       "    </tr>\n",
       "  </tbody>\n",
       "</table>\n",
       "</div>"
      ],
      "text/plain": [
       "   intersects  near_angle  near_distance  near_line_srid  intersects_street  \\\n",
       "0           0    2.283203      34.436532            4326                  0   \n",
       "1           0    3.141594      26.949339            4326                  0   \n",
       "2           0    0.191456       4.190603            4326                  0   \n",
       "3           0    3.723988      13.995332            4326                  0   \n",
       "4           0    3.141596      26.933899            4326                  0   \n",
       "\n",
       "   same_curbtype  same_surftype  same_block  same_side  length_diff  \\\n",
       "0              0              0           0          0    16.605270   \n",
       "1              1              0           1          1     2.676917   \n",
       "2              1              0           0          1    38.449945   \n",
       "3              1              0           1          0    46.790971   \n",
       "4              1              0           1          1   310.674087   \n",
       "\n",
       "   sw_width_diff  \n",
       "0              0  \n",
       "1             20  \n",
       "2              0  \n",
       "3              0  \n",
       "4              0  "
      ]
     },
     "execution_count": 166,
     "metadata": {},
     "output_type": "execute_result"
    }
   ],
   "source": [
    "# Binarizes categorical variables \n",
    "# (e.g. if 3 categories, makes 3 cols with 1s and 0s)\n",
    "# X = pd.get_dummies(raw_data)  \n",
    "\n",
    "# Turn categorical variables into integer labels\n",
    "label_encoder = preprocessing.LabelEncoder()\n",
    "raw_data['curbtype_i'] = label_encoder.fit_transform(raw_data['curbtype_i'])\n",
    "raw_data['curbtype_j'] = label_encoder.fit_transform(raw_data['curbtype_j'])\n",
    "raw_data['side_i'] = label_encoder.fit_transform(raw_data['side_i'])\n",
    "raw_data['side_j'] = label_encoder.fit_transform(raw_data['side_j'])\n",
    "raw_data['surftype_i'] = label_encoder.fit_transform(raw_data['surftype_i'])\n",
    "raw_data['surftype_j'] = label_encoder.fit_transform(raw_data['surftype_j'])\n",
    "raw_data['intersects'] = label_encoder.fit_transform(raw_data['intersects'])\n",
    "\n",
    "X = raw_data\n",
    "\n",
    "X['same_curbtype'] = (X['curbtype_i'] == X['curbtype_j']).astype(int)\n",
    "X['same_surftype'] = (X['surftype_i'] == X['surftype_j']).astype(int)\n",
    "X['same_block'] = (X['bid_i'] == X['bid_j']).astype(int)\n",
    "X['same_side'] = (X['side_i'] == X['side_j']).astype(int)\n",
    "\n",
    "# TODO: There's probably more features we can generate with these two lengths\n",
    "X['length_diff'] = abs(X['length_i'] - X['length_j'])\n",
    "X['sw_width_diff'] = abs(X['sw_width_i'] - X['sw_width_j'])\n",
    "\n",
    "y = X['connected']\n",
    "X = X.drop('connected', 1)\n",
    "X = X.drop('curbtype_i', 1)\n",
    "X = X.drop('curbtype_j', 1)\n",
    "X = X.drop('surftype_i', 1)\n",
    "X = X.drop('surftype_j', 1)\n",
    "\n",
    "X['near_angle'] = abs(X['near_angle'])\n",
    "\n",
    "del X['bid_i']  # This has NaN and will cause errors in sklearn\n",
    "del X['bid_j']\n",
    "\n",
    "del X['side_i']\n",
    "del X['side_j']\n",
    "del X['length_i']\n",
    "del X['length_j']\n",
    "del X['sw_width_i']\n",
    "del X['sw_width_j']\n",
    "\n",
    "X.head()"
   ]
  },
  {
   "cell_type": "code",
   "execution_count": 167,
   "metadata": {
    "collapsed": false
   },
   "outputs": [],
   "source": [
    "# Scaling appropriate features by subtracting mean and scaling to unit variance\n",
    "scaler = preprocessing.StandardScaler()\n",
    "\n",
    "X['near_distance'] = scaler.fit_transform(X['near_distance'])\n",
    "X['length_diff'] = scaler.fit_transform(X['length_diff'])\n",
    "X['sw_width_diff'] = scaler.fit_transform(X['sw_width_diff'])"
   ]
  },
  {
   "cell_type": "code",
   "execution_count": 168,
   "metadata": {
    "collapsed": false
   },
   "outputs": [],
   "source": [
    "X_train, X_test, y_train, y_test = cross_validation.train_test_split(X, y, test_size=0.9, random_state=6883)"
   ]
  },
  {
   "cell_type": "markdown",
   "metadata": {},
   "source": [
    "### Logistic Regression"
   ]
  },
  {
   "cell_type": "code",
   "execution_count": 173,
   "metadata": {
    "collapsed": false,
    "scrolled": false
   },
   "outputs": [
    {
     "name": "stdout",
     "output_type": "stream",
     "text": [
      "0.985160167252\n",
      "intersects: 10.2024084831\n",
      "near_angle: -0.531469676179\n",
      "near_distance: 0.249299943043\n",
      "near_line_srid: -0.000751486872834\n",
      "intersects_street: -2.26560843353\n",
      "same_curbtype: 0.413856419198\n",
      "same_surftype: 0.0\n",
      "same_block: 2.26282243656\n",
      "same_side: 2.91572081926\n",
      "length_diff: -0.229252654604\n",
      "sw_width_diff: 0.0\n"
     ]
    }
   ],
   "source": [
    "logistic = linear_model.LogisticRegression(penalty='l1', C=1e-1)\n",
    "logistic.fit(X_train, y_train)\n",
    "print logistic.score(X_test, y_test)\n",
    "for colname, value in zip(list(X.columns), logistic.coef_[0]):\n",
    "    print '{}: {}'.format(colname, value)"
   ]
  },
  {
   "cell_type": "code",
   "execution_count": 174,
   "metadata": {
    "collapsed": false
   },
   "outputs": [
    {
     "name": "stdout",
     "output_type": "stream",
     "text": [
      "Precision score (what fraction of predicted connections are true): 0.976287527027\n",
      "Recall score (what fraction of connections were found?): 0.935566047349\n"
     ]
    },
    {
     "data": {
      "image/png": "[encoded data removed]",
      "text/plain": [
       "<matplotlib.figure.Figure at 0x7f80524f8390>"
      ]
     },
     "metadata": {},
     "output_type": "display_data"
    }
   ],
   "source": [
    "y_pred = logistic.predict(X_test)\n",
    "y_prob = logistic.predict_proba(X_test)[:,1]\n",
    "precision, recall, thresholds = precision_recall_curve(y_test, y_prob)\n",
    "print \"Precision score (what fraction of predicted connections are true): {}\".format(precision_score(y_test, y_pred))\n",
    "print \"Recall score (what fraction of connections were found?): {}\".format(recall_score(y_test, y_pred))\n",
    "\n",
    "plt.plot(recall, precision)\n",
    "plt.xlabel('Recall')\n",
    "plt.ylabel('Precision')\n",
    "plt.show()"
   ]
  },
  {
   "cell_type": "markdown",
   "metadata": {},
   "source": [
    "### Logistic Regression with random features"
   ]
  },
  {
   "cell_type": "code",
   "execution_count": 175,
   "metadata": {
    "collapsed": true
   },
   "outputs": [],
   "source": [
    "poly = preprocessing.PolynomialFeatures(2)\n",
    "Xp = poly.fit_transform(X)\n",
    "Xp_train, Xp_test, yp_train, yp_test = cross_validation.train_test_split(Xp, y, test_size=0.9, random_state=6883)"
   ]
  },
  {
   "cell_type": "code",
   "execution_count": 176,
   "metadata": {
    "collapsed": false
   },
   "outputs": [
    {
     "name": "stdout",
     "output_type": "stream",
     "text": [
      "Fit score: 0.985021369128\n",
      "[0 0 0 0 0 0 0 0 0 0 0]: 0.0\n",
      "[1 0 0 0 0 0 0 0 0 0 0]: 0.0\n",
      "[0 1 0 0 0 0 0 0 0 0 0]: 0.0\n",
      "[0 0 1 0 0 0 0 0 0 0 0]: 0.0\n",
      "[0 0 0 1 0 0 0 0 0 0 0]: -0.000477998226315\n",
      "[0 0 0 0 1 0 0 0 0 0 0]: 0.0\n",
      "[0 0 0 0 0 1 0 0 0 0 0]: 0.0\n",
      "[0 0 0 0 0 0 1 0 0 0 0]: 0.0\n",
      "[0 0 0 0 0 0 0 1 0 0 0]: 0.0\n",
      "[0 0 0 0 0 0 0 0 1 0 0]: 0.0\n",
      "[0 0 0 0 0 0 0 0 0 1 0]: 0.0\n",
      "[0 0 0 0 0 0 0 0 0 0 1]: 0.0\n",
      "[2 0 0 0 0 0 0 0 0 0 0]: 0.0\n",
      "[1 1 0 0 0 0 0 0 0 0 0]: 0.0\n",
      "[1 0 1 0 0 0 0 0 0 0 0]: 0.0\n",
      "[1 0 0 1 0 0 0 0 0 0 0]: 0.00390747057475\n",
      "[1 0 0 0 1 0 0 0 0 0 0]: 0.0\n",
      "[1 0 0 0 0 1 0 0 0 0 0]: 0.0\n",
      "[1 0 0 0 0 0 1 0 0 0 0]: 0.0\n",
      "[1 0 0 0 0 0 0 1 0 0 0]: 0.0\n",
      "[1 0 0 0 0 0 0 0 1 0 0]: 0.0\n",
      "[1 0 0 0 0 0 0 0 0 1 0]: 0.0\n",
      "[1 0 0 0 0 0 0 0 0 0 1]: 0.0\n",
      "[0 2 0 0 0 0 0 0 0 0 0]: 0.015972791603\n",
      "[0 1 1 0 0 0 0 0 0 0 0]: 0.0\n",
      "[0 1 0 1 0 0 0 0 0 0 0]: -0.000113350632722\n",
      "[0 1 0 0 1 0 0 0 0 0 0]: -0.593907573914\n",
      "[0 1 0 0 0 1 0 0 0 0 0]: 0.0\n",
      "[0 1 0 0 0 0 1 0 0 0 0]: 0.0\n",
      "[0 1 0 0 0 0 0 1 0 0 0]: 0.0\n",
      "[0 1 0 0 0 0 0 0 1 0 0]: 0.0\n",
      "[0 1 0 0 0 0 0 0 0 1 0]: 0.149266533788\n",
      "[0 1 0 0 0 0 0 0 0 0 1]: 0.0\n",
      "[0 0 2 0 0 0 0 0 0 0 0]: -0.00782160890549\n",
      "[0 0 1 1 0 0 0 0 0 0 0]: 0.00010310805855\n",
      "[0 0 1 0 1 0 0 0 0 0 0]: 0.0\n",
      "[0 0 1 0 0 1 0 0 0 0 0]: 0.0\n",
      "[0 0 1 0 0 0 1 0 0 0 0]: 0.0\n",
      "[0 0 1 0 0 0 0 1 0 0 0]: 0.0\n",
      "[0 0 1 0 0 0 0 0 1 0 0]: 0.0\n",
      "[0 0 1 0 0 0 0 0 0 1 0]: 0.0\n",
      "[0 0 1 0 0 0 0 0 0 0 1]: 0.0\n",
      "[0 0 0 2 0 0 0 0 0 0 0]: -9.99262278224e-08\n",
      "[0 0 0 1 1 0 0 0 0 0 0]: -0.000338617676321\n",
      "[0 0 0 1 0 1 0 0 0 0 0]: 0.000119601589998\n",
      "[0 0 0 1 0 0 1 0 0 0 0]: 0.000237668516174\n",
      "[0 0 0 1 0 0 0 1 0 0 0]: 0.000560177387943\n",
      "[0 0 0 1 0 0 0 0 1 0 0]: 0.000796743635042\n",
      "[0 0 0 1 0 0 0 0 0 1 0]: -0.000174107174625\n",
      "[0 0 0 1 0 0 0 0 0 0 1]: -4.34159776094e-06\n",
      "[0 0 0 0 2 0 0 0 0 0 0]: 0.0\n",
      "[0 0 0 0 1 1 0 0 0 0 0]: 0.0\n",
      "[0 0 0 0 1 0 1 0 0 0 0]: 0.0\n",
      "[0 0 0 0 1 0 0 1 0 0 0]: 0.0\n",
      "[0 0 0 0 1 0 0 0 1 0 0]: 0.0\n",
      "[0 0 0 0 1 0 0 0 0 1 0]: 0.0\n",
      "[0 0 0 0 1 0 0 0 0 0 1]: 0.0\n",
      "[0 0 0 0 0 2 0 0 0 0 0]: 0.0\n",
      "[0 0 0 0 0 1 1 0 0 0 0]: 0.0\n",
      "[0 0 0 0 0 1 0 1 0 0 0]: 0.0\n",
      "[0 0 0 0 0 1 0 0 1 0 0]: 0.0\n",
      "[0 0 0 0 0 1 0 0 0 1 0]: 0.0\n",
      "[0 0 0 0 0 1 0 0 0 0 1]: 0.0\n",
      "[0 0 0 0 0 0 2 0 0 0 0]: 0.0\n",
      "[0 0 0 0 0 0 1 1 0 0 0]: 0.0\n",
      "[0 0 0 0 0 0 1 0 1 0 0]: 0.0\n",
      "[0 0 0 0 0 0 1 0 0 1 0]: 0.0\n",
      "[0 0 0 0 0 0 1 0 0 0 1]: 0.0\n",
      "[0 0 0 0 0 0 0 2 0 0 0]: 0.0\n",
      "[0 0 0 0 0 0 0 1 1 0 0]: 0.0\n",
      "[0 0 0 0 0 0 0 1 0 1 0]: 0.0\n",
      "[0 0 0 0 0 0 0 1 0 0 1]: 0.0\n",
      "[0 0 0 0 0 0 0 0 2 0 0]: 0.0\n",
      "[0 0 0 0 0 0 0 0 1 1 0]: 0.0\n",
      "[0 0 0 0 0 0 0 0 1 0 1]: 0.0\n",
      "[0 0 0 0 0 0 0 0 0 2 0]: 0.0307705270749\n",
      "[0 0 0 0 0 0 0 0 0 1 1]: 0.0\n",
      "[0 0 0 0 0 0 0 0 0 0 2]: 0.0\n"
     ]
    }
   ],
   "source": [
    "logisticp = linear_model.LogisticRegression(penalty='l1', C=1e-2)\n",
    "logisticp.fit(Xp_train, yp_train)\n",
    "print 'Fit score: {}'.format(logisticp.score(Xp_test, yp_test))\n",
    "for colname, value in zip(list(poly.powers_), logisticp.coef_[0]):\n",
    "    print '{}: {}'.format(colname, value)"
   ]
  },
  {
   "cell_type": "code",
   "execution_count": 177,
   "metadata": {
    "collapsed": false
   },
   "outputs": [
    {
     "name": "stdout",
     "output_type": "stream",
     "text": [
      "Precision score (what fraction of predicted connections are true): 0.973612727978\n",
      "Recall score (what fraction of connections were found?): 0.937434190415\n"
     ]
    },
    {
     "data": {
      "image/png": "[encoded data removed]",
      "text/plain": [
       "<matplotlib.figure.Figure at 0x7f805b4e3f50>"
      ]
     },
     "metadata": {},
     "output_type": "display_data"
    }
   ],
   "source": [
    "y_predp = logisticp.predict(Xp_test)\n",
    "y_probp = logisticp.predict_proba(Xp_test)[:,1]\n",
    "precisionp, recallp, thresholdsp = precision_recall_curve(y_test, y_probp)\n",
    "print \"Precision score (what fraction of predicted connections are true): {}\".format(precision_score(y_test, y_predp))\n",
    "print \"Recall score (what fraction of connections were found?): {}\".format(recall_score(y_test, y_predp))\n",
    "\n",
    "plt.plot(recallp, precisionp)\n",
    "plt.xlabel('Recall')\n",
    "plt.ylabel('Precision')\n",
    "plt.show()"
   ]
  },
  {
   "cell_type": "markdown",
   "metadata": {},
   "source": [
    "### Support Vector Machines"
   ]
  },
  {
   "cell_type": "code",
   "execution_count": 178,
   "metadata": {
    "collapsed": false
   },
   "outputs": [],
   "source": [
    "from sklearn import svm\n",
    "\n",
    "y_train_cls = y_train.copy()\n",
    "y_train_cls.loc[y_train == 0] = -1\n",
    "y_test_cls = y_test.copy()\n",
    "y_test_cls.loc[y_test == 0] = -1"
   ]
  },
  {
   "cell_type": "code",
   "execution_count": 179,
   "metadata": {
    "collapsed": false
   },
   "outputs": [
    {
     "name": "stdout",
     "output_type": "stream",
     "text": [
      "0.973882819684\n",
      "[[  2.12959599e+00  -7.21066655e-02   3.72916166e-02  -1.98008047e-04\n",
      "   -3.59735244e-01   3.65033904e-02   0.00000000e+00   3.88861060e-01\n",
      "    4.86700455e-01  -2.77711561e-02   0.00000000e+00]]\n",
      "Precision: 0.999478978798\n",
      "Recall: 0.847050032268\n"
     ]
    }
   ],
   "source": [
    "svmc = svm.LinearSVC(penalty='l1', dual=False, C=1e-2)\n",
    "svmc.fit(X_train, y_train)\n",
    "print svmc.score(X_test, y_test)\n",
    "svmc_pred = svmc.predict(X_test)\n",
    "print svmc.coef_\n",
    "print 'Precision: {}'.format(precision_score(y_test, svmc_pred))\n",
    "print 'Recall: {}'.format(recall_score(y_test, svmc_pred))"
   ]
  },
  {
   "cell_type": "markdown",
   "metadata": {
    "collapsed": true
   },
   "source": [
    "### Recovering True positives, False Positives, etc for visualization"
   ]
  },
  {
   "cell_type": "code",
   "execution_count": 180,
   "metadata": {
    "collapsed": false
   },
   "outputs": [
    {
     "name": "stdout",
     "output_type": "stream",
     "text": [
      "(30608, 11)\n",
      "(158669, 11)\n",
      "(737, 11)\n",
      "(2111, 11)\n"
     ]
    }
   ],
   "source": [
    "X_pred = logistic.predict(X)\n",
    "\n",
    "X_out = X.copy()\n",
    "X_acc = X_pred == y\n",
    "\n",
    "true_positives = X_out[np.logical_and(X_pred, X_acc)]\n",
    "false_positives = X_out[np.logical_and(X_pred, np.logical_not(X_acc))]\n",
    "true_negatives = X_out[np.logical_and(np.logical_not(X_pred), X_acc)]\n",
    "false_negatives = X_out[np.logical_and(np.logical_not(X_pred), np.logical_not(X_acc))]\n",
    "\n",
    "print true_positives.shape\n",
    "print true_negatives.shape\n",
    "print false_positives.shape\n",
    "print false_negatives.shape"
   ]
  },
  {
   "cell_type": "code",
   "execution_count": 181,
   "metadata": {
    "collapsed": false
   },
   "outputs": [],
   "source": [
    "# We can export the data to GeoJSON for visualization. It's probably simplest to export all rows\n",
    "# as features and have a 'truth_value' property that's 'false positive', 'true positive', etc.\n",
    "\n",
    "# Actually, let's write a shapefile\n",
    "from shapely import wkt\n",
    "from shapely.geometry import mapping\n",
    "import fiona\n",
    "from fiona import crs\n",
    "\n",
    "epsg = crs.from_epsg(4269)  # \n",
    "\n",
    "# Note: this takes a while to run\n",
    "schema = {'geometry': 'LineString',\n",
    "          'properties': {'scored': 'str'}}\n",
    "\n",
    "with fiona.open('./learndata-predictions-latest.shp', 'w', 'ESRI Shapefile', schema, crs=epsg) as c:\n",
    "    for i in range(len(X_pred)):\n",
    "        feature = {}\n",
    "        feature['type'] = 'Feature'\n",
    "        geom = wkt.loads(near_line[i])\n",
    "        feature['geometry'] = mapping(geom)\n",
    "        if X_acc[i]:\n",
    "            if X_pred[i]:\n",
    "                properties = {'scored': 'true positive'}\n",
    "            else:\n",
    "                properties = {'scored': 'true negative'}\n",
    "        else:\n",
    "            if X_pred[i]:\n",
    "                properties = {'scored': 'false positive'}\n",
    "            else:\n",
    "                properties = {'scored': 'false negative'}\n",
    "        feature['properties'] = properties\n",
    "        \n",
    "        c.write(feature)"
   ]
  },
  {
   "cell_type": "code",
   "execution_count": 198,
   "metadata": {
    "collapsed": false
   },
   "outputs": [],
   "source": [
    "# Export errors as geojson for visualizing on github\n",
    "import json\n",
    "\n",
    "geojson = {}\n",
    "geojson['type'] = 'FeatureCollection'\n",
    "geojson['features'] = []\n",
    "\n",
    "for i in range(len(X_pred)):\n",
    "    if not X_acc[i]:\n",
    "        feature = {}\n",
    "        feature['type'] = 'Feature'\n",
    "        geom = wkt.loads(near_line[i])\n",
    "        feature['geometry'] = mapping(geom)\n",
    "        if X_pred[i]:\n",
    "            properties = {'predicted': 1,\n",
    "                          'type': 'false positive',\n",
    "                          'stroke': '#FC0000',\n",
    "                          'stroke-width': 5}\n",
    "        else:\n",
    "            properties = {'predicted': 0,\n",
    "                          'type': 'false negative',\n",
    "                          'stroke': '#093CA8',\n",
    "                          'stroke-width': 5}\n",
    "        feature['properties'] = properties\n",
    "        geojson['features'].append(feature)\n",
    "        \n",
    "with open('./learndata-errors.geojson', 'w') as f:\n",
    "    json.dump(geojson, f)"
   ]
  }
 ],
 "metadata": {
  "kernelspec": {
   "display_name": "Python 2",
   "language": "python",
   "name": "python2"
  },
  "language_info": {
   "codemirror_mode": {
    "name": "ipython",
    "version": 2
   },
   "file_extension": ".py",
   "mimetype": "text/x-python",
   "name": "python",
   "nbconvert_exporter": "python",
   "pygments_lexer": "ipython2",
   "version": "2.7.9"
  }
 },
 "nbformat": 4,
 "nbformat_minor": 0
}
