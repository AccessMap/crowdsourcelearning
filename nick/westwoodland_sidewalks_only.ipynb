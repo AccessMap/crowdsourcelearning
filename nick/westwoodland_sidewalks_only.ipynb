{
 "cells": [
  {
   "cell_type": "code",
   "execution_count": 5,
   "metadata": {
    "collapsed": false
   },
   "outputs": [],
   "source": [
    "import json\n",
    "import shapely.geometry"
   ]
  },
  {
   "cell_type": "markdown",
   "metadata": {},
   "source": [
    "Read in several-Mb-large sidewalks geojson"
   ]
  },
  {
   "cell_type": "code",
   "execution_count": 6,
   "metadata": {
    "collapsed": true
   },
   "outputs": [],
   "source": [
    "with open('../data/sidewalks_data.geojson') as f:\n",
    "    sidewalk_fc = json.load(f)"
   ]
  },
  {
   "cell_type": "markdown",
   "metadata": {},
   "source": [
    "Get just the sidewalks in the West Woodland neighborhood"
   ]
  },
  {
   "cell_type": "code",
   "execution_count": 7,
   "metadata": {
    "collapsed": false
   },
   "outputs": [],
   "source": [
    "# West, South, East, North coordinates\n",
    "#greenlake_wsen = [-122.334073,47.674548,-122.319094,47.68183]\n",
    "westwoodland_box = shapely.geometry.Polygon([[-122.3604655266,47.6639296048],\n",
    "                                             [-122.3604655266,47.6653566482],\n",
    "                                             [-122.3572093248,47.6653566482],\n",
    "                                             [-122.3572093248,47.6639296048],\n",
    "                                             [-122.3604655266,47.6639296048]])\n",
    "\n",
    "westwoodland_fc = {'type': 'FeatureCollection', 'features': []}\n",
    "for feature in sidewalk_fc['features']:\n",
    "    if westwoodland_box.intersects(shapely.geometry.shape(feature['geometry'])):\n",
    "        westwoodland_fc['features'].append(feature)"
   ]
  },
  {
   "cell_type": "markdown",
   "metadata": {},
   "source": [
    "Write to file"
   ]
  },
  {
   "cell_type": "code",
   "execution_count": 8,
   "metadata": {
    "collapsed": true
   },
   "outputs": [],
   "source": [
    "with open('../data/sidewalks_data_westwoodland.geojson', 'w') as g:\n",
    "    json.dump(westwoodland_fc, g)"
   ]
  },
  {
   "cell_type": "code",
   "execution_count": null,
   "metadata": {
    "collapsed": true
   },
   "outputs": [],
   "source": []
  }
 ],
 "metadata": {
  "kernelspec": {
   "display_name": "Python 2",
   "language": "python",
   "name": "python2"
  },
  "language_info": {
   "codemirror_mode": {
    "name": "ipython",
    "version": 2
   },
   "file_extension": ".py",
   "mimetype": "text/x-python",
   "name": "python",
   "nbconvert_exporter": "python",
   "pygments_lexer": "ipython2",
   "version": "2.7.10"
  }
 },
 "nbformat": 4,
 "nbformat_minor": 0
}
