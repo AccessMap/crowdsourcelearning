{
 "cells": [
  {
   "cell_type": "markdown",
   "metadata": {},
   "source": [
    "To compare rank-order changes in the weights of our machine learning fits, we want to make a slopegraph. This is an approach described by Tufte where e.g. two rank orders are listed as columns, side by side, as text descriptions (with numerical values listed as well). Lines are then drawn to connect the categories listed, demonstrating the way in which rank order shifted.\n",
    "\n",
    "The code below was grabbed and modified from this Github repo: (https://github.com/mhlinder/tufte-slopegraph) "
   ]
  },
  {
   "cell_type": "code",
   "execution_count": 393,
   "metadata": {
    "collapsed": false
   },
   "outputs": [],
   "source": [
    "# http://www.edwardtufte.com/bboard/q-and-a-fetch-msg?msg_id=0003nk\n",
    "import numpy as np\n",
    "import pandas as pd\n",
    "import matplotlib\n",
    "from IPython.display import display\n",
    "matplotlib.use('SVG')\n",
    "import matplotlib.pyplot as plt\n",
    "\n",
    "def scale(val, src, dst):\n",
    "    return ((float(val) - src[0]) / (src[1]-src[0])) * (dst[1]-dst[0]) + dst[0]\n",
    "\n",
    "\n",
    "def vertplace(j, col, fontsize):\n",
    "    val = col.iloc[j]\n",
    "    if j > 0:\n",
    "        prev = col.iloc[j-1]\n",
    "        prevy = vertplace(j-1, col)\n",
    "        curry = scale(val)\n",
    "\n",
    "        diff = abs(curry-prevy)\n",
    "        if diff < fontsize:\n",
    "            return prevy - fontsize\n",
    "        else:\n",
    "            return curry\n",
    "    else:\n",
    "        return scale(val)\n",
    "\n",
    "\n",
    "def plot_slopegraph(data_dict, title, abs_vals=False, byval=True):\n",
    "    \"\"\"\n",
    "        Function to generate plot; takes dictionary in form\n",
    "            {obs_name1: {year1: val1, year2: val2, year3:val3,...}, ...}\n",
    "        Allows for N obs_names and T ordered classes\n",
    "\n",
    "        Plot will have an average level in the middle.\n",
    "\n",
    "    \"\"\"\n",
    "\n",
    "    # Get basic stats to use for plotting, labeling, making\n",
    "    #   data structures\n",
    "    obs_names = data_dict.keys()\n",
    "    N = len(obs_names)\n",
    "    T = len(data_dict[obs_names[0]])\n",
    "    classes = data_dict[obs_names[0]].keys()\n",
    "    classes.sort()\n",
    "\n",
    "    df = pd.DataFrame()\n",
    "    df['observation'] = obs_names\n",
    "    for cls in classes:\n",
    "        df[cls] = [data_dict[obs_name][cls] for obs_name in obs_names]\n",
    "\n",
    "    # Sort by first column\n",
    "    if abs_vals:\n",
    "        df_abs = df.copy()\n",
    "        df_abs.iloc[:,1:] = np.abs(df_abs.iloc[:,1:])\n",
    "        df_abs.sort([classes[0]], inplace=True)\n",
    "        \n",
    "        df['sort'] = np.abs(df_abs[classes[0]])\n",
    "        df.sort(['sort'], inplace=True)\n",
    "        #df.drop('sort', axis=1)\n",
    "        del df['sort']\n",
    "    else:\n",
    "        df.sort([classes[0]], inplace=True)\n",
    "        df_abs = df.copy()\n",
    "        df_abs.iloc[:,1:] = np.abs(df.iloc[:,1:])\n",
    "\n",
    "    ## PLOTTING ##\n",
    "\n",
    "    # General figure settings\n",
    "    fig, ax = plt.subplots(facecolor='white', figsize=(6,8),\n",
    "                           dpi=80)\n",
    "\n",
    "    x_labs = [''] + classes + ['']\n",
    "    for ind, lab in enumerate(x_labs): \n",
    "        x_labs[ind] = '\\n' + str(lab)\n",
    "    x_vals = np.array(range(len(x_labs)))\n",
    "    \n",
    "\n",
    "    # Plot each, looping first through obs, then through time\n",
    "    color = '-k'\n",
    "\n",
    "    for i, obs_name in enumerate(obs_names):\n",
    "        # Plot slope lines\n",
    "        row = df_abs['observation'] == obs_name\n",
    "        values = np.array(df[row].iloc[:,1:])[0]\n",
    "        if byval:\n",
    "            ys = np.abs(values)\n",
    "        else:\n",
    "            rank = df_abs.rank()[row]\n",
    "            ys = np.array(rank.iloc[:,1:])[0]\n",
    "        ax.plot(x_vals[1:-1], ys, color)\n",
    "\n",
    "\n",
    "        # Add text labels\n",
    "        aligns = ['right', 'left']\n",
    "        labels = [obs_name + ' ' + str(round(values[0], 2)),\n",
    "                    str(round(values[1],2)) + ' ' + obs_name]\n",
    "        \n",
    "        for j, label in enumerate(labels):\n",
    "            ax.text(x_vals[j + 1], ys[j], label, \n",
    "                    horizontalalignment=aligns[j], \n",
    "                    verticalalignment='center')\n",
    "\n",
    "    ax.set_title(title)\n",
    "    ax.set_xticks(x_vals)\n",
    "    ax.set_xticklabels(x_labs, fontsize='16')\n",
    "    ax.set_frame_on(False)\n",
    "    ax.tick_params(axis='both', which='both', left='off', right='off',\n",
    "            labelleft='off', bottom='off', top='off', pad=10)\n",
    "\n",
    "    plt.show()"
   ]
  },
  {
   "cell_type": "code",
   "execution_count": 390,
   "metadata": {
    "collapsed": false
   },
   "outputs": [
    {
     "name": "stdout",
     "output_type": "stream",
     "text": [
      "Intersection:  set(['near_angle, same_block', 'intersects, near_angle', 'near_angle, intersects_street'])\n",
      "Difference:  set(['intersects_street', 'intersects^2', 'near_angle, near_distance', 'intersects', 'near_angle, same_side', 'intersects_street^2'])\n"
     ]
    },
    {
     "data": {
      "text/plain": [
       "{'intersects': {'crowdsourced': 0.0, 'heuristic': 0.316879},\n",
       " 'intersects, near_angle': {'crowdsourced': 0.633763, 'heuristic': 2.553956},\n",
       " 'intersects^2': {'crowdsourced': 0.0, 'heuristic': 1.961741},\n",
       " 'intersects_street': {'crowdsourced': -0.782623, 'heuristic': 0.0},\n",
       " 'intersects_street^2': {'crowdsourced': -1.202853, 'heuristic': 0.0},\n",
       " 'near_angle, intersects_street': {'crowdsourced': -0.530027,\n",
       "  'heuristic': -1.310491},\n",
       " 'near_angle, near_distance': {'crowdsourced': -0.02437, 'heuristic': 0.0},\n",
       " 'near_angle, same_block': {'crowdsourced': 0.596207, 'heuristic': 0.395454},\n",
       " 'near_angle, same_side': {'crowdsourced': 0.0, 'heuristic': 0.728959}}"
      ]
     },
     "execution_count": 390,
     "metadata": {},
     "output_type": "execute_result"
    }
   ],
   "source": [
    "# Data from our fits\n",
    "heuristic_params = {'intersects, near_angle': 2.553956,\n",
    "                    'intersects^2': 1.961741,\n",
    "                    'near_angle, intersects_street': -1.310491,\n",
    "                    'near_angle, same_side': 0.728959,\n",
    "                    'near_angle, same_block': 0.395454,\n",
    "                    'intersects': 0.316879,\n",
    "                    'near_angle': -0.082444,\n",
    "                    'near_angle, sw_width_diff': -0.050279,\n",
    "                    'near_distance': 0.003045}\n",
    "\n",
    "crowdsource_params = {'intersects_street^2': -1.202853,\n",
    "                      'intersects_street': -0.782623,\n",
    "                      'intersects, near_angle': 0.633763,\n",
    "                      'near_angle, same_block': 0.596207,\n",
    "                      'near_angle, intersects_street': -0.530027,\n",
    "                      'near_angle, near_distance': -0.024370,\n",
    "                      'near_angle': -0.021510,\n",
    "                      'near_distance': -0.005418}\n",
    "\n",
    "# Remove keys so that we're looking at params > 0.5\n",
    "heuristic_params.pop('near_distance', None)\n",
    "heuristic_params.pop('near_angle, sw_width_diff', None)\n",
    "heuristic_params.pop('near_angle', None)\n",
    "crowdsource_params.pop('near_distance', None)\n",
    "crowdsource_params.pop('near_angle', None)\n",
    "\n",
    "\n",
    "# Do some set operations to see where the params intersect\n",
    "heuristic_set = set(heuristic_params.keys())\n",
    "crowdsource_set = set(crowdsource_params.keys())\n",
    "print 'Intersection: ', heuristic_set.intersection(crowdsource_set)\n",
    "print 'Difference: ', heuristic_set.symmetric_difference(crowdsource_set)\n",
    "\n",
    "\n",
    "# Put into format desired by plotting function\n",
    "params = {key: {} for key in set(heuristic_params.keys() + crowdsource_params.keys())}\n",
    "for key, value in params.iteritems():\n",
    "    if key in heuristic_params:\n",
    "        value['heuristic'] = heuristic_params[key]\n",
    "    else:\n",
    "        value['heuristic'] = 0.0\n",
    "    if key in crowdsource_params:\n",
    "        value['crowdsourced'] = crowdsource_params[key]\n",
    "    else:\n",
    "        value['crowdsourced'] = 0.0\n",
    "\n",
    "params"
   ]
  },
  {
   "cell_type": "code",
   "execution_count": 391,
   "metadata": {
    "collapsed": false
   },
   "outputs": [
    {
     "name": "stdout",
     "output_type": "stream",
     "text": [
      "[ 8.  2.]\n",
      "[ 2.  8.]\n",
      "[ 2.  6.]\n",
      "[ 2.  4.]\n",
      "[ 9.  2.]\n",
      "[ 6.  5.]\n",
      "[ 7.  9.]\n",
      "[ 5.  7.]\n",
      "[ 4.  2.]\n"
     ]
    },
    {
     "name": "stderr",
     "output_type": "stream",
     "text": [
      "/usr/local/lib/python2.7/dist-packages/ipykernel/__main__.py:56: FutureWarning: sort(columns=....) is deprecated, use sort_values(by=.....)\n",
      "/usr/local/lib/python2.7/dist-packages/ipykernel/__main__.py:59: FutureWarning: sort(columns=....) is deprecated, use sort_values(by=.....)\n"
     ]
    }
   ],
   "source": [
    "a = plot_slopegraph(params, 'title', abs_vals=True, byval=False)\n",
    "plt.savefig('./slopegraph_byvalue_source.svg')"
   ]
  },
  {
   "cell_type": "code",
   "execution_count": 392,
   "metadata": {
    "collapsed": false
   },
   "outputs": [],
   "source": [
    "b = plot_slopegraph(params, 'title', abs_vals=True, byval=False)\n",
    "plt.savefig('./slopegraph_byrank_source.svg')"
   ]
  }
 ],
 "metadata": {
  "kernelspec": {
   "display_name": "Python 2",
   "language": "python",
   "name": "python2"
  },
  "language_info": {
   "codemirror_mode": {
    "name": "ipython",
    "version": 2
   },
   "file_extension": ".py",
   "mimetype": "text/x-python",
   "name": "python",
   "nbconvert_exporter": "python",
   "pygments_lexer": "ipython2",
   "version": "2.7.10"
  }
 },
 "nbformat": 4,
 "nbformat_minor": 0
}
