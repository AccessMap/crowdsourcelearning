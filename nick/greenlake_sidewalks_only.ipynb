{
 "cells": [
  {
   "cell_type": "code",
   "execution_count": 1,
   "metadata": {
    "collapsed": false
   },
   "outputs": [],
   "source": [
    "import json\n",
    "import shapely.geometry"
   ]
  },
  {
   "cell_type": "markdown",
   "metadata": {},
   "source": [
    "Read in several-Mb-large sidewalks geojson"
   ]
  },
  {
   "cell_type": "code",
   "execution_count": 2,
   "metadata": {
    "collapsed": true
   },
   "outputs": [],
   "source": [
    "with open('../data/sidewalks_data.geojson') as f:\n",
    "    sidewalk_fc = json.load(f)"
   ]
  },
  {
   "cell_type": "markdown",
   "metadata": {},
   "source": [
    "Get just the sidewalks in the Greenlake commercial district"
   ]
  },
  {
   "cell_type": "code",
   "execution_count": 3,
   "metadata": {
    "collapsed": false
   },
   "outputs": [],
   "source": [
    "# West, South, East, North coordinates\n",
    "#greenlake_wsen = [-122.334073,47.674548,-122.319094,47.68183]\n",
    "greenlake_box = shapely.geometry.Polygon([[-122.334073402,47.6745484019],\n",
    "                                          [-122.334073402,47.6818298523],\n",
    "                                          [-122.3190943226,47.6818298523],\n",
    "                                          [-122.3190943226,47.6745484019],\n",
    "                                          [-122.334073402,47.6745484019]])\n",
    "\n",
    "greenlake_fc = {'type': 'FeatureCollection', 'features': []}\n",
    "for feature in sidewalk_fc['features']:\n",
    "    if greenlake_box.intersects(shapely.geometry.shape(feature['geometry'])):\n",
    "        greenlake_fc['features'].append(feature)"
   ]
  },
  {
   "cell_type": "markdown",
   "metadata": {},
   "source": [
    "Write to file"
   ]
  },
  {
   "cell_type": "code",
   "execution_count": 4,
   "metadata": {
    "collapsed": true
   },
   "outputs": [],
   "source": [
    "with open('../data/sidewalks_data_greenlake.geojson', 'w') as g:\n",
    "    json.dump(greenlake_fc, g)"
   ]
  },
  {
   "cell_type": "code",
   "execution_count": null,
   "metadata": {
    "collapsed": true
   },
   "outputs": [],
   "source": []
  }
 ],
 "metadata": {
  "kernelspec": {
   "display_name": "Python 2",
   "language": "python",
   "name": "python2"
  },
  "language_info": {
   "codemirror_mode": {
    "name": "ipython",
    "version": 2
   },
   "file_extension": ".py",
   "mimetype": "text/x-python",
   "name": "python",
   "nbconvert_exporter": "python",
   "pygments_lexer": "ipython2",
   "version": "2.7.10"
  }
 },
 "nbformat": 4,
 "nbformat_minor": 0
}
