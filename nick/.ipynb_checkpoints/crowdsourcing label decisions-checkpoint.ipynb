{
 "cells": [
  {
   "cell_type": "code",
   "execution_count": 1,
   "metadata": {
    "collapsed": true
   },
   "outputs": [],
   "source": [
    "import pandas as pd\n",
    "import matplotlib.pyplot as plt\n",
    "\n",
    "%matplotlib inline"
   ]
  },
  {
   "cell_type": "code",
   "execution_count": 2,
   "metadata": {
    "collapsed": true
   },
   "outputs": [],
   "source": [
    "data = pd.read_csv('./sw_classifications_20160527.csv')"
   ]
  },
  {
   "cell_type": "code",
   "execution_count": 3,
   "metadata": {
    "collapsed": false
   },
   "outputs": [
    {
     "data": {
      "text/html": [
       "<div>\n",
       "<table border=\"1\" class=\"dataframe\">\n",
       "  <thead>\n",
       "    <tr style=\"text-align: right;\">\n",
       "      <th></th>\n",
       "      <th>swi_id</th>\n",
       "      <th>swj_id</th>\n",
       "      <th>swi_geom</th>\n",
       "      <th>swj_geom</th>\n",
       "      <th>connected</th>\n",
       "      <th>username</th>\n",
       "      <th>timestamp</th>\n",
       "    </tr>\n",
       "  </thead>\n",
       "  <tbody>\n",
       "    <tr>\n",
       "      <th>0</th>\n",
       "      <td>309963</td>\n",
       "      <td>317735</td>\n",
       "      <td>010200000002000000FB3CEA9DC7935EC08902972360CC...</td>\n",
       "      <td>010200000002000000699C891DF0935EC060CB94877CCC...</td>\n",
       "      <td>f</td>\n",
       "      <td>Sumit</td>\n",
       "      <td>2016-05-24 02:29:15.820404+00</td>\n",
       "    </tr>\n",
       "    <tr>\n",
       "      <th>1</th>\n",
       "      <td>313312</td>\n",
       "      <td>313373</td>\n",
       "      <td>010200000002000000A2BCE99980925EC0D7DE25935DCC...</td>\n",
       "      <td>010200000002000000182B66EE92925EC00F6FA3F743CC...</td>\n",
       "      <td>t</td>\n",
       "      <td>Annie T</td>\n",
       "      <td>2016-05-26 03:27:50.283528+00</td>\n",
       "    </tr>\n",
       "    <tr>\n",
       "      <th>2</th>\n",
       "      <td>304826</td>\n",
       "      <td>305160</td>\n",
       "      <td>010200000002000000E39CA78061935EC0A92043F180D6...</td>\n",
       "      <td>010200000002000000CB14431650935EC00E56906ABAD6...</td>\n",
       "      <td>f</td>\n",
       "      <td>Annie T</td>\n",
       "      <td>2016-05-26 03:44:58.635554+00</td>\n",
       "    </tr>\n",
       "    <tr>\n",
       "      <th>3</th>\n",
       "      <td>306273</td>\n",
       "      <td>306938</td>\n",
       "      <td>010200000002000000C9C226BCB5955EC0568370BE61D8...</td>\n",
       "      <td>01020000000200000043E1C5F69E955EC058E9BFB429D8...</td>\n",
       "      <td>f</td>\n",
       "      <td>Anonymous</td>\n",
       "      <td>2016-05-26 04:24:03.041748+00</td>\n",
       "    </tr>\n",
       "    <tr>\n",
       "      <th>4</th>\n",
       "      <td>306373</td>\n",
       "      <td>306697</td>\n",
       "      <td>0102000000020000006F1D84D861925EC065187A35F8D6...</td>\n",
       "      <td>01020000000200000027997E7153925EC0A637A03531D7...</td>\n",
       "      <td>f</td>\n",
       "      <td>sophia</td>\n",
       "      <td>2016-05-26 05:12:59.299378+00</td>\n",
       "    </tr>\n",
       "  </tbody>\n",
       "</table>\n",
       "</div>"
      ],
      "text/plain": [
       "   swi_id  swj_id                                           swi_geom  \\\n",
       "0  309963  317735  010200000002000000FB3CEA9DC7935EC08902972360CC...   \n",
       "1  313312  313373  010200000002000000A2BCE99980925EC0D7DE25935DCC...   \n",
       "2  304826  305160  010200000002000000E39CA78061935EC0A92043F180D6...   \n",
       "3  306273  306938  010200000002000000C9C226BCB5955EC0568370BE61D8...   \n",
       "4  306373  306697  0102000000020000006F1D84D861925EC065187A35F8D6...   \n",
       "\n",
       "                                            swj_geom connected   username  \\\n",
       "0  010200000002000000699C891DF0935EC060CB94877CCC...         f      Sumit   \n",
       "1  010200000002000000182B66EE92925EC00F6FA3F743CC...         t    Annie T   \n",
       "2  010200000002000000CB14431650935EC00E56906ABAD6...         f    Annie T   \n",
       "3  01020000000200000043E1C5F69E955EC058E9BFB429D8...         f  Anonymous   \n",
       "4  01020000000200000027997E7153925EC0A637A03531D7...         f     sophia   \n",
       "\n",
       "                       timestamp  \n",
       "0  2016-05-24 02:29:15.820404+00  \n",
       "1  2016-05-26 03:27:50.283528+00  \n",
       "2  2016-05-26 03:44:58.635554+00  \n",
       "3  2016-05-26 04:24:03.041748+00  \n",
       "4  2016-05-26 05:12:59.299378+00  "
      ]
     },
     "execution_count": 3,
     "metadata": {},
     "output_type": "execute_result"
    }
   ],
   "source": [
    "data.head()"
   ]
  },
  {
   "cell_type": "markdown",
   "metadata": {},
   "source": [
    "We want to only consider sidewalk pairs that have at least 3 labels."
   ]
  },
  {
   "cell_type": "code",
   "execution_count": 5,
   "metadata": {
    "collapsed": false
   },
   "outputs": [
    {
     "name": "stdout",
     "output_type": "stream",
     "text": [
      "Number of unique sidewalk pair labels: 11132\n",
      "Number of labels with 3 or more responses: 1947\n",
      "Number of labels with 2 or more responses: 1971\n"
     ]
    }
   ],
   "source": [
    "gb = data.groupby(['swi_id', 'swj_id'])\n",
    "groups = gb.groups\n",
    "more_3 = {key: value for key, value in groups.iteritems() if len(value) >= 3}\n",
    "more_2 = {key: value for key, value in groups.iteritems() if len(value) >= 2}\n",
    "print 'Number of unique sidewalk pair labels: {}'.format(len(groups))\n",
    "print 'Number of labels with 3 or more responses: {}'.format(len(more_3))\n",
    "print 'Number of labels with 2 or more responses: {}'.format(len(more_2))"
   ]
  },
  {
   "cell_type": "markdown",
   "metadata": {},
   "source": [
    "The groups are a dictionary of group element + index. To get to the actual labels, we can just grab the row at that index from our data frame."
   ]
  },
  {
   "cell_type": "code",
   "execution_count": 6,
   "metadata": {
    "collapsed": false
   },
   "outputs": [
    {
     "data": {
      "text/plain": [
       "[((325902, 326474), [6366, 13072, 15004]),\n",
       " ((295084, 298785), [9498, 12565, 12655]),\n",
       " ((326184, 326185), [826, 11387, 11430])]"
      ]
     },
     "execution_count": 6,
     "metadata": {},
     "output_type": "execute_result"
    }
   ],
   "source": [
    "more_2.items()[:3]"
   ]
  },
  {
   "cell_type": "code",
   "execution_count": 7,
   "metadata": {
    "collapsed": false
   },
   "outputs": [],
   "source": [
    "def label_fraction(sw_labelset):\n",
    "    '''\n",
    "    :param sw_labelset: List of 't' (True) or 'f' (False) labels for a single sidewalk pair.\n",
    "    :type sw_labelset: list\n",
    "    \n",
    "    '''\n",
    "    tf = data.iloc[sw_labelset, :]['connected']\n",
    "    fraction_t = sum([1 for label in tf if label == 't']) / float(len(sw_labelset))\n",
    "    \n",
    "    return fraction_t\n",
    "\n",
    "def decide_label(fraction):\n",
    "    '''Decide how to label a given sidewalk pair given multiple responses.'''\n",
    "    # If majority is 't', choose 't'\n",
    "    if fraction > 0.5:\n",
    "        return 't'\n",
    "    # If majority is 'f', choose 'f'\n",
    "    elif fraction < 0.5:\n",
    "        return 'f'\n",
    "    # If even split, ignore entirely for now\n",
    "    else:\n",
    "        return None"
   ]
  },
  {
   "cell_type": "code",
   "execution_count": 9,
   "metadata": {
    "collapsed": false
   },
   "outputs": [
    {
     "data": {
      "text/html": [
       "<div>\n",
       "<table border=\"1\" class=\"dataframe\">\n",
       "  <thead>\n",
       "    <tr style=\"text-align: right;\">\n",
       "      <th></th>\n",
       "      <th>swi_id</th>\n",
       "      <th>swj_id</th>\n",
       "      <th>connected</th>\n",
       "    </tr>\n",
       "  </thead>\n",
       "  <tbody>\n",
       "    <tr>\n",
       "      <th>6366</th>\n",
       "      <td>325902</td>\n",
       "      <td>326474</td>\n",
       "      <td>f</td>\n",
       "    </tr>\n",
       "    <tr>\n",
       "      <th>9498</th>\n",
       "      <td>295084</td>\n",
       "      <td>298785</td>\n",
       "      <td>t</td>\n",
       "    </tr>\n",
       "    <tr>\n",
       "      <th>826</th>\n",
       "      <td>326184</td>\n",
       "      <td>326185</td>\n",
       "      <td>f</td>\n",
       "    </tr>\n",
       "    <tr>\n",
       "      <th>2638</th>\n",
       "      <td>297773</td>\n",
       "      <td>303110</td>\n",
       "      <td>f</td>\n",
       "    </tr>\n",
       "    <tr>\n",
       "      <th>2015</th>\n",
       "      <td>322238</td>\n",
       "      <td>330093</td>\n",
       "      <td>f</td>\n",
       "    </tr>\n",
       "  </tbody>\n",
       "</table>\n",
       "</div>"
      ],
      "text/plain": [
       "      swi_id  swj_id connected\n",
       "6366  325902  326474         f\n",
       "9498  295084  298785         t\n",
       "826   326184  326185         f\n",
       "2638  297773  303110         f\n",
       "2015  322238  330093         f"
      ]
     },
     "execution_count": 9,
     "metadata": {},
     "output_type": "execute_result"
    }
   ],
   "source": [
    "fractions2 = []\n",
    "labels2 = []\n",
    "for key, value in more_2.iteritems():\n",
    "    fraction = label_fraction(value)\n",
    "    label = decide_label(fraction)\n",
    "    if label is not None:\n",
    "        newrow = data.ix[value[0],['swi_id', 'swj_id', 'connected']]\n",
    "        newrow['connected'] = label\n",
    "        labels2.append(newrow)\n",
    "        fractions2.append(fraction)\n",
    "\n",
    "labels2 = pd.DataFrame(labels2)\n",
    "labels2.head()"
   ]
  },
  {
   "cell_type": "code",
   "execution_count": 11,
   "metadata": {
    "collapsed": false
   },
   "outputs": [
    {
     "data": {
      "text/html": [
       "<div>\n",
       "<table border=\"1\" class=\"dataframe\">\n",
       "  <thead>\n",
       "    <tr style=\"text-align: right;\">\n",
       "      <th></th>\n",
       "      <th>swi_id</th>\n",
       "      <th>swj_id</th>\n",
       "      <th>connected</th>\n",
       "    </tr>\n",
       "  </thead>\n",
       "  <tbody>\n",
       "    <tr>\n",
       "      <th>6366</th>\n",
       "      <td>325902</td>\n",
       "      <td>326474</td>\n",
       "      <td>f</td>\n",
       "    </tr>\n",
       "    <tr>\n",
       "      <th>9498</th>\n",
       "      <td>295084</td>\n",
       "      <td>298785</td>\n",
       "      <td>t</td>\n",
       "    </tr>\n",
       "    <tr>\n",
       "      <th>826</th>\n",
       "      <td>326184</td>\n",
       "      <td>326185</td>\n",
       "      <td>f</td>\n",
       "    </tr>\n",
       "    <tr>\n",
       "      <th>2638</th>\n",
       "      <td>297773</td>\n",
       "      <td>303110</td>\n",
       "      <td>f</td>\n",
       "    </tr>\n",
       "    <tr>\n",
       "      <th>2015</th>\n",
       "      <td>322238</td>\n",
       "      <td>330093</td>\n",
       "      <td>f</td>\n",
       "    </tr>\n",
       "  </tbody>\n",
       "</table>\n",
       "</div>"
      ],
      "text/plain": [
       "      swi_id  swj_id connected\n",
       "6366  325902  326474         f\n",
       "9498  295084  298785         t\n",
       "826   326184  326185         f\n",
       "2638  297773  303110         f\n",
       "2015  322238  330093         f"
      ]
     },
     "execution_count": 11,
     "metadata": {},
     "output_type": "execute_result"
    }
   ],
   "source": [
    "fractions3 = []\n",
    "labels3 = []\n",
    "for key, value in more_3.iteritems():\n",
    "    fraction = label_fraction(value)\n",
    "    label = decide_label(fraction)\n",
    "    if label is not None:\n",
    "        newrow = data.ix[value[0],['swi_id', 'swj_id', 'connected']]\n",
    "        newrow['connected'] = label\n",
    "        labels3.append(newrow)\n",
    "        fractions3.append(fraction)\n",
    "\n",
    "labels3 = pd.DataFrame(labels3)\n",
    "labels3.head()"
   ]
  },
  {
   "cell_type": "code",
   "execution_count": 12,
   "metadata": {
    "collapsed": false
   },
   "outputs": [
    {
     "data": {
      "text/plain": [
       "count     1969\n",
       "unique       2\n",
       "top          f\n",
       "freq      1533\n",
       "Name: connected, dtype: object"
      ]
     },
     "execution_count": 12,
     "metadata": {},
     "output_type": "execute_result"
    }
   ],
   "source": [
    "labels2['connected'].describe()"
   ]
  },
  {
   "cell_type": "code",
   "execution_count": 13,
   "metadata": {
    "collapsed": false
   },
   "outputs": [
    {
     "data": {
      "text/plain": [
       "count     1946\n",
       "unique       2\n",
       "top          f\n",
       "freq      1514\n",
       "Name: connected, dtype: object"
      ]
     },
     "execution_count": 13,
     "metadata": {},
     "output_type": "execute_result"
    }
   ],
   "source": [
    "labels3['connected'].describe()"
   ]
  },
  {
   "cell_type": "code",
   "execution_count": 14,
   "metadata": {
    "collapsed": false
   },
   "outputs": [
    {
     "data": {
      "text/plain": [
       "(array([ 1463.,     0.,     0.,    51.,     0.,     0.,    46.,     0.,\n",
       "            0.,   386.]),\n",
       " array([ 0. ,  0.1,  0.2,  0.3,  0.4,  0.5,  0.6,  0.7,  0.8,  0.9,  1. ]),\n",
       " <a list of 10 Patch objects>)"
      ]
     },
     "execution_count": 14,
     "metadata": {},
     "output_type": "execute_result"
    },
    {
     "data": {
      "image/png": "[encoded data removed]",
      "text/plain": [
       "<matplotlib.figure.Figure at 0x7f114ca8f710>"
      ]
     },
     "metadata": {},
     "output_type": "display_data"
    }
   ],
   "source": [
    "plt.hist(fractions3)"
   ]
  },
  {
   "cell_type": "code",
   "execution_count": 15,
   "metadata": {
    "collapsed": false
   },
   "outputs": [
    {
     "data": {
      "text/plain": [
       "0.04984583761562179"
      ]
     },
     "execution_count": 15,
     "metadata": {},
     "output_type": "execute_result"
    }
   ],
   "source": [
    "uncontested = [f for f in fractions3 if f != 0 and f != 1]\n",
    "len(uncontested) / float(len(fractions3))"
   ]
  },
  {
   "cell_type": "markdown",
   "metadata": {},
   "source": [
    "'labels2' contains all majority-rule labels that have 2 or more responses. 'labels3' contains all majority-rule labels that have 3 or more responses."
   ]
  },
  {
   "cell_type": "markdown",
   "metadata": {
    "collapsed": true
   },
   "source": [
    "### Gini coefficient\n",
    "\n",
    "We want to use the Gini coefficient to measure the distribution of user responses - i.e., do we have a few power users providing all the data, or evenly-distributed, or something in between? The Gini coefficient will give a near-0 value for equally-distributed work and a near-1 value for putting allt he work on just 1 user out of many.\n",
    "\n",
    "The Gini coefficient was historically used on an income distribution over a population (it's an economics thing). It therefore expects 1-dimensional data. In our case, that 1-D data will be total number of submissions per user."
   ]
  },
  {
   "cell_type": "code",
   "execution_count": 18,
   "metadata": {
    "collapsed": false
   },
   "outputs": [
    {
     "data": {
      "text/plain": [
       "username\n",
       "Annie T        258\n",
       "Anonymous      266\n",
       "Blue            11\n",
       "Ladan          604\n",
       "Lissi Sevao     21\n",
       "Name: connected, dtype: int64"
      ]
     },
     "execution_count": 18,
     "metadata": {},
     "output_type": "execute_result"
    }
   ],
   "source": [
    "user_counts = data.groupby(['username']).count()['connected']\n",
    "user_counts.head()"
   ]
  },
  {
   "cell_type": "code",
   "execution_count": 46,
   "metadata": {
    "collapsed": true
   },
   "outputs": [],
   "source": [
    "def gini_estimate(value_list):\n",
    "    '''Calculates the Gini coefficient for a 1D numerical dataset. \n",
    "    Rather than using continuous Lorenz curve, uses linear interpolation with\n",
    "    sorted discrete values.'''\n",
    "    \n",
    "    values = sorted(value_list)\n",
    "    n = len(values)\n",
    "    cum_height = 0\n",
    "    cum_area = 0\n",
    "    \n",
    "    for value in values:\n",
    "        cum_area += cum_height + (value - cum_height) / 2\n",
    "        cum_height += value\n",
    "        \n",
    "    line_equality_area = cum_height * n / 2.\n",
    "    \n",
    "    print cum_area\n",
    "    print line_equality_area\n",
    "    \n",
    "    return (line_equality_area - cum_area) / line_equality_area"
   ]
  },
  {
   "cell_type": "code",
   "execution_count": 47,
   "metadata": {
    "collapsed": false
   },
   "outputs": [
    {
     "name": "stdout",
     "output_type": "stream",
     "text": [
      "40031\n",
      "218486.0\n"
     ]
    },
    {
     "data": {
      "text/plain": [
       "0.81678002251860526"
      ]
     },
     "execution_count": 47,
     "metadata": {},
     "output_type": "execute_result"
    }
   ],
   "source": [
    "gini_estimate(user_counts)"
   ]
  },
  {
   "cell_type": "code",
   "execution_count": 49,
   "metadata": {
    "collapsed": false
   },
   "outputs": [
    {
     "data": {
      "text/plain": [
       "username\n",
       "Annie T             258\n",
       "Anonymous           266\n",
       "Blue                 11\n",
       "Ladan               604\n",
       "Lissi Sevao          21\n",
       "Maria R.             56\n",
       "Sophia             3347\n",
       "Sophs                 1\n",
       "Stacey             1019\n",
       "Stakeesha            18\n",
       "Sumit               774\n",
       "Tracy               129\n",
       "VS                  301\n",
       "Vero                300\n",
       "ahmedq              162\n",
       "arjunkhakhar        251\n",
       "baryshev            222\n",
       "caspian             584\n",
       "chenwei1326          83\n",
       "ladanmoz            213\n",
       "lmbrettner          197\n",
       "nbolten             204\n",
       "randolph380          32\n",
       "sifang              214\n",
       "sophia              507\n",
       "staceysunde        4606\n",
       "sumitmukherjee2     370\n",
       "sundipta            160\n",
       "yaoyuyang           158\n",
       "Name: connected, dtype: int64"
      ]
     },
     "execution_count": 49,
     "metadata": {},
     "output_type": "execute_result"
    }
   ],
   "source": [
    "user_counts"
   ]
  },
  {
   "cell_type": "code",
   "execution_count": 50,
   "metadata": {
    "collapsed": false
   },
   "outputs": [
    {
     "data": {
      "text/plain": [
       "(15068, 7)"
      ]
     },
     "execution_count": 50,
     "metadata": {},
     "output_type": "execute_result"
    }
   ],
   "source": [
    "data.shape"
   ]
  },
  {
   "cell_type": "code",
   "execution_count": 51,
   "metadata": {
    "collapsed": false
   },
   "outputs": [
    {
     "name": "stdout",
     "output_type": "stream",
     "text": [
      "37373\n",
      "207228.0\n"
     ]
    },
    {
     "data": {
      "text/plain": [
       "0.8196527496284286"
      ]
     },
     "execution_count": 51,
     "metadata": {},
     "output_type": "execute_result"
    }
   ],
   "source": [
    "user_counts2 = data[data['username'] != 'Anonymous'].groupby(['username']).count()['connected']\n",
    "gini_estimate(user_counts2)"
   ]
  },
  {
   "cell_type": "code",
   "execution_count": 52,
   "metadata": {
    "collapsed": false
   },
   "outputs": [
    {
     "data": {
      "text/html": [
       "<div>\n",
       "<table border=\"1\" class=\"dataframe\">\n",
       "  <thead>\n",
       "    <tr style=\"text-align: right;\">\n",
       "      <th></th>\n",
       "      <th>swi_id</th>\n",
       "      <th>swj_id</th>\n",
       "      <th>connected</th>\n",
       "    </tr>\n",
       "  </thead>\n",
       "  <tbody>\n",
       "    <tr>\n",
       "      <th>6366</th>\n",
       "      <td>325902</td>\n",
       "      <td>326474</td>\n",
       "      <td>f</td>\n",
       "    </tr>\n",
       "    <tr>\n",
       "      <th>9498</th>\n",
       "      <td>295084</td>\n",
       "      <td>298785</td>\n",
       "      <td>t</td>\n",
       "    </tr>\n",
       "    <tr>\n",
       "      <th>826</th>\n",
       "      <td>326184</td>\n",
       "      <td>326185</td>\n",
       "      <td>f</td>\n",
       "    </tr>\n",
       "    <tr>\n",
       "      <th>2638</th>\n",
       "      <td>297773</td>\n",
       "      <td>303110</td>\n",
       "      <td>f</td>\n",
       "    </tr>\n",
       "    <tr>\n",
       "      <th>2015</th>\n",
       "      <td>322238</td>\n",
       "      <td>330093</td>\n",
       "      <td>f</td>\n",
       "    </tr>\n",
       "    <tr>\n",
       "      <th>10274</th>\n",
       "      <td>319771</td>\n",
       "      <td>320091</td>\n",
       "      <td>t</td>\n",
       "    </tr>\n",
       "    <tr>\n",
       "      <th>19</th>\n",
       "      <td>312082</td>\n",
       "      <td>312687</td>\n",
       "      <td>f</td>\n",
       "    </tr>\n",
       "    <tr>\n",
       "      <th>7029</th>\n",
       "      <td>293176</td>\n",
       "      <td>293179</td>\n",
       "      <td>f</td>\n",
       "    </tr>\n",
       "    <tr>\n",
       "      <th>12113</th>\n",
       "      <td>292576</td>\n",
       "      <td>295367</td>\n",
       "      <td>f</td>\n",
       "    </tr>\n",
       "    <tr>\n",
       "      <th>1454</th>\n",
       "      <td>295705</td>\n",
       "      <td>295706</td>\n",
       "      <td>f</td>\n",
       "    </tr>\n",
       "    <tr>\n",
       "      <th>4348</th>\n",
       "      <td>294545</td>\n",
       "      <td>296185</td>\n",
       "      <td>t</td>\n",
       "    </tr>\n",
       "    <tr>\n",
       "      <th>7073</th>\n",
       "      <td>324225</td>\n",
       "      <td>332510</td>\n",
       "      <td>f</td>\n",
       "    </tr>\n",
       "    <tr>\n",
       "      <th>4858</th>\n",
       "      <td>304752</td>\n",
       "      <td>304753</td>\n",
       "      <td>f</td>\n",
       "    </tr>\n",
       "    <tr>\n",
       "      <th>6780</th>\n",
       "      <td>292714</td>\n",
       "      <td>292794</td>\n",
       "      <td>t</td>\n",
       "    </tr>\n",
       "    <tr>\n",
       "      <th>4280</th>\n",
       "      <td>289483</td>\n",
       "      <td>297458</td>\n",
       "      <td>f</td>\n",
       "    </tr>\n",
       "    <tr>\n",
       "      <th>7504</th>\n",
       "      <td>290405</td>\n",
       "      <td>331910</td>\n",
       "      <td>f</td>\n",
       "    </tr>\n",
       "    <tr>\n",
       "      <th>5431</th>\n",
       "      <td>293891</td>\n",
       "      <td>300926</td>\n",
       "      <td>t</td>\n",
       "    </tr>\n",
       "    <tr>\n",
       "      <th>3030</th>\n",
       "      <td>306755</td>\n",
       "      <td>307040</td>\n",
       "      <td>f</td>\n",
       "    </tr>\n",
       "    <tr>\n",
       "      <th>16</th>\n",
       "      <td>300735</td>\n",
       "      <td>301344</td>\n",
       "      <td>f</td>\n",
       "    </tr>\n",
       "    <tr>\n",
       "      <th>6558</th>\n",
       "      <td>295472</td>\n",
       "      <td>295474</td>\n",
       "      <td>f</td>\n",
       "    </tr>\n",
       "    <tr>\n",
       "      <th>8999</th>\n",
       "      <td>301106</td>\n",
       "      <td>301443</td>\n",
       "      <td>f</td>\n",
       "    </tr>\n",
       "    <tr>\n",
       "      <th>9294</th>\n",
       "      <td>316621</td>\n",
       "      <td>316877</td>\n",
       "      <td>f</td>\n",
       "    </tr>\n",
       "    <tr>\n",
       "      <th>4646</th>\n",
       "      <td>297645</td>\n",
       "      <td>328506</td>\n",
       "      <td>f</td>\n",
       "    </tr>\n",
       "    <tr>\n",
       "      <th>4081</th>\n",
       "      <td>299174</td>\n",
       "      <td>299509</td>\n",
       "      <td>f</td>\n",
       "    </tr>\n",
       "    <tr>\n",
       "      <th>3460</th>\n",
       "      <td>309013</td>\n",
       "      <td>311843</td>\n",
       "      <td>t</td>\n",
       "    </tr>\n",
       "    <tr>\n",
       "      <th>2670</th>\n",
       "      <td>290007</td>\n",
       "      <td>320660</td>\n",
       "      <td>f</td>\n",
       "    </tr>\n",
       "    <tr>\n",
       "      <th>6497</th>\n",
       "      <td>314833</td>\n",
       "      <td>315445</td>\n",
       "      <td>f</td>\n",
       "    </tr>\n",
       "    <tr>\n",
       "      <th>6995</th>\n",
       "      <td>325593</td>\n",
       "      <td>325963</td>\n",
       "      <td>t</td>\n",
       "    </tr>\n",
       "    <tr>\n",
       "      <th>6957</th>\n",
       "      <td>316784</td>\n",
       "      <td>316787</td>\n",
       "      <td>f</td>\n",
       "    </tr>\n",
       "    <tr>\n",
       "      <th>7531</th>\n",
       "      <td>308908</td>\n",
       "      <td>308910</td>\n",
       "      <td>f</td>\n",
       "    </tr>\n",
       "    <tr>\n",
       "      <th>...</th>\n",
       "      <td>...</td>\n",
       "      <td>...</td>\n",
       "      <td>...</td>\n",
       "    </tr>\n",
       "    <tr>\n",
       "      <th>12651</th>\n",
       "      <td>309649</td>\n",
       "      <td>309997</td>\n",
       "      <td>f</td>\n",
       "    </tr>\n",
       "    <tr>\n",
       "      <th>430</th>\n",
       "      <td>315371</td>\n",
       "      <td>315724</td>\n",
       "      <td>t</td>\n",
       "    </tr>\n",
       "    <tr>\n",
       "      <th>7881</th>\n",
       "      <td>305680</td>\n",
       "      <td>334034</td>\n",
       "      <td>t</td>\n",
       "    </tr>\n",
       "    <tr>\n",
       "      <th>698</th>\n",
       "      <td>304475</td>\n",
       "      <td>304791</td>\n",
       "      <td>f</td>\n",
       "    </tr>\n",
       "    <tr>\n",
       "      <th>123</th>\n",
       "      <td>313791</td>\n",
       "      <td>320932</td>\n",
       "      <td>f</td>\n",
       "    </tr>\n",
       "    <tr>\n",
       "      <th>2231</th>\n",
       "      <td>321896</td>\n",
       "      <td>321897</td>\n",
       "      <td>f</td>\n",
       "    </tr>\n",
       "    <tr>\n",
       "      <th>8315</th>\n",
       "      <td>291924</td>\n",
       "      <td>324352</td>\n",
       "      <td>f</td>\n",
       "    </tr>\n",
       "    <tr>\n",
       "      <th>12348</th>\n",
       "      <td>320831</td>\n",
       "      <td>320832</td>\n",
       "      <td>f</td>\n",
       "    </tr>\n",
       "    <tr>\n",
       "      <th>3742</th>\n",
       "      <td>297542</td>\n",
       "      <td>297543</td>\n",
       "      <td>f</td>\n",
       "    </tr>\n",
       "    <tr>\n",
       "      <th>7605</th>\n",
       "      <td>301708</td>\n",
       "      <td>301709</td>\n",
       "      <td>f</td>\n",
       "    </tr>\n",
       "    <tr>\n",
       "      <th>4080</th>\n",
       "      <td>293009</td>\n",
       "      <td>296450</td>\n",
       "      <td>t</td>\n",
       "    </tr>\n",
       "    <tr>\n",
       "      <th>231</th>\n",
       "      <td>308371</td>\n",
       "      <td>310242</td>\n",
       "      <td>f</td>\n",
       "    </tr>\n",
       "    <tr>\n",
       "      <th>1211</th>\n",
       "      <td>325211</td>\n",
       "      <td>326692</td>\n",
       "      <td>f</td>\n",
       "    </tr>\n",
       "    <tr>\n",
       "      <th>2803</th>\n",
       "      <td>289621</td>\n",
       "      <td>298247</td>\n",
       "      <td>f</td>\n",
       "    </tr>\n",
       "    <tr>\n",
       "      <th>6846</th>\n",
       "      <td>308630</td>\n",
       "      <td>325512</td>\n",
       "      <td>f</td>\n",
       "    </tr>\n",
       "    <tr>\n",
       "      <th>2591</th>\n",
       "      <td>312865</td>\n",
       "      <td>312867</td>\n",
       "      <td>f</td>\n",
       "    </tr>\n",
       "    <tr>\n",
       "      <th>1298</th>\n",
       "      <td>304835</td>\n",
       "      <td>308259</td>\n",
       "      <td>f</td>\n",
       "    </tr>\n",
       "    <tr>\n",
       "      <th>101</th>\n",
       "      <td>295767</td>\n",
       "      <td>331210</td>\n",
       "      <td>t</td>\n",
       "    </tr>\n",
       "    <tr>\n",
       "      <th>39</th>\n",
       "      <td>289029</td>\n",
       "      <td>310249</td>\n",
       "      <td>f</td>\n",
       "    </tr>\n",
       "    <tr>\n",
       "      <th>1208</th>\n",
       "      <td>308592</td>\n",
       "      <td>312634</td>\n",
       "      <td>f</td>\n",
       "    </tr>\n",
       "    <tr>\n",
       "      <th>2326</th>\n",
       "      <td>320716</td>\n",
       "      <td>322026</td>\n",
       "      <td>t</td>\n",
       "    </tr>\n",
       "    <tr>\n",
       "      <th>5766</th>\n",
       "      <td>312151</td>\n",
       "      <td>312152</td>\n",
       "      <td>f</td>\n",
       "    </tr>\n",
       "    <tr>\n",
       "      <th>795</th>\n",
       "      <td>310192</td>\n",
       "      <td>310193</td>\n",
       "      <td>f</td>\n",
       "    </tr>\n",
       "    <tr>\n",
       "      <th>5896</th>\n",
       "      <td>310614</td>\n",
       "      <td>310617</td>\n",
       "      <td>f</td>\n",
       "    </tr>\n",
       "    <tr>\n",
       "      <th>9400</th>\n",
       "      <td>307795</td>\n",
       "      <td>331506</td>\n",
       "      <td>t</td>\n",
       "    </tr>\n",
       "    <tr>\n",
       "      <th>3620</th>\n",
       "      <td>291790</td>\n",
       "      <td>291792</td>\n",
       "      <td>t</td>\n",
       "    </tr>\n",
       "    <tr>\n",
       "      <th>771</th>\n",
       "      <td>310542</td>\n",
       "      <td>317679</td>\n",
       "      <td>f</td>\n",
       "    </tr>\n",
       "    <tr>\n",
       "      <th>7628</th>\n",
       "      <td>326193</td>\n",
       "      <td>327129</td>\n",
       "      <td>f</td>\n",
       "    </tr>\n",
       "    <tr>\n",
       "      <th>7252</th>\n",
       "      <td>304557</td>\n",
       "      <td>305140</td>\n",
       "      <td>f</td>\n",
       "    </tr>\n",
       "    <tr>\n",
       "      <th>6397</th>\n",
       "      <td>330468</td>\n",
       "      <td>331979</td>\n",
       "      <td>f</td>\n",
       "    </tr>\n",
       "  </tbody>\n",
       "</table>\n",
       "<p>1969 rows × 3 columns</p>\n",
       "</div>"
      ],
      "text/plain": [
       "       swi_id  swj_id connected\n",
       "6366   325902  326474         f\n",
       "9498   295084  298785         t\n",
       "826    326184  326185         f\n",
       "2638   297773  303110         f\n",
       "2015   322238  330093         f\n",
       "10274  319771  320091         t\n",
       "19     312082  312687         f\n",
       "7029   293176  293179         f\n",
       "12113  292576  295367         f\n",
       "1454   295705  295706         f\n",
       "4348   294545  296185         t\n",
       "7073   324225  332510         f\n",
       "4858   304752  304753         f\n",
       "6780   292714  292794         t\n",
       "4280   289483  297458         f\n",
       "7504   290405  331910         f\n",
       "5431   293891  300926         t\n",
       "3030   306755  307040         f\n",
       "16     300735  301344         f\n",
       "6558   295472  295474         f\n",
       "8999   301106  301443         f\n",
       "9294   316621  316877         f\n",
       "4646   297645  328506         f\n",
       "4081   299174  299509         f\n",
       "3460   309013  311843         t\n",
       "2670   290007  320660         f\n",
       "6497   314833  315445         f\n",
       "6995   325593  325963         t\n",
       "6957   316784  316787         f\n",
       "7531   308908  308910         f\n",
       "...       ...     ...       ...\n",
       "12651  309649  309997         f\n",
       "430    315371  315724         t\n",
       "7881   305680  334034         t\n",
       "698    304475  304791         f\n",
       "123    313791  320932         f\n",
       "2231   321896  321897         f\n",
       "8315   291924  324352         f\n",
       "12348  320831  320832         f\n",
       "3742   297542  297543         f\n",
       "7605   301708  301709         f\n",
       "4080   293009  296450         t\n",
       "231    308371  310242         f\n",
       "1211   325211  326692         f\n",
       "2803   289621  298247         f\n",
       "6846   308630  325512         f\n",
       "2591   312865  312867         f\n",
       "1298   304835  308259         f\n",
       "101    295767  331210         t\n",
       "39     289029  310249         f\n",
       "1208   308592  312634         f\n",
       "2326   320716  322026         t\n",
       "5766   312151  312152         f\n",
       "795    310192  310193         f\n",
       "5896   310614  310617         f\n",
       "9400   307795  331506         t\n",
       "3620   291790  291792         t\n",
       "771    310542  317679         f\n",
       "7628   326193  327129         f\n",
       "7252   304557  305140         f\n",
       "6397   330468  331979         f\n",
       "\n",
       "[1969 rows x 3 columns]"
      ]
     },
     "execution_count": 52,
     "metadata": {},
     "output_type": "execute_result"
    }
   ],
   "source": [
    "labels2"
   ]
  },
  {
   "cell_type": "markdown",
   "metadata": {},
   "source": [
    "### Time-based analysis of user responses\n",
    "\n",
    "Users may provide more or less accurate responses based on temporal behaviors. For example, a user that is rapidly answering questions may make more mistakes than one who is answering slowly, as it may indicate how careful the user is being. Or for another example, a user that has labeled 'No' several times in a row may accidentally click 'No' in a case that is clearly 'Yes', just because they're \"in the zone\".\n",
    "\n",
    "To answer any of these questions, we should first extract the responses that we consider to be false positives and false negatives. We can only extract this information from the triplicate response dataset, so we may simply be limited by having too small of a dataset."
   ]
  },
  {
   "cell_type": "code",
   "execution_count": 171,
   "metadata": {
    "collapsed": false
   },
   "outputs": [
    {
     "data": {
      "text/plain": [
       "(46, 11)"
      ]
     },
     "execution_count": 171,
     "metadata": {},
     "output_type": "execute_result"
    }
   ],
   "source": [
    "# We want to extract the rows in the data that say 'false' when the consensus was ruled 'true'\n",
    "data_f = data[data['connected'] == 'f']\n",
    "labels3_t = labels3[labels3['connected'] == 't']\n",
    "\n",
    "# False negatives\n",
    "data_fn = pd.merge(data_f, labels3_t, how='inner', on=['swi_id', 'swj_id'])\n",
    "data_fn.shape"
   ]
  },
  {
   "cell_type": "markdown",
   "metadata": {},
   "source": [
    "There are only 46 false positives, so we may be limited in how much meaning we can extract.\n",
    "\n",
    "Because the frequency calculation will require session detection of some kind (if two users have the same speed of labeling but one took a much longer break between sessions, they'll have very different means), we're going to skip it for now.\n",
    "\n",
    "What we can do more easily, however, is look at how many previous answers in a row were 'false' for the false negatives, per-user."
   ]
  },
  {
   "cell_type": "code",
   "execution_count": 141,
   "metadata": {
    "collapsed": false
   },
   "outputs": [],
   "source": [
    "data['f_repeat'] = 0\n",
    "\n",
    "for user in pd.Categorical(data['username']).categories:\n",
    "    user_responses = data[data['username'] == user].sort_values(by='timestamp')\n",
    "    user_reindexed = user_responses.reset_index()\n",
    "    for i in range(user_reindexed.shape[0]):\n",
    "        cur_index = i\n",
    "        count = 0\n",
    "        while cur_index:\n",
    "            cur_index -= 1\n",
    "            if user_reindexed.ix[cur_index, 'connected'] == 't':\n",
    "                break\n",
    "            else:\n",
    "                count += 1\n",
    "        orig_index = user_reindexed.ix[i, 'index']\n",
    "        data.ix[orig_index, 'f_repeat'] = count"
   ]
  },
  {
   "cell_type": "code",
   "execution_count": 151,
   "metadata": {
    "collapsed": false
   },
   "outputs": [
    {
     "data": {
      "text/plain": [
       "(46, 10)"
      ]
     },
     "execution_count": 151,
     "metadata": {},
     "output_type": "execute_result"
    }
   ],
   "source": [
    "data['false_negative'] = False\n",
    "data.ix[data_fn.index, 'false_negative'] = True\n",
    "data[data['false_negative'] == True].shape"
   ]
  },
  {
   "cell_type": "code",
   "execution_count": 170,
   "metadata": {
    "collapsed": false
   },
   "outputs": [
    {
     "data": {
      "image/png": "[encoded data removed]",
      "text/plain": [
       "<matplotlib.figure.Figure at 0x7f1143d36a50>"
      ]
     },
     "metadata": {},
     "output_type": "display_data"
    }
   ],
   "source": [
    "fns = data[data['false_negative'] == True]['f_repeat']\n",
    "not_fns = data[data['false_negative'] != True]['f_repeat']\n",
    "\n",
    "plt.hist(fns, normed=True, bins=range(fns.min(), fns.max() + 1, 1), alpha=0.5)\n",
    "plt.hist(not_fns, normed=True, bins=range(not_fns.min(), not_fns.max() + 1, 1), alpha=0.5)\n",
    "plt.xlabel('Preceding False Answers')\n",
    "plt.ylabel('Relative Frequency');"
   ]
  },
  {
   "cell_type": "code",
   "execution_count": null,
   "metadata": {
    "collapsed": true
   },
   "outputs": [],
   "source": []
  }
 ],
 "metadata": {
  "kernelspec": {
   "display_name": "Python 2",
   "language": "python",
   "name": "python2"
  },
  "language_info": {
   "codemirror_mode": {
    "name": "ipython",
    "version": 2
   },
   "file_extension": ".py",
   "mimetype": "text/x-python",
   "name": "python",
   "nbconvert_exporter": "python",
   "pygments_lexer": "ipython2",
   "version": "2.7.11+"
  }
 },
 "nbformat": 4,
 "nbformat_minor": 0
}
