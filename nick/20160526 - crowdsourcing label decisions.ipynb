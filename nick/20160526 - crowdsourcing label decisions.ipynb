{
 "cells": [
  {
   "cell_type": "code",
   "execution_count": 96,
   "metadata": {
    "collapsed": true
   },
   "outputs": [],
   "source": [
    "import pandas as pd\n",
    "import matplotlib.pyplot as plt\n",
    "\n",
    "%matplotlib inline"
   ]
  },
  {
   "cell_type": "code",
   "execution_count": 103,
   "metadata": {
    "collapsed": true
   },
   "outputs": [],
   "source": [
    "data = pd.read_csv('./sw_classifications_20160526-afterdedupe.csv')"
   ]
  },
  {
   "cell_type": "code",
   "execution_count": 104,
   "metadata": {
    "collapsed": false
   },
   "outputs": [
    {
     "data": {
      "text/html": [
       "<div>\n",
       "<table border=\"1\" class=\"dataframe\">\n",
       "  <thead>\n",
       "    <tr style=\"text-align: right;\">\n",
       "      <th></th>\n",
       "      <th>swi_id</th>\n",
       "      <th>swj_id</th>\n",
       "      <th>swi_geom</th>\n",
       "      <th>swj_geom</th>\n",
       "      <th>connected</th>\n",
       "      <th>username</th>\n",
       "      <th>timestamp</th>\n",
       "    </tr>\n",
       "  </thead>\n",
       "  <tbody>\n",
       "    <tr>\n",
       "      <th>0</th>\n",
       "      <td>309963</td>\n",
       "      <td>317735</td>\n",
       "      <td>010200000002000000FB3CEA9DC7935EC08902972360CC...</td>\n",
       "      <td>010200000002000000699C891DF0935EC060CB94877CCC...</td>\n",
       "      <td>f</td>\n",
       "      <td>Sumit</td>\n",
       "      <td>2016-05-24 02:29:15.820404+00</td>\n",
       "    </tr>\n",
       "    <tr>\n",
       "      <th>1</th>\n",
       "      <td>313312</td>\n",
       "      <td>313373</td>\n",
       "      <td>010200000002000000A2BCE99980925EC0D7DE25935DCC...</td>\n",
       "      <td>010200000002000000182B66EE92925EC00F6FA3F743CC...</td>\n",
       "      <td>t</td>\n",
       "      <td>Annie T</td>\n",
       "      <td>2016-05-26 03:27:50.283528+00</td>\n",
       "    </tr>\n",
       "    <tr>\n",
       "      <th>2</th>\n",
       "      <td>304826</td>\n",
       "      <td>305160</td>\n",
       "      <td>010200000002000000E39CA78061935EC0A92043F180D6...</td>\n",
       "      <td>010200000002000000CB14431650935EC00E56906ABAD6...</td>\n",
       "      <td>f</td>\n",
       "      <td>Annie T</td>\n",
       "      <td>2016-05-26 03:44:58.635554+00</td>\n",
       "    </tr>\n",
       "    <tr>\n",
       "      <th>3</th>\n",
       "      <td>306273</td>\n",
       "      <td>306938</td>\n",
       "      <td>010200000002000000C9C226BCB5955EC0568370BE61D8...</td>\n",
       "      <td>01020000000200000043E1C5F69E955EC058E9BFB429D8...</td>\n",
       "      <td>f</td>\n",
       "      <td>Anonymous</td>\n",
       "      <td>2016-05-26 04:24:03.041748+00</td>\n",
       "    </tr>\n",
       "    <tr>\n",
       "      <th>4</th>\n",
       "      <td>306373</td>\n",
       "      <td>306697</td>\n",
       "      <td>0102000000020000006F1D84D861925EC065187A35F8D6...</td>\n",
       "      <td>01020000000200000027997E7153925EC0A637A03531D7...</td>\n",
       "      <td>f</td>\n",
       "      <td>sophia</td>\n",
       "      <td>2016-05-26 05:12:59.299378+00</td>\n",
       "    </tr>\n",
       "  </tbody>\n",
       "</table>\n",
       "</div>"
      ],
      "text/plain": [
       "   swi_id  swj_id                                           swi_geom  \\\n",
       "0  309963  317735  010200000002000000FB3CEA9DC7935EC08902972360CC...   \n",
       "1  313312  313373  010200000002000000A2BCE99980925EC0D7DE25935DCC...   \n",
       "2  304826  305160  010200000002000000E39CA78061935EC0A92043F180D6...   \n",
       "3  306273  306938  010200000002000000C9C226BCB5955EC0568370BE61D8...   \n",
       "4  306373  306697  0102000000020000006F1D84D861925EC065187A35F8D6...   \n",
       "\n",
       "                                            swj_geom connected   username  \\\n",
       "0  010200000002000000699C891DF0935EC060CB94877CCC...         f      Sumit   \n",
       "1  010200000002000000182B66EE92925EC00F6FA3F743CC...         t    Annie T   \n",
       "2  010200000002000000CB14431650935EC00E56906ABAD6...         f    Annie T   \n",
       "3  01020000000200000043E1C5F69E955EC058E9BFB429D8...         f  Anonymous   \n",
       "4  01020000000200000027997E7153925EC0A637A03531D7...         f     sophia   \n",
       "\n",
       "                       timestamp  \n",
       "0  2016-05-24 02:29:15.820404+00  \n",
       "1  2016-05-26 03:27:50.283528+00  \n",
       "2  2016-05-26 03:44:58.635554+00  \n",
       "3  2016-05-26 04:24:03.041748+00  \n",
       "4  2016-05-26 05:12:59.299378+00  "
      ]
     },
     "execution_count": 104,
     "metadata": {},
     "output_type": "execute_result"
    }
   ],
   "source": [
    "data.head()"
   ]
  },
  {
   "cell_type": "markdown",
   "metadata": {},
   "source": [
    "We want to only consider sidewalk pairs that have at least 3 labels."
   ]
  },
  {
   "cell_type": "code",
   "execution_count": 115,
   "metadata": {
    "collapsed": false
   },
   "outputs": [
    {
     "name": "stdout",
     "output_type": "stream",
     "text": [
      "Number of unique sidewalk pair labels: 11132\n",
      "Number of labels with more than 3 responses: 862\n",
      "Number of labels with 2 responses: 976\n"
     ]
    }
   ],
   "source": [
    "gb = data.groupby(['swi_id', 'swj_id'])\n",
    "groups = gb.groups\n",
    "more_3 = {key: value for key, value in groups.iteritems() if len(value) >= 3}\n",
    "more_2 = {key: value for key, value in groups.iteritems() if len(value) >= 2}\n",
    "print 'Number of unique sidewalk pair labels: {}'.format(len(groups))\n",
    "print 'Number of labels with more than 3 responses: {}'.format(len(more_3))\n",
    "print 'Number of labels with 2 responses: {}'.format(len(have_2))"
   ]
  },
  {
   "cell_type": "markdown",
   "metadata": {},
   "source": [
    "The groups are a dictionary of group element + index. To get to the actual labels, we can just grab the row at that index from our data frame."
   ]
  },
  {
   "cell_type": "code",
   "execution_count": 109,
   "metadata": {
    "collapsed": false
   },
   "outputs": [
    {
     "data": {
      "text/plain": [
       "[((314113, 317845), [576, 12067]),\n",
       " ((319030, 319031), [10246, 11306]),\n",
       " ((289754, 311059), [3297, 12875])]"
      ]
     },
     "execution_count": 109,
     "metadata": {},
     "output_type": "execute_result"
    }
   ],
   "source": [
    "more_2.items()[:3]"
   ]
  },
  {
   "cell_type": "code",
   "execution_count": 110,
   "metadata": {
    "collapsed": false
   },
   "outputs": [],
   "source": [
    "def label_fraction(sw_labelset):\n",
    "    '''\n",
    "    :param sw_labelset: List of 't' (True) or 'f' (False) labels for a single sidewalk pair.\n",
    "    :type sw_labelset: list\n",
    "    \n",
    "    '''\n",
    "    tf = data.iloc[sw_labelset, :]['connected']\n",
    "    fraction_t = sum([1 for label in tf if label == 't']) / float(len(sw_labelset))\n",
    "    \n",
    "    return fraction_t\n",
    "\n",
    "def decide_label(fraction):\n",
    "    '''Decide how to label a given sidewalk pair given multiple responses.'''\n",
    "    # If majority is 't', choose 't'\n",
    "    if fraction > 0.5:\n",
    "        return 't'\n",
    "    # If majority is 'f', choose 'f'\n",
    "    elif fraction < 0.5:\n",
    "        return 'f'\n",
    "    # If even split, ignore entirely for now\n",
    "    else:\n",
    "        return None"
   ]
  },
  {
   "cell_type": "code",
   "execution_count": 124,
   "metadata": {
    "collapsed": false
   },
   "outputs": [
    {
     "data": {
      "text/html": [
       "<div>\n",
       "<table border=\"1\" class=\"dataframe\">\n",
       "  <thead>\n",
       "    <tr style=\"text-align: right;\">\n",
       "      <th></th>\n",
       "      <th>swi_id</th>\n",
       "      <th>swj_id</th>\n",
       "      <th>connected</th>\n",
       "    </tr>\n",
       "  </thead>\n",
       "  <tbody>\n",
       "    <tr>\n",
       "      <th>6276</th>\n",
       "      <td>325902</td>\n",
       "      <td>326474</td>\n",
       "      <td>f</td>\n",
       "    </tr>\n",
       "    <tr>\n",
       "      <th>736</th>\n",
       "      <td>326184</td>\n",
       "      <td>326185</td>\n",
       "      <td>f</td>\n",
       "    </tr>\n",
       "    <tr>\n",
       "      <th>2548</th>\n",
       "      <td>297773</td>\n",
       "      <td>303110</td>\n",
       "      <td>f</td>\n",
       "    </tr>\n",
       "    <tr>\n",
       "      <th>1925</th>\n",
       "      <td>322238</td>\n",
       "      <td>330093</td>\n",
       "      <td>f</td>\n",
       "    </tr>\n",
       "    <tr>\n",
       "      <th>10184</th>\n",
       "      <td>319771</td>\n",
       "      <td>320091</td>\n",
       "      <td>t</td>\n",
       "    </tr>\n",
       "  </tbody>\n",
       "</table>\n",
       "</div>"
      ],
      "text/plain": [
       "       swi_id  swj_id connected\n",
       "6276   325902  326474         f\n",
       "736    326184  326185         f\n",
       "2548   297773  303110         f\n",
       "1925   322238  330093         f\n",
       "10184  319771  320091         t"
      ]
     },
     "execution_count": 124,
     "metadata": {},
     "output_type": "execute_result"
    }
   ],
   "source": [
    "fractions2 = []\n",
    "labels2 = []\n",
    "for key, value in more_2.iteritems():\n",
    "    fraction = label_fraction(value)\n",
    "    label = decide_label(fraction)\n",
    "    if label is not None:\n",
    "        newrow = data.ix[value[0],['swi_id', 'swj_id', 'connected']]\n",
    "        newrow['connected'] = label\n",
    "        labels2.append(newrow)\n",
    "        fractions2.append(fraction)\n",
    "\n",
    "labels2 = pd.DataFrame(labels)\n",
    "labels2.head()"
   ]
  },
  {
   "cell_type": "code",
   "execution_count": 125,
   "metadata": {
    "collapsed": false
   },
   "outputs": [
    {
     "data": {
      "text/html": [
       "<div>\n",
       "<table border=\"1\" class=\"dataframe\">\n",
       "  <thead>\n",
       "    <tr style=\"text-align: right;\">\n",
       "      <th></th>\n",
       "      <th>swi_id</th>\n",
       "      <th>swj_id</th>\n",
       "      <th>connected</th>\n",
       "    </tr>\n",
       "  </thead>\n",
       "  <tbody>\n",
       "    <tr>\n",
       "      <th>6276</th>\n",
       "      <td>325902</td>\n",
       "      <td>326474</td>\n",
       "      <td>f</td>\n",
       "    </tr>\n",
       "    <tr>\n",
       "      <th>736</th>\n",
       "      <td>326184</td>\n",
       "      <td>326185</td>\n",
       "      <td>f</td>\n",
       "    </tr>\n",
       "    <tr>\n",
       "      <th>2548</th>\n",
       "      <td>297773</td>\n",
       "      <td>303110</td>\n",
       "      <td>f</td>\n",
       "    </tr>\n",
       "    <tr>\n",
       "      <th>1925</th>\n",
       "      <td>322238</td>\n",
       "      <td>330093</td>\n",
       "      <td>f</td>\n",
       "    </tr>\n",
       "    <tr>\n",
       "      <th>10184</th>\n",
       "      <td>319771</td>\n",
       "      <td>320091</td>\n",
       "      <td>t</td>\n",
       "    </tr>\n",
       "  </tbody>\n",
       "</table>\n",
       "</div>"
      ],
      "text/plain": [
       "       swi_id  swj_id connected\n",
       "6276   325902  326474         f\n",
       "736    326184  326185         f\n",
       "2548   297773  303110         f\n",
       "1925   322238  330093         f\n",
       "10184  319771  320091         t"
      ]
     },
     "execution_count": 125,
     "metadata": {},
     "output_type": "execute_result"
    }
   ],
   "source": [
    "fractions3 = []\n",
    "labels3 = []\n",
    "for key, value in more_3.iteritems():\n",
    "    fraction = label_fraction(value)\n",
    "    label = decide_label(fraction)\n",
    "    if label is not None:\n",
    "        newrow = data.ix[value[0],['swi_id', 'swj_id', 'connected']]\n",
    "        newrow['connected'] = label\n",
    "        labels3.append(newrow)\n",
    "        fractions3.append(fraction)\n",
    "\n",
    "labels3 = pd.DataFrame(labels)\n",
    "labels3.head()"
   ]
  },
  {
   "cell_type": "code",
   "execution_count": 126,
   "metadata": {
    "collapsed": false
   },
   "outputs": [
    {
     "data": {
      "text/plain": [
       "count     1793\n",
       "unique       2\n",
       "top          f\n",
       "freq      1404\n",
       "Name: connected, dtype: object"
      ]
     },
     "execution_count": 126,
     "metadata": {},
     "output_type": "execute_result"
    }
   ],
   "source": [
    "labels2['connected'].describe()"
   ]
  },
  {
   "cell_type": "code",
   "execution_count": 127,
   "metadata": {
    "collapsed": false
   },
   "outputs": [
    {
     "data": {
      "text/plain": [
       "count     1793\n",
       "unique       2\n",
       "top          f\n",
       "freq      1404\n",
       "Name: connected, dtype: object"
      ]
     },
     "execution_count": 127,
     "metadata": {},
     "output_type": "execute_result"
    }
   ],
   "source": [
    "labels3['connected'].describe()"
   ]
  },
  {
   "cell_type": "code",
   "execution_count": 128,
   "metadata": {
    "collapsed": false
   },
   "outputs": [
    {
     "data": {
      "text/plain": [
       "(array([ 655.,    0.,    0.,   14.,    0.,    0.,   14.,    0.,    0.,  179.]),\n",
       " array([ 0. ,  0.1,  0.2,  0.3,  0.4,  0.5,  0.6,  0.7,  0.8,  0.9,  1. ]),\n",
       " <a list of 10 Patch objects>)"
      ]
     },
     "execution_count": 128,
     "metadata": {},
     "output_type": "execute_result"
    },
    {
     "data": {
      "image/png": "[encoded data removed]",
      "text/plain": [
       "<matplotlib.figure.Figure at 0x7fbd877efa10>"
      ]
     },
     "metadata": {},
     "output_type": "display_data"
    }
   ],
   "source": [
    "plt.hist(fractions3)"
   ]
  },
  {
   "cell_type": "code",
   "execution_count": 129,
   "metadata": {
    "collapsed": false
   },
   "outputs": [
    {
     "data": {
      "text/plain": [
       "0.03248259860788863"
      ]
     },
     "execution_count": 129,
     "metadata": {},
     "output_type": "execute_result"
    }
   ],
   "source": [
    "uncontested = [f for f in fractions3 if f != 0 and f != 1]\n",
    "len(uncontested) / float(len(fractions3))"
   ]
  },
  {
   "cell_type": "markdown",
   "metadata": {},
   "source": [
    "'labels2' contains all majority-rule labels that have 2 or more responses. 'labels3' contains all majority-rule labels that have 3 or more responses."
   ]
  },
  {
   "cell_type": "code",
   "execution_count": null,
   "metadata": {
    "collapsed": true
   },
   "outputs": [],
   "source": []
  }
 ],
 "metadata": {
  "kernelspec": {
   "display_name": "Python 2",
   "language": "python",
   "name": "python2"
  },
  "language_info": {
   "codemirror_mode": {
    "name": "ipython",
    "version": 2
   },
   "file_extension": ".py",
   "mimetype": "text/x-python",
   "name": "python",
   "nbconvert_exporter": "python",
   "pygments_lexer": "ipython2",
   "version": "2.7.11+"
  }
 },
 "nbformat": 4,
 "nbformat_minor": 0
}
