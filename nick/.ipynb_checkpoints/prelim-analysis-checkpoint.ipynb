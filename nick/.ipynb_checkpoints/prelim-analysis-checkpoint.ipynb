{
 "cells": [
  {
   "cell_type": "code",
   "execution_count": 1,
   "metadata": {
    "collapsed": false
   },
   "outputs": [],
   "source": [
    "from matplotlib import pyplot as plt\n",
    "import numpy as np\n",
    "import pandas as pd\n",
    "from sklearn import cross_validation, linear_model, preprocessing\n",
    "from sklearn.metrics import precision_recall_curve, precision_score, recall_score\n",
    "\n",
    "%matplotlib inline"
   ]
  },
  {
   "cell_type": "code",
   "execution_count": 3,
   "metadata": {
    "collapsed": false
   },
   "outputs": [
    {
     "data": {
      "text/html": [
       "<div>\n",
       "<table border=\"1\" class=\"dataframe\">\n",
       "  <thead>\n",
       "    <tr style=\"text-align: right;\">\n",
       "      <th></th>\n",
       "      <th>connected</th>\n",
       "      <th>id_i</th>\n",
       "      <th>id_j</th>\n",
       "      <th>length_i</th>\n",
       "      <th>length_j</th>\n",
       "      <th>side_i</th>\n",
       "      <th>side_j</th>\n",
       "      <th>sw_width_i</th>\n",
       "      <th>sw_width_j</th>\n",
       "      <th>curbtype_i</th>\n",
       "      <th>...</th>\n",
       "      <th>surftype_i</th>\n",
       "      <th>surftype_j</th>\n",
       "      <th>intersects</th>\n",
       "      <th>near_angle</th>\n",
       "      <th>near_distance</th>\n",
       "      <th>near_line</th>\n",
       "      <th>near_line_srid</th>\n",
       "      <th>bid_i</th>\n",
       "      <th>bid_j</th>\n",
       "      <th>intersects_street</th>\n",
       "    </tr>\n",
       "  </thead>\n",
       "  <tbody>\n",
       "    <tr>\n",
       "      <th>0</th>\n",
       "      <td>0</td>\n",
       "      <td>289092</td>\n",
       "      <td>299107</td>\n",
       "      <td>297.230378</td>\n",
       "      <td>313.835648</td>\n",
       "      <td>W</td>\n",
       "      <td>S</td>\n",
       "      <td>60</td>\n",
       "      <td>60</td>\n",
       "      <td>410C</td>\n",
       "      <td>...</td>\n",
       "      <td>PCC</td>\n",
       "      <td>AC</td>\n",
       "      <td>f</td>\n",
       "      <td>-2.283203</td>\n",
       "      <td>34.436532</td>\n",
       "      <td>LINESTRING(-122.319447001456 47.6008471113961,...</td>\n",
       "      <td>4326</td>\n",
       "      <td>NaN</td>\n",
       "      <td>3352</td>\n",
       "      <td>0</td>\n",
       "    </tr>\n",
       "    <tr>\n",
       "      <th>1</th>\n",
       "      <td>0</td>\n",
       "      <td>293102</td>\n",
       "      <td>331808</td>\n",
       "      <td>431.833749</td>\n",
       "      <td>434.510666</td>\n",
       "      <td>W</td>\n",
       "      <td>W</td>\n",
       "      <td>52</td>\n",
       "      <td>72</td>\n",
       "      <td>AR</td>\n",
       "      <td>...</td>\n",
       "      <td>PCC</td>\n",
       "      <td>PCC</td>\n",
       "      <td>f</td>\n",
       "      <td>3.141594</td>\n",
       "      <td>26.949339</td>\n",
       "      <td>LINESTRING(-122.350055372668 47.6554398660144,...</td>\n",
       "      <td>4326</td>\n",
       "      <td>2831</td>\n",
       "      <td>2831</td>\n",
       "      <td>0</td>\n",
       "    </tr>\n",
       "    <tr>\n",
       "      <th>2</th>\n",
       "      <td>0</td>\n",
       "      <td>313868</td>\n",
       "      <td>313874</td>\n",
       "      <td>218.799534</td>\n",
       "      <td>180.349589</td>\n",
       "      <td>S</td>\n",
       "      <td>S</td>\n",
       "      <td>0</td>\n",
       "      <td>0</td>\n",
       "      <td>410B</td>\n",
       "      <td>...</td>\n",
       "      <td>UIMPRV</td>\n",
       "      <td>UIMPRV</td>\n",
       "      <td>f</td>\n",
       "      <td>-0.191456</td>\n",
       "      <td>4.190603</td>\n",
       "      <td>LINESTRING(-122.362966756884 47.5713328446345,...</td>\n",
       "      <td>4326</td>\n",
       "      <td>NaN</td>\n",
       "      <td>NaN</td>\n",
       "      <td>0</td>\n",
       "    </tr>\n",
       "    <tr>\n",
       "      <th>3</th>\n",
       "      <td>0</td>\n",
       "      <td>319890</td>\n",
       "      <td>322466</td>\n",
       "      <td>225.852123</td>\n",
       "      <td>272.643093</td>\n",
       "      <td>SE</td>\n",
       "      <td>E</td>\n",
       "      <td>60</td>\n",
       "      <td>60</td>\n",
       "      <td>410C</td>\n",
       "      <td>...</td>\n",
       "      <td>PCC</td>\n",
       "      <td>PCC</td>\n",
       "      <td>f</td>\n",
       "      <td>3.723988</td>\n",
       "      <td>13.995332</td>\n",
       "      <td>LINESTRING(-122.395081951736 47.5849380800841,...</td>\n",
       "      <td>4326</td>\n",
       "      <td>575</td>\n",
       "      <td>575</td>\n",
       "      <td>0</td>\n",
       "    </tr>\n",
       "    <tr>\n",
       "      <th>4</th>\n",
       "      <td>0</td>\n",
       "      <td>319292</td>\n",
       "      <td>319294</td>\n",
       "      <td>313.080031</td>\n",
       "      <td>623.754118</td>\n",
       "      <td>N</td>\n",
       "      <td>N</td>\n",
       "      <td>0</td>\n",
       "      <td>0</td>\n",
       "      <td>NONE</td>\n",
       "      <td>...</td>\n",
       "      <td>UIMPRV</td>\n",
       "      <td>UIMPRV</td>\n",
       "      <td>f</td>\n",
       "      <td>-3.141596</td>\n",
       "      <td>26.933899</td>\n",
       "      <td>LINESTRING(-122.368266891496 47.5538036466461,...</td>\n",
       "      <td>4326</td>\n",
       "      <td>723</td>\n",
       "      <td>723</td>\n",
       "      <td>0</td>\n",
       "    </tr>\n",
       "  </tbody>\n",
       "</table>\n",
       "<p>5 rows × 21 columns</p>\n",
       "</div>"
      ],
      "text/plain": [
       "   connected    id_i    id_j    length_i    length_j side_i side_j  \\\n",
       "0          0  289092  299107  297.230378  313.835648      W      S   \n",
       "1          0  293102  331808  431.833749  434.510666      W      W   \n",
       "2          0  313868  313874  218.799534  180.349589      S      S   \n",
       "3          0  319890  322466  225.852123  272.643093     SE      E   \n",
       "4          0  319292  319294  313.080031  623.754118      N      N   \n",
       "\n",
       "   sw_width_i  sw_width_j curbtype_i        ...         surftype_i surftype_j  \\\n",
       "0          60          60       410C        ...                PCC         AC   \n",
       "1          52          72         AR        ...                PCC        PCC   \n",
       "2           0           0       410B        ...             UIMPRV     UIMPRV   \n",
       "3          60          60       410C        ...                PCC        PCC   \n",
       "4           0           0       NONE        ...             UIMPRV     UIMPRV   \n",
       "\n",
       "  intersects near_angle  near_distance  \\\n",
       "0          f  -2.283203      34.436532   \n",
       "1          f   3.141594      26.949339   \n",
       "2          f  -0.191456       4.190603   \n",
       "3          f   3.723988      13.995332   \n",
       "4          f  -3.141596      26.933899   \n",
       "\n",
       "                                           near_line near_line_srid  bid_i  \\\n",
       "0  LINESTRING(-122.319447001456 47.6008471113961,...           4326    NaN   \n",
       "1  LINESTRING(-122.350055372668 47.6554398660144,...           4326   2831   \n",
       "2  LINESTRING(-122.362966756884 47.5713328446345,...           4326    NaN   \n",
       "3  LINESTRING(-122.395081951736 47.5849380800841,...           4326    575   \n",
       "4  LINESTRING(-122.368266891496 47.5538036466461,...           4326    723   \n",
       "\n",
       "   bid_j  intersects_street  \n",
       "0   3352                  0  \n",
       "1   2831                  0  \n",
       "2    NaN                  0  \n",
       "3    575                  0  \n",
       "4    723                  0  \n",
       "\n",
       "[5 rows x 21 columns]"
      ]
     },
     "execution_count": 3,
     "metadata": {},
     "output_type": "execute_result"
    }
   ],
   "source": [
    "raw_data = pd.read_csv('../data/learndata-latest.csv')\n",
    "raw_data.head()"
   ]
  },
  {
   "cell_type": "code",
   "execution_count": 4,
   "metadata": {
    "collapsed": true
   },
   "outputs": [],
   "source": [
    "# Remove features that we shouldn't learn (encoded geometries and sidewalk ID numbers)\n",
    "near_line = raw_data['near_line']  # Save for later\n",
    "del raw_data['near_line']\n",
    "del raw_data['id_i']\n",
    "del raw_data['id_j']"
   ]
  },
  {
   "cell_type": "code",
   "execution_count": 5,
   "metadata": {
    "collapsed": false
   },
   "outputs": [
    {
     "data": {
      "text/html": [
       "<div>\n",
       "<table border=\"1\" class=\"dataframe\">\n",
       "  <thead>\n",
       "    <tr style=\"text-align: right;\">\n",
       "      <th></th>\n",
       "      <th>intersects</th>\n",
       "      <th>near_angle</th>\n",
       "      <th>near_distance</th>\n",
       "      <th>intersects_street</th>\n",
       "      <th>same_curbtype</th>\n",
       "      <th>same_surftype</th>\n",
       "      <th>same_block</th>\n",
       "      <th>same_side</th>\n",
       "      <th>length_diff</th>\n",
       "      <th>sw_width_diff</th>\n",
       "    </tr>\n",
       "  </thead>\n",
       "  <tbody>\n",
       "    <tr>\n",
       "      <th>0</th>\n",
       "      <td>0</td>\n",
       "      <td>2.283203</td>\n",
       "      <td>34.436532</td>\n",
       "      <td>0</td>\n",
       "      <td>0</td>\n",
       "      <td>0</td>\n",
       "      <td>0</td>\n",
       "      <td>0</td>\n",
       "      <td>16.605270</td>\n",
       "      <td>0</td>\n",
       "    </tr>\n",
       "    <tr>\n",
       "      <th>1</th>\n",
       "      <td>0</td>\n",
       "      <td>3.141594</td>\n",
       "      <td>26.949339</td>\n",
       "      <td>0</td>\n",
       "      <td>1</td>\n",
       "      <td>0</td>\n",
       "      <td>1</td>\n",
       "      <td>1</td>\n",
       "      <td>2.676917</td>\n",
       "      <td>20</td>\n",
       "    </tr>\n",
       "    <tr>\n",
       "      <th>2</th>\n",
       "      <td>0</td>\n",
       "      <td>0.191456</td>\n",
       "      <td>4.190603</td>\n",
       "      <td>0</td>\n",
       "      <td>1</td>\n",
       "      <td>0</td>\n",
       "      <td>0</td>\n",
       "      <td>1</td>\n",
       "      <td>38.449945</td>\n",
       "      <td>0</td>\n",
       "    </tr>\n",
       "    <tr>\n",
       "      <th>3</th>\n",
       "      <td>0</td>\n",
       "      <td>3.723988</td>\n",
       "      <td>13.995332</td>\n",
       "      <td>0</td>\n",
       "      <td>1</td>\n",
       "      <td>0</td>\n",
       "      <td>1</td>\n",
       "      <td>0</td>\n",
       "      <td>46.790971</td>\n",
       "      <td>0</td>\n",
       "    </tr>\n",
       "    <tr>\n",
       "      <th>4</th>\n",
       "      <td>0</td>\n",
       "      <td>3.141596</td>\n",
       "      <td>26.933899</td>\n",
       "      <td>0</td>\n",
       "      <td>1</td>\n",
       "      <td>0</td>\n",
       "      <td>1</td>\n",
       "      <td>1</td>\n",
       "      <td>310.674087</td>\n",
       "      <td>0</td>\n",
       "    </tr>\n",
       "  </tbody>\n",
       "</table>\n",
       "</div>"
      ],
      "text/plain": [
       "   intersects  near_angle  near_distance  intersects_street  same_curbtype  \\\n",
       "0           0    2.283203      34.436532                  0              0   \n",
       "1           0    3.141594      26.949339                  0              1   \n",
       "2           0    0.191456       4.190603                  0              1   \n",
       "3           0    3.723988      13.995332                  0              1   \n",
       "4           0    3.141596      26.933899                  0              1   \n",
       "\n",
       "   same_surftype  same_block  same_side  length_diff  sw_width_diff  \n",
       "0              0           0          0    16.605270              0  \n",
       "1              0           1          1     2.676917             20  \n",
       "2              0           0          1    38.449945              0  \n",
       "3              0           1          0    46.790971              0  \n",
       "4              0           1          1   310.674087              0  "
      ]
     },
     "execution_count": 5,
     "metadata": {},
     "output_type": "execute_result"
    }
   ],
   "source": [
    "# Binarizes categorical variables \n",
    "# (e.g. if 3 categories, makes 3 cols with 1s and 0s)\n",
    "# X = pd.get_dummies(raw_data)  \n",
    "\n",
    "# Turn categorical variables into integer labels\n",
    "label_encoder = preprocessing.LabelEncoder()\n",
    "raw_data['curbtype_i'] = label_encoder.fit_transform(raw_data['curbtype_i'])\n",
    "raw_data['curbtype_j'] = label_encoder.fit_transform(raw_data['curbtype_j'])\n",
    "raw_data['side_i'] = label_encoder.fit_transform(raw_data['side_i'])\n",
    "raw_data['side_j'] = label_encoder.fit_transform(raw_data['side_j'])\n",
    "raw_data['surftype_i'] = label_encoder.fit_transform(raw_data['surftype_i'])\n",
    "raw_data['surftype_j'] = label_encoder.fit_transform(raw_data['surftype_j'])\n",
    "raw_data['intersects'] = label_encoder.fit_transform(raw_data['intersects'])\n",
    "\n",
    "X = raw_data\n",
    "\n",
    "X['same_curbtype'] = (X['curbtype_i'] == X['curbtype_j']).astype(int)\n",
    "X['same_surftype'] = (X['surftype_i'] == X['surftype_j']).astype(int)\n",
    "X['same_block'] = (X['bid_i'] == X['bid_j']).astype(int)\n",
    "X['same_side'] = (X['side_i'] == X['side_j']).astype(int)\n",
    "\n",
    "X['length_diff'] = abs(X['length_i'] - X['length_j'])\n",
    "X['sw_width_diff'] = abs(X['sw_width_i'] - X['sw_width_j']).astype(float)\n",
    "\n",
    "y = X['connected']\n",
    "X = X.drop('connected', 1)\n",
    "X = X.drop('curbtype_i', 1)\n",
    "X = X.drop('curbtype_j', 1)\n",
    "X = X.drop('surftype_i', 1)\n",
    "X = X.drop('surftype_j', 1)\n",
    "\n",
    "X['near_angle'] = abs(X['near_angle'])\n",
    "\n",
    "del X['bid_i']  # This has NaN and will cause errors in sklearn\n",
    "del X['bid_j']\n",
    "\n",
    "del X['side_i']\n",
    "del X['side_j']\n",
    "del X['length_i']\n",
    "del X['length_j']\n",
    "del X['sw_width_i']\n",
    "del X['sw_width_j']\n",
    "\n",
    "# This is the same for all rows\n",
    "del X['near_line_srid']\n",
    "\n",
    "X.head()"
   ]
  },
  {
   "cell_type": "code",
   "execution_count": 50,
   "metadata": {
    "collapsed": false
   },
   "outputs": [
    {
     "data": {
      "text/html": [
       "<div>\n",
       "<table border=\"1\" class=\"dataframe\">\n",
       "  <thead>\n",
       "    <tr style=\"text-align: right;\">\n",
       "      <th></th>\n",
       "      <th>swi_id</th>\n",
       "      <th>swj_id</th>\n",
       "      <th>swi_geom</th>\n",
       "      <th>swj_geom</th>\n",
       "      <th>connected</th>\n",
       "      <th>username</th>\n",
       "      <th>timestamp</th>\n",
       "    </tr>\n",
       "  </thead>\n",
       "  <tbody>\n",
       "    <tr>\n",
       "      <th>0</th>\n",
       "      <td>311597</td>\n",
       "      <td>311598</td>\n",
       "      <td>01020000000200000085C2FCA55A945EC03691401219D2...</td>\n",
       "      <td>010200000002000000DB7768EC57945EC0A010211219D2...</td>\n",
       "      <td>f</td>\n",
       "      <td>caspian</td>\n",
       "      <td>2016-02-01 23:03:41.168387+00</td>\n",
       "    </tr>\n",
       "    <tr>\n",
       "      <th>1</th>\n",
       "      <td>302056</td>\n",
       "      <td>302687</td>\n",
       "      <td>010200000002000000AB4840EDEB965EC0BFB16BC256D2...</td>\n",
       "      <td>0102000000020000009AECE51ED8965EC0F0C5418970D2...</td>\n",
       "      <td>t</td>\n",
       "      <td>caspian</td>\n",
       "      <td>2016-02-01 23:03:43.513612+00</td>\n",
       "    </tr>\n",
       "    <tr>\n",
       "      <th>2</th>\n",
       "      <td>298890</td>\n",
       "      <td>302933</td>\n",
       "      <td>0102000000020000005DB5C7D7F6995EC05B821FC124D3...</td>\n",
       "      <td>010200000002000000AD9E97BEE4995EC0D6F8007D07D3...</td>\n",
       "      <td>f</td>\n",
       "      <td>caspian</td>\n",
       "      <td>2016-02-01 23:03:46.180886+00</td>\n",
       "    </tr>\n",
       "    <tr>\n",
       "      <th>3</th>\n",
       "      <td>326590</td>\n",
       "      <td>327223</td>\n",
       "      <td>010200000002000000F3A03016C9985EC05A320173C2C3...</td>\n",
       "      <td>0102000000020000000FE6F93FC9985EC0FAD5BE72DDC3...</td>\n",
       "      <td>t</td>\n",
       "      <td>caspian</td>\n",
       "      <td>2016-02-01 23:04:12.130805+00</td>\n",
       "    </tr>\n",
       "    <tr>\n",
       "      <th>4</th>\n",
       "      <td>305742</td>\n",
       "      <td>305743</td>\n",
       "      <td>01020000000200000074A5B707A4925EC071427AD87DD6...</td>\n",
       "      <td>0102000000020000002F98D0AEB2925EC001FFB3BA7DD6...</td>\n",
       "      <td>t</td>\n",
       "      <td>caspian</td>\n",
       "      <td>2016-02-01 23:04:15.218594+00</td>\n",
       "    </tr>\n",
       "  </tbody>\n",
       "</table>\n",
       "</div>"
      ],
      "text/plain": [
       "   swi_id  swj_id                                           swi_geom  \\\n",
       "0  311597  311598  01020000000200000085C2FCA55A945EC03691401219D2...   \n",
       "1  302056  302687  010200000002000000AB4840EDEB965EC0BFB16BC256D2...   \n",
       "2  298890  302933  0102000000020000005DB5C7D7F6995EC05B821FC124D3...   \n",
       "3  326590  327223  010200000002000000F3A03016C9985EC05A320173C2C3...   \n",
       "4  305742  305743  01020000000200000074A5B707A4925EC071427AD87DD6...   \n",
       "\n",
       "                                            swj_geom connected username  \\\n",
       "0  010200000002000000DB7768EC57945EC0A010211219D2...         f  caspian   \n",
       "1  0102000000020000009AECE51ED8965EC0F0C5418970D2...         t  caspian   \n",
       "2  010200000002000000AD9E97BEE4995EC0D6F8007D07D3...         f  caspian   \n",
       "3  0102000000020000000FE6F93FC9985EC0FAD5BE72DDC3...         t  caspian   \n",
       "4  0102000000020000002F98D0AEB2925EC001FFB3BA7DD6...         t  caspian   \n",
       "\n",
       "                       timestamp  \n",
       "0  2016-02-01 23:03:41.168387+00  \n",
       "1  2016-02-01 23:03:43.513612+00  \n",
       "2  2016-02-01 23:03:46.180886+00  \n",
       "3  2016-02-01 23:04:12.130805+00  \n",
       "4  2016-02-01 23:04:15.218594+00  "
      ]
     },
     "execution_count": 50,
     "metadata": {},
     "output_type": "execute_result"
    }
   ],
   "source": [
    "crowd_labels = pd.read_csv('../data/crowdsource-20160208.csv')\n",
    "crowd_labels.head()"
   ]
  },
  {
   "cell_type": "code",
   "execution_count": 6,
   "metadata": {
    "collapsed": false
   },
   "outputs": [
    {
     "name": "stdout",
     "output_type": "stream",
     "text": [
      "\\begin{tabular}{lrrrrrrrrrr}\n",
      "\\toprule\n",
      "{} &  intersects &  near\\_angle &  near\\_distance &  intersects\\_street &  same\\_curbtype &  same\\_surftype &  same\\_block &  same\\_side &  length\\_diff &  sw\\_width\\_diff \\\\\n",
      "\\midrule\n",
      "46 &           0 &    3.097889 &      26.055310 &                  0 &              1 &              0 &           1 &          1 &   421.842730 &             60 \\\\\n",
      "47 &           0 &    1.570795 &      16.503232 &                  0 &              1 &              0 &           1 &          0 &    70.085078 &              0 \\\\\n",
      "48 &           0 &    2.177396 &      14.809049 &                  0 &              0 &              0 &           1 &          0 &    66.225863 &             90 \\\\\n",
      "49 &           0 &    4.703532 &      14.591935 &                  0 &              1 &              0 &           1 &          0 &   434.659850 &              0 \\\\\n",
      "50 &           1 &    1.570484 &      15.501038 &                  0 &              1 &              0 &           1 &          0 &   209.912835 &              0 \\\\\n",
      "\\bottomrule\n",
      "\\end{tabular}\n",
      "\n"
     ]
    }
   ],
   "source": [
    "Xl = X[46:51]\n",
    "print Xl.to_latex()"
   ]
  },
  {
   "cell_type": "code",
   "execution_count": 7,
   "metadata": {
    "collapsed": false
   },
   "outputs": [
    {
     "name": "stderr",
     "output_type": "stream",
     "text": [
      "/usr/local/lib/python2.7/dist-packages/sklearn/preprocessing/data.py:583: DeprecationWarning: Passing 1d arrays as data is deprecated in 0.17 and will raise ValueError in 0.19. Reshape your data either using X.reshape(-1, 1) if your data has a single feature or X.reshape(1, -1) if it contains a single sample.\n",
      "  warnings.warn(DEPRECATION_MSG_1D, DeprecationWarning)\n",
      "/usr/local/lib/python2.7/dist-packages/sklearn/preprocessing/data.py:646: DeprecationWarning: Passing 1d arrays as data is deprecated in 0.17 and will raise ValueError in 0.19. Reshape your data either using X.reshape(-1, 1) if your data has a single feature or X.reshape(1, -1) if it contains a single sample.\n",
      "  warnings.warn(DEPRECATION_MSG_1D, DeprecationWarning)\n",
      "/usr/local/lib/python2.7/dist-packages/sklearn/preprocessing/data.py:583: DeprecationWarning: Passing 1d arrays as data is deprecated in 0.17 and will raise ValueError in 0.19. Reshape your data either using X.reshape(-1, 1) if your data has a single feature or X.reshape(1, -1) if it contains a single sample.\n",
      "  warnings.warn(DEPRECATION_MSG_1D, DeprecationWarning)\n",
      "/usr/local/lib/python2.7/dist-packages/sklearn/preprocessing/data.py:646: DeprecationWarning: Passing 1d arrays as data is deprecated in 0.17 and will raise ValueError in 0.19. Reshape your data either using X.reshape(-1, 1) if your data has a single feature or X.reshape(1, -1) if it contains a single sample.\n",
      "  warnings.warn(DEPRECATION_MSG_1D, DeprecationWarning)\n",
      "/usr/local/lib/python2.7/dist-packages/sklearn/preprocessing/data.py:583: DeprecationWarning: Passing 1d arrays as data is deprecated in 0.17 and will raise ValueError in 0.19. Reshape your data either using X.reshape(-1, 1) if your data has a single feature or X.reshape(1, -1) if it contains a single sample.\n",
      "  warnings.warn(DEPRECATION_MSG_1D, DeprecationWarning)\n",
      "/usr/local/lib/python2.7/dist-packages/sklearn/preprocessing/data.py:646: DeprecationWarning: Passing 1d arrays as data is deprecated in 0.17 and will raise ValueError in 0.19. Reshape your data either using X.reshape(-1, 1) if your data has a single feature or X.reshape(1, -1) if it contains a single sample.\n",
      "  warnings.warn(DEPRECATION_MSG_1D, DeprecationWarning)\n"
     ]
    }
   ],
   "source": [
    "# Scaling appropriate features by subtracting mean and scaling to unit variance\n",
    "scaler = preprocessing.StandardScaler()\n",
    "\n",
    "X['near_distance'] = scaler.fit_transform(X['near_distance'])\n",
    "X['length_diff'] = scaler.fit_transform(X['length_diff'])\n",
    "X['sw_width_diff'] = scaler.fit_transform(X['sw_width_diff'])"
   ]
  },
  {
   "cell_type": "code",
   "execution_count": 8,
   "metadata": {
    "collapsed": false
   },
   "outputs": [],
   "source": [
    "X_train, X_test, y_train, y_test = cross_validation.train_test_split(X, y, test_size=0.9, random_state=6883)"
   ]
  },
  {
   "cell_type": "markdown",
   "metadata": {},
   "source": [
    "### Logistic Regression"
   ]
  },
  {
   "cell_type": "code",
   "execution_count": 9,
   "metadata": {
    "collapsed": false,
    "scrolled": false
   },
   "outputs": [
    {
     "name": "stdout",
     "output_type": "stream",
     "text": [
      "0.973645706222\n",
      "\n",
      "intersects: 6.85914344492\n",
      "near_angle: -0.3375197707\n",
      "near_distance: 0.109168847964\n",
      "intersects_street: -2.24528631031\n",
      "same_curbtype: 0.0\n",
      "same_surftype: 0.0\n",
      "same_block: 1.24801807796\n",
      "same_side: 1.69325439871\n",
      "length_diff: -0.0533416459746\n",
      "sw_width_diff: 0.0\n"
     ]
    }
   ],
   "source": [
    "logistic = linear_model.LogisticRegression(penalty='l1', C=2e-2)\n",
    "logistic.fit(X_train, y_train)\n",
    "print logistic.score(X_test, y_test)\n",
    "print\n",
    "for colname, value in zip(list(X.columns), logistic.coef_[0]):\n",
    "    print '{}: {}'.format(colname, value)"
   ]
  },
  {
   "cell_type": "code",
   "execution_count": 10,
   "metadata": {
    "collapsed": false
   },
   "outputs": [
    {
     "name": "stdout",
     "output_type": "stream",
     "text": [
      "Precision score (what fraction of predicted connections are true): 0.997759641543\n",
      "Recall score (what fraction of connections were found?): 0.847117964743\n"
     ]
    },
    {
     "data": {
      "image/png": "[encoded data removed]",
      "text/plain": [
       "<matplotlib.figure.Figure at 0x7f031ebfc450>"
      ]
     },
     "metadata": {},
     "output_type": "display_data"
    }
   ],
   "source": [
    "y_pred = logistic.predict(X_test)\n",
    "y_prob = logistic.predict_proba(X_test)[:,1]\n",
    "precision, recall, thresholds = precision_recall_curve(y_test, y_prob)\n",
    "print \"Precision score (what fraction of predicted connections are true): {}\".format(precision_score(y_test, y_pred))\n",
    "print \"Recall score (what fraction of connections were found?): {}\".format(recall_score(y_test, y_pred))\n",
    "\n",
    "plt.plot(recall, precision)\n",
    "plt.xlabel('Recall')\n",
    "plt.ylabel('Precision')\n",
    "plt.show()"
   ]
  },
  {
   "cell_type": "code",
   "execution_count": 11,
   "metadata": {
    "collapsed": false
   },
   "outputs": [
    {
     "name": "stdout",
     "output_type": "stream",
     "text": [
      "Accuracy: 0.95 (+/- 0.21)\n"
     ]
    }
   ],
   "source": [
    "# Cross validation - splits into 10 distinct train-test folds and fits\n",
    "logistic_scores = cross_validation.cross_val_score(logistic, X, y, cv=10, n_jobs=-1)\n",
    "print(\"Accuracy: %0.2f (+/- %0.2f)\" % (logistic_scores.mean(), logistic_scores.std() * 2))"
   ]
  },
  {
   "cell_type": "markdown",
   "metadata": {},
   "source": [
    "### Logistic Regression with random features"
   ]
  },
  {
   "cell_type": "code",
   "execution_count": 12,
   "metadata": {
    "collapsed": true
   },
   "outputs": [],
   "source": [
    "poly = preprocessing.PolynomialFeatures(2)\n",
    "Xp = poly.fit_transform(X)\n",
    "#Xp_train, Xp_test, yp_train, yp_test = cross_validation.train_test_split(Xp, y, test_size=0.9, random_state=6883)\n",
    "Xp_train, Xp_test, yp_train, yp_test = cross_validation.train_test_split(Xp, y, test_size=0.9)"
   ]
  },
  {
   "cell_type": "code",
   "execution_count": 13,
   "metadata": {
    "collapsed": false
   },
   "outputs": [
    {
     "name": "stdout",
     "output_type": "stream",
     "text": [
      "Fit score: 0.984807388687\n"
     ]
    },
    {
     "data": {
      "text/html": [
       "<div>\n",
       "<table border=\"1\" class=\"dataframe\">\n",
       "  <thead>\n",
       "    <tr style=\"text-align: right;\">\n",
       "      <th></th>\n",
       "      <th>bases</th>\n",
       "      <th>columns</th>\n",
       "      <th>coefficient</th>\n",
       "    </tr>\n",
       "  </thead>\n",
       "  <tbody>\n",
       "    <tr>\n",
       "      <th>3</th>\n",
       "      <td>[1 1 0 0 0 0 0 0 0 0]</td>\n",
       "      <td>intersects, near_angle</td>\n",
       "      <td>2.727556</td>\n",
       "    </tr>\n",
       "    <tr>\n",
       "      <th>1</th>\n",
       "      <td>[1 0 0 0 0 0 0 0 0 0]</td>\n",
       "      <td>intersects</td>\n",
       "      <td>1.674559</td>\n",
       "    </tr>\n",
       "    <tr>\n",
       "      <th>5</th>\n",
       "      <td>[0 1 0 1 0 0 0 0 0 0]</td>\n",
       "      <td>near_angle, intersects_street</td>\n",
       "      <td>-1.354814</td>\n",
       "    </tr>\n",
       "    <tr>\n",
       "      <th>0</th>\n",
       "      <td>[0 0 0 0 0 0 0 0 0 0]</td>\n",
       "      <td></td>\n",
       "      <td>-0.964873</td>\n",
       "    </tr>\n",
       "    <tr>\n",
       "      <th>7</th>\n",
       "      <td>[0 1 0 0 0 0 0 1 0 0]</td>\n",
       "      <td>near_angle, same_side</td>\n",
       "      <td>0.780513</td>\n",
       "    </tr>\n",
       "    <tr>\n",
       "      <th>6</th>\n",
       "      <td>[0 1 0 0 0 0 1 0 0 0]</td>\n",
       "      <td>near_angle, same_block</td>\n",
       "      <td>0.375696</td>\n",
       "    </tr>\n",
       "    <tr>\n",
       "      <th>2</th>\n",
       "      <td>[2 0 0 0 0 0 0 0 0 0]</td>\n",
       "      <td>intersects</td>\n",
       "      <td>0.245316</td>\n",
       "    </tr>\n",
       "    <tr>\n",
       "      <th>4</th>\n",
       "      <td>[0 2 0 0 0 0 0 0 0 0]</td>\n",
       "      <td>near_angle</td>\n",
       "      <td>-0.091755</td>\n",
       "    </tr>\n",
       "    <tr>\n",
       "      <th>8</th>\n",
       "      <td>[0 1 0 0 0 0 0 0 0 1]</td>\n",
       "      <td>near_angle, sw_width_diff</td>\n",
       "      <td>-0.032740</td>\n",
       "    </tr>\n",
       "    <tr>\n",
       "      <th>10</th>\n",
       "      <td>[0 0 0 0 0 0 0 0 0 2]</td>\n",
       "      <td>sw_width_diff</td>\n",
       "      <td>0.004202</td>\n",
       "    </tr>\n",
       "    <tr>\n",
       "      <th>9</th>\n",
       "      <td>[0 0 2 0 0 0 0 0 0 0]</td>\n",
       "      <td>near_distance</td>\n",
       "      <td>0.001410</td>\n",
       "    </tr>\n",
       "  </tbody>\n",
       "</table>\n",
       "</div>"
      ],
      "text/plain": [
       "                    bases                        columns  coefficient\n",
       "3   [1 1 0 0 0 0 0 0 0 0]         intersects, near_angle     2.727556\n",
       "1   [1 0 0 0 0 0 0 0 0 0]                     intersects     1.674559\n",
       "5   [0 1 0 1 0 0 0 0 0 0]  near_angle, intersects_street    -1.354814\n",
       "0   [0 0 0 0 0 0 0 0 0 0]                                   -0.964873\n",
       "7   [0 1 0 0 0 0 0 1 0 0]          near_angle, same_side     0.780513\n",
       "6   [0 1 0 0 0 0 1 0 0 0]         near_angle, same_block     0.375696\n",
       "2   [2 0 0 0 0 0 0 0 0 0]                     intersects     0.245316\n",
       "4   [0 2 0 0 0 0 0 0 0 0]                     near_angle    -0.091755\n",
       "8   [0 1 0 0 0 0 0 0 0 1]      near_angle, sw_width_diff    -0.032740\n",
       "10  [0 0 0 0 0 0 0 0 0 2]                  sw_width_diff     0.004202\n",
       "9   [0 0 2 0 0 0 0 0 0 0]                  near_distance     0.001410"
      ]
     },
     "execution_count": 13,
     "metadata": {},
     "output_type": "execute_result"
    }
   ],
   "source": [
    "logisticp = linear_model.LogisticRegression(penalty='l1', C=1e-2)\n",
    "logisticp.fit(Xp_train, yp_train)\n",
    "print 'Fit score: {}'.format(logisticp.score(Xp_test, yp_test))\n",
    "bases = []\n",
    "bases_names = []\n",
    "coefficients = []\n",
    "for bases_list, coefficient in zip(list(poly.powers_), logisticp.coef_[0]):\n",
    "    if coefficient:\n",
    "        bases.append(str(bases_list))\n",
    "        base_str = ', '.join(X.columns[np.where(np.logical_and(bases_list, X.columns))])\n",
    "        bases_names.append(base_str)\n",
    "        coefficients.append(coefficient)\n",
    "\n",
    "logisticp_np = np.column_stack([bases, bases_names, coefficients])\n",
    "logisticp_df = pd.DataFrame(logisticp_np, columns=['bases', 'columns', 'coefficient'])\n",
    "\n",
    "# Sort by absolute value of coefficient value\n",
    "logisticp_df.coefficient = logisticp_df.coefficient.astype(float)\n",
    "logisticp_df.reindex(logisticp_df.coefficient.abs().sort_values(ascending=False).index)"
   ]
  },
  {
   "cell_type": "code",
   "execution_count": 297,
   "metadata": {
    "collapsed": false
   },
   "outputs": [
    {
     "name": "stdout",
     "output_type": "stream",
     "text": [
      "\\begin{tabular}{llr}\n",
      "\\toprule\n",
      "{} &                        columns &  coefficient \\\\\n",
      "\\midrule\n",
      "3 &         intersects, near\\_angle &     2.553956 \\\\\n",
      "2 &                     intersects &     1.961741 \\\\\n",
      "5 &  near\\_angle, intersects\\_street &    -1.310491 \\\\\n",
      "0 &                                &    -1.190301 \\\\\n",
      "7 &          near\\_angle, same\\_side &     0.728959 \\\\\n",
      "6 &         near\\_angle, same\\_block &     0.395454 \\\\\n",
      "1 &                     intersects &     0.316879 \\\\\n",
      "4 &                     near\\_angle &    -0.082444 \\\\\n",
      "8 &      near\\_angle, sw\\_width\\_diff &    -0.050279 \\\\\n",
      "9 &                  near\\_distance &     0.003045 \\\\\n",
      "\\bottomrule\n",
      "\\end{tabular}\n",
      "\n"
     ]
    }
   ],
   "source": [
    "cf = logisticp_df.reindex(logisticp_df.coefficient.abs().sort_values(ascending=False).index)[['columns', 'coefficient']]\n",
    "print cf.to_latex()"
   ]
  },
  {
   "cell_type": "code",
   "execution_count": 261,
   "metadata": {
    "collapsed": false
   },
   "outputs": [
    {
     "name": "stdout",
     "output_type": "stream",
     "text": [
      "Precision score (what fraction of predicted connections are true): 0.977059178102\n",
      "Recall score (what fraction of connections were found?): 0.936005434783\n"
     ]
    },
    {
     "data": {
      "image/png": "[encoded data removed]",
      "text/plain": [
       "<matplotlib.figure.Figure at 0x7f0dd89b9590>"
      ]
     },
     "metadata": {},
     "output_type": "display_data"
    }
   ],
   "source": [
    "y_predp = logisticp.predict(Xp_test)\n",
    "y_probp = logisticp.predict_proba(Xp_test)[:,1]\n",
    "precisionp, recallp, thresholdsp = precision_recall_curve(yp_test, y_probp)\n",
    "print \"Precision score (what fraction of predicted connections are true): {}\".format(precision_score(yp_test, y_predp))\n",
    "print \"Recall score (what fraction of connections were found?): {}\".format(recall_score(yp_test, y_predp))\n",
    "\n",
    "plt.plot(recallp, precisionp)\n",
    "plt.xlabel('Recall')\n",
    "plt.ylabel('Precision')\n",
    "plt.show()"
   ]
  },
  {
   "cell_type": "code",
   "execution_count": 276,
   "metadata": {
    "collapsed": false
   },
   "outputs": [
    {
     "name": "stdout",
     "output_type": "stream",
     "text": [
      "Accuracy: 0.95 (+/- 0.21)\n"
     ]
    }
   ],
   "source": [
    "# Cross validation - splits into 10 distinct train-test folds and fits\n",
    "logisticp_scores = cross_validation.cross_val_score(logisticp, X, y, cv=10, n_jobs=-1)\n",
    "print(\"Accuracy: %0.2f (+/- %0.2f)\" % (logisticp_scores.mean(), logisticp_scores.std() * 2))"
   ]
  },
  {
   "cell_type": "code",
   "execution_count": 293,
   "metadata": {
    "collapsed": false
   },
   "outputs": [
    {
     "name": "stdout",
     "output_type": "stream",
     "text": [
      "[ 0.63503878  0.994587    0.99791808  0.99682507  0.99708531  0.99765784\n",
      "  0.99724131  0.99750156  0.96299188  0.95414086]\n",
      "[ 0.64211732  0.99474314  0.99786603  0.99672097  0.99708531  0.99765784\n",
      "  0.9970331   0.99729336  0.96283573  0.95346416]\n"
     ]
    }
   ],
   "source": [
    "print logistic_scores\n",
    "print logisticp_scores"
   ]
  },
  {
   "cell_type": "code",
   "execution_count": 52,
   "metadata": {
    "collapsed": false
   },
   "outputs": [
    {
     "name": "stdout",
     "output_type": "stream",
     "text": [
      "(192125, 66) (192125, 60)\n"
     ]
    }
   ],
   "source": [
    "# Retry after removing redundant boolean^2 columns\n",
    "powers = poly.powers_\n",
    "bool_cols = ['intersects', 'same_side', 'same_block', 'intersects_street', 'same_surftype', 'same_curbtype']\n",
    "bool_cols_i = [list(X.columns).index(col) for col in bool_cols]\n",
    "to_delete = []\n",
    "for i, row in enumerate(poly.powers_):\n",
    "    for col in bool_cols_i:\n",
    "        if row[col] == 2:\n",
    "            to_delete.append(i)\n",
    "\n",
    "Xp2 = Xp.copy()\n",
    "for j in reversed(sorted(to_delete)):\n",
    "    Xp2 = np.delete(Xp2, j, 1)\n",
    "    powers = np.delete(powers, j, 0)\n",
    "\n",
    "print Xp.shape, Xp2.shape\n",
    "\n",
    "Xp2_train, Xp2_test, yp2_train, yp2_test = cross_validation.train_test_split(Xp2, y, test_size=0.5)"
   ]
  },
  {
   "cell_type": "code",
   "execution_count": 53,
   "metadata": {
    "collapsed": false
   },
   "outputs": [
    {
     "name": "stdout",
     "output_type": "stream",
     "text": [
      "Fit score: 0.985488689714\n"
     ]
    },
    {
     "data": {
      "text/html": [
       "<div>\n",
       "<table border=\"1\" class=\"dataframe\">\n",
       "  <thead>\n",
       "    <tr style=\"text-align: right;\">\n",
       "      <th></th>\n",
       "      <th>bases</th>\n",
       "      <th>columns</th>\n",
       "      <th>coefficient</th>\n",
       "    </tr>\n",
       "  </thead>\n",
       "  <tbody>\n",
       "    <tr>\n",
       "      <th>1</th>\n",
       "      <td>[1 0 0 0 0 0 0 0 0 0]</td>\n",
       "      <td>intersects</td>\n",
       "      <td>5.046808</td>\n",
       "    </tr>\n",
       "    <tr>\n",
       "      <th>3</th>\n",
       "      <td>[1 1 0 0 0 0 0 0 0 0]</td>\n",
       "      <td>intersects, near_angle</td>\n",
       "      <td>2.605417</td>\n",
       "    </tr>\n",
       "    <tr>\n",
       "      <th>6</th>\n",
       "      <td>[0 1 0 1 0 0 0 0 0 0]</td>\n",
       "      <td>near_angle, intersects_street</td>\n",
       "      <td>-1.784610</td>\n",
       "    </tr>\n",
       "    <tr>\n",
       "      <th>0</th>\n",
       "      <td>[0 0 0 0 0 0 0 0 0 0]</td>\n",
       "      <td></td>\n",
       "      <td>-1.533625</td>\n",
       "    </tr>\n",
       "    <tr>\n",
       "      <th>13</th>\n",
       "      <td>[0 0 0 0 0 0 1 1 0 0]</td>\n",
       "      <td>same_block, same_side</td>\n",
       "      <td>0.906040</td>\n",
       "    </tr>\n",
       "    <tr>\n",
       "      <th>8</th>\n",
       "      <td>[0 1 0 0 0 0 0 1 0 0]</td>\n",
       "      <td>near_angle, same_side</td>\n",
       "      <td>0.881237</td>\n",
       "    </tr>\n",
       "    <tr>\n",
       "      <th>11</th>\n",
       "      <td>[0 0 0 1 0 0 1 0 0 0]</td>\n",
       "      <td>intersects_street, same_block</td>\n",
       "      <td>0.704957</td>\n",
       "    </tr>\n",
       "    <tr>\n",
       "      <th>12</th>\n",
       "      <td>[0 0 0 0 1 0 1 0 0 0]</td>\n",
       "      <td>same_curbtype, same_block</td>\n",
       "      <td>0.567016</td>\n",
       "    </tr>\n",
       "    <tr>\n",
       "      <th>14</th>\n",
       "      <td>[0 0 0 0 0 0 1 0 1 0]</td>\n",
       "      <td>same_block, length_diff</td>\n",
       "      <td>-0.466811</td>\n",
       "    </tr>\n",
       "    <tr>\n",
       "      <th>7</th>\n",
       "      <td>[0 1 0 0 0 0 1 0 0 0]</td>\n",
       "      <td>near_angle, same_block</td>\n",
       "      <td>0.174452</td>\n",
       "    </tr>\n",
       "    <tr>\n",
       "      <th>5</th>\n",
       "      <td>[0 1 1 0 0 0 0 0 0 0]</td>\n",
       "      <td>near_angle, near_distance</td>\n",
       "      <td>0.067858</td>\n",
       "    </tr>\n",
       "    <tr>\n",
       "      <th>4</th>\n",
       "      <td>[0 2 0 0 0 0 0 0 0 0]</td>\n",
       "      <td>near_angle</td>\n",
       "      <td>-0.062187</td>\n",
       "    </tr>\n",
       "    <tr>\n",
       "      <th>9</th>\n",
       "      <td>[0 1 0 0 0 0 0 0 0 1]</td>\n",
       "      <td>near_angle, sw_width_diff</td>\n",
       "      <td>-0.041256</td>\n",
       "    </tr>\n",
       "    <tr>\n",
       "      <th>2</th>\n",
       "      <td>[0 0 0 0 0 0 1 0 0 0]</td>\n",
       "      <td>same_block</td>\n",
       "      <td>0.037030</td>\n",
       "    </tr>\n",
       "    <tr>\n",
       "      <th>16</th>\n",
       "      <td>[0 0 0 0 0 0 0 0 0 2]</td>\n",
       "      <td>sw_width_diff</td>\n",
       "      <td>0.002130</td>\n",
       "    </tr>\n",
       "    <tr>\n",
       "      <th>15</th>\n",
       "      <td>[0 0 0 0 0 0 0 0 2 0]</td>\n",
       "      <td>length_diff</td>\n",
       "      <td>0.001580</td>\n",
       "    </tr>\n",
       "    <tr>\n",
       "      <th>10</th>\n",
       "      <td>[0 0 2 0 0 0 0 0 0 0]</td>\n",
       "      <td>near_distance</td>\n",
       "      <td>-0.000583</td>\n",
       "    </tr>\n",
       "  </tbody>\n",
       "</table>\n",
       "</div>"
      ],
      "text/plain": [
       "                    bases                        columns  coefficient\n",
       "1   [1 0 0 0 0 0 0 0 0 0]                     intersects     5.046808\n",
       "3   [1 1 0 0 0 0 0 0 0 0]         intersects, near_angle     2.605417\n",
       "6   [0 1 0 1 0 0 0 0 0 0]  near_angle, intersects_street    -1.784610\n",
       "0   [0 0 0 0 0 0 0 0 0 0]                                   -1.533625\n",
       "13  [0 0 0 0 0 0 1 1 0 0]          same_block, same_side     0.906040\n",
       "8   [0 1 0 0 0 0 0 1 0 0]          near_angle, same_side     0.881237\n",
       "11  [0 0 0 1 0 0 1 0 0 0]  intersects_street, same_block     0.704957\n",
       "12  [0 0 0 0 1 0 1 0 0 0]      same_curbtype, same_block     0.567016\n",
       "14  [0 0 0 0 0 0 1 0 1 0]        same_block, length_diff    -0.466811\n",
       "7   [0 1 0 0 0 0 1 0 0 0]         near_angle, same_block     0.174452\n",
       "5   [0 1 1 0 0 0 0 0 0 0]      near_angle, near_distance     0.067858\n",
       "4   [0 2 0 0 0 0 0 0 0 0]                     near_angle    -0.062187\n",
       "9   [0 1 0 0 0 0 0 0 0 1]      near_angle, sw_width_diff    -0.041256\n",
       "2   [0 0 0 0 0 0 1 0 0 0]                     same_block     0.037030\n",
       "16  [0 0 0 0 0 0 0 0 0 2]                  sw_width_diff     0.002130\n",
       "15  [0 0 0 0 0 0 0 0 2 0]                    length_diff     0.001580\n",
       "10  [0 0 2 0 0 0 0 0 0 0]                  near_distance    -0.000583"
      ]
     },
     "execution_count": 53,
     "metadata": {},
     "output_type": "execute_result"
    }
   ],
   "source": [
    "logisticp2 = linear_model.LogisticRegression(penalty='l1', C=1e-2)\n",
    "logisticp2.fit(Xp2_train, yp2_train)\n",
    "print 'Fit score: {}'.format(logisticp2.score(Xp2_test, yp2_test))\n",
    "bases = []\n",
    "bases_names = []\n",
    "coefficients = []\n",
    "for bases_list, coefficient in zip(list(powers), logisticp2.coef_[0]):\n",
    "    if coefficient:\n",
    "        bases.append(str(bases_list))\n",
    "        base_str = ', '.join(X.columns[np.where(np.logical_and(bases_list, X.columns))])\n",
    "        bases_names.append(base_str)\n",
    "        coefficients.append(coefficient)\n",
    "\n",
    "logisticp_np2 = np.column_stack([bases, bases_names, coefficients])\n",
    "logisticp_df2 = pd.DataFrame(logisticp_np2, columns=['bases', 'columns', 'coefficient'])\n",
    "\n",
    "# Sort by absolute value of coefficient value\n",
    "logisticp_df2.coefficient = logisticp_df2.coefficient.astype(float)\n",
    "logisticp_df2.reindex(logisticp_df2.coefficient.abs().sort_values(ascending=False).index)"
   ]
  },
  {
   "cell_type": "code",
   "execution_count": 46,
   "metadata": {
    "collapsed": false
   },
   "outputs": [
    {
     "name": "stdout",
     "output_type": "stream",
     "text": [
      "Precision score (what fraction of predicted connections are true): 0.978454865432\n",
      "Recall score (what fraction of connections were found?): 0.93468958022\n"
     ]
    },
    {
     "data": {
      "image/png": "[encoded data removed]",
      "text/plain": [
       "<matplotlib.figure.Figure at 0x7f031ebcb390>"
      ]
     },
     "metadata": {},
     "output_type": "display_data"
    }
   ],
   "source": [
    "y_predp2 = logisticp2.predict(Xp2_test)\n",
    "y_probp2 = logisticp2.predict_proba(Xp2_test)[:,1]\n",
    "precisionp2, recallp2, thresholdsp2 = precision_recall_curve(yp2_test, y_probp2)\n",
    "print \"Precision score (what fraction of predicted connections are true): {}\".format(precision_score(yp2_test, y_predp2))\n",
    "print \"Recall score (what fraction of connections were found?): {}\".format(recall_score(yp2_test, y_predp2))\n",
    "\n",
    "plt.plot(recallp2, precisionp2)\n",
    "plt.xlabel('Recall')\n",
    "plt.ylabel('Precision')\n",
    "plt.show()"
   ]
  },
  {
   "cell_type": "markdown",
   "metadata": {},
   "source": [
    "### Support Vector Machines"
   ]
  },
  {
   "cell_type": "code",
   "execution_count": 278,
   "metadata": {
    "collapsed": false
   },
   "outputs": [],
   "source": [
    "from sklearn import svm\n",
    "\n",
    "y_train_cls = y_train.copy()\n",
    "y_train_cls.loc[y_train == 0] = -1\n",
    "y_test_cls = y_test.copy()\n",
    "y_test_cls.loc[y_test == 0] = -1"
   ]
  },
  {
   "cell_type": "code",
   "execution_count": 279,
   "metadata": {
    "collapsed": false
   },
   "outputs": [
    {
     "name": "stdout",
     "output_type": "stream",
     "text": [
      "0.973859686663\n",
      "[[  2.08961491e+00  -9.30735915e-02   3.81828168e-02  -3.98930172e-01\n",
      "    2.71183573e-04   0.00000000e+00   3.33815565e-01   4.70197087e-01\n",
      "   -3.31922859e-02  -9.00199481e-03]]\n",
      "Precision: 0.999318773793\n",
      "Recall: 0.847050032268\n"
     ]
    }
   ],
   "source": [
    "svmc = svm.LinearSVC(penalty='l1', dual=False, C=1e-2)\n",
    "svmc.fit(X_train, y_train)\n",
    "print svmc.score(X_test, y_test)\n",
    "svmc_pred = svmc.predict(X_test)\n",
    "print svmc.coef_\n",
    "print 'Precision: {}'.format(precision_score(y_test, svmc_pred))\n",
    "print 'Recall: {}'.format(recall_score(y_test, svmc_pred))"
   ]
  },
  {
   "cell_type": "markdown",
   "metadata": {
    "collapsed": true
   },
   "source": [
    "### Recovering True positives, False Positives, etc for visualization"
   ]
  },
  {
   "cell_type": "code",
   "execution_count": 280,
   "metadata": {
    "collapsed": false
   },
   "outputs": [
    {
     "name": "stdout",
     "output_type": "stream",
     "text": [
      "(27732, 10)\n",
      "(159340, 10)\n",
      "(66, 10)\n",
      "(4987, 10)\n"
     ]
    }
   ],
   "source": [
    "X_pred = logistic.predict(X)\n",
    "\n",
    "X_out = X.copy()\n",
    "X_acc = X_pred == y\n",
    "\n",
    "true_positives = X_out[np.logical_and(X_pred, X_acc)]\n",
    "false_positives = X_out[np.logical_and(X_pred, np.logical_not(X_acc))]\n",
    "true_negatives = X_out[np.logical_and(np.logical_not(X_pred), X_acc)]\n",
    "false_negatives = X_out[np.logical_and(np.logical_not(X_pred), np.logical_not(X_acc))]\n",
    "\n",
    "print true_positives.shape\n",
    "print true_negatives.shape\n",
    "print false_positives.shape\n",
    "print false_negatives.shape"
   ]
  },
  {
   "cell_type": "code",
   "execution_count": 181,
   "metadata": {
    "collapsed": false
   },
   "outputs": [],
   "source": [
    "# We can export the data to GeoJSON for visualization. It's probably simplest to export all rows\n",
    "# as features and have a 'truth_value' property that's 'false positive', 'true positive', etc.\n",
    "\n",
    "# Actually, let's write a shapefile\n",
    "from shapely import wkt\n",
    "from shapely.geometry import mapping\n",
    "import fiona\n",
    "from fiona import crs\n",
    "\n",
    "epsg = crs.from_epsg(4269)  # \n",
    "\n",
    "# Note: this takes a while to run\n",
    "schema = {'geometry': 'LineString',\n",
    "          'properties': {'scored': 'str'}}\n",
    "\n",
    "with fiona.open('./learndata-predictions-latest.shp', 'w', 'ESRI Shapefile', schema, crs=epsg) as c:\n",
    "    for i in range(len(X_pred)):\n",
    "        feature = {}\n",
    "        feature['type'] = 'Feature'\n",
    "        geom = wkt.loads(near_line[i])\n",
    "        feature['geometry'] = mapping(geom)\n",
    "        if X_acc[i]:\n",
    "            if X_pred[i]:\n",
    "                properties = {'scored': 'true positive'}\n",
    "            else:\n",
    "                properties = {'scored': 'true negative'}\n",
    "        else:\n",
    "            if X_pred[i]:\n",
    "                properties = {'scored': 'false positive'}\n",
    "            else:\n",
    "                properties = {'scored': 'false negative'}\n",
    "        feature['properties'] = properties\n",
    "        \n",
    "        c.write(feature)"
   ]
  },
  {
   "cell_type": "code",
   "execution_count": 198,
   "metadata": {
    "collapsed": false
   },
   "outputs": [],
   "source": [
    "# Export errors as geojson for visualizing on github\n",
    "import json\n",
    "\n",
    "geojson = {}\n",
    "geojson['type'] = 'FeatureCollection'\n",
    "geojson['features'] = []\n",
    "\n",
    "for i in range(len(X_pred)):\n",
    "    if not X_acc[i]:\n",
    "        feature = {}\n",
    "        feature['type'] = 'Feature'\n",
    "        geom = wkt.loads(near_line[i])\n",
    "        feature['geometry'] = mapping(geom)\n",
    "        if X_pred[i]:\n",
    "            properties = {'predicted': 1,\n",
    "                          'type': 'false positive',\n",
    "                          'stroke': '#FC0000',\n",
    "                          'stroke-width': 5}\n",
    "        else:\n",
    "            properties = {'predicted': 0,\n",
    "                          'type': 'false negative',\n",
    "                          'stroke': '#093CA8',\n",
    "                          'stroke-width': 5}\n",
    "        feature['properties'] = properties\n",
    "        geojson['features'].append(feature)\n",
    "        \n",
    "with open('./learndata-errors.geojson', 'w') as f:\n",
    "    json.dump(geojson, f)"
   ]
  }
 ],
 "metadata": {
  "kernelspec": {
   "display_name": "Python 2",
   "language": "python",
   "name": "python2"
  },
  "language_info": {
   "codemirror_mode": {
    "name": "ipython",
    "version": 2
   },
   "file_extension": ".py",
   "mimetype": "text/x-python",
   "name": "python",
   "nbconvert_exporter": "python",
   "pygments_lexer": "ipython2",
   "version": "2.7.10"
  }
 },
 "nbformat": 4,
 "nbformat_minor": 0
}
